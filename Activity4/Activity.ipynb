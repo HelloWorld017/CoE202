{
  "nbformat": 4,
  "nbformat_minor": 0,
  "metadata": {
    "kernelspec": {
      "name": "python3",
      "display_name": "Python 3"
    },
    "language_info": {
      "codemirror_mode": {
        "name": "ipython",
        "version": 3
      },
      "file_extension": ".py",
      "mimetype": "text/x-python",
      "name": "python",
      "nbconvert_exporter": "python",
      "pygments_lexer": "ipython3",
      "version": "3.6.9"
    },
    "colab": {
      "name": "PJ04_20190146_KimYohan.ipynb",
      "provenance": [],
      "collapsed_sections": [],
      "toc_visible": true
    },
    "accelerator": "GPU"
  },
  "cells": [
    {
      "cell_type": "markdown",
      "metadata": {
        "id": "du1N-TRUxWjP",
        "colab_type": "text"
      },
      "source": [
        "# Activity 4. MNIST Hand-written digit classification\n",
        "\n",
        "### **2019/11/21 CoE 202 Fall**<br/>\n",
        "\n",
        "**Professor: Yong Hoon, Lee**</br>\n",
        "\n",
        "**TA:Beomgu Kang, Seungjun moon**"
      ]
    },
    {
      "cell_type": "code",
      "metadata": {
        "id": "9rAL9MNbxWjR",
        "colab_type": "code",
        "colab": {
          "base_uri": "https://localhost:8080/",
          "height": 63
        },
        "outputId": "e08c9ea4-7d1d-4ad0-b00f-836e0623d5da"
      },
      "source": [
        "from __future__ import print_function\n",
        "from collections import namedtuple\n",
        "from functools import partial\n",
        "\n",
        "import numpy as np\n",
        "import tensorflow as tf\n",
        "import matplotlib.pyplot as plt\n",
        "import time\n",
        "\n",
        "from tensorflow.examples.tutorials.mnist import input_data\n",
        "from tensorflow.python.training import moving_averages\n",
        "\n",
        "tf.logging.set_verbosity(tf.logging.ERROR)"
      ],
      "execution_count": 1,
      "outputs": [
        {
          "output_type": "display_data",
          "data": {
            "text/html": [
              "<p style=\"color: red;\">\n",
              "The default version of TensorFlow in Colab will soon switch to TensorFlow 2.x.<br>\n",
              "We recommend you <a href=\"https://www.tensorflow.org/guide/migrate\" target=\"_blank\">upgrade</a> now \n",
              "or ensure your notebook will continue to use TensorFlow 1.x via the <code>%tensorflow_version 1.x</code> magic:\n",
              "<a href=\"https://colab.research.google.com/notebooks/tensorflow_version.ipynb\" target=\"_blank\">more info</a>.</p>\n"
            ],
            "text/plain": [
              "<IPython.core.display.HTML object>"
            ]
          },
          "metadata": {
            "tags": []
          }
        }
      ]
    },
    {
      "cell_type": "markdown",
      "metadata": {
        "id": "bpqu7C5oxWjT",
        "colab_type": "text"
      },
      "source": [
        "## 1. Prepare the data\n",
        "### <a href=http://yann.lecun.com/exdb/mnist/>MNIST dataset</a>\n",
        "The MNIST has a training set of 55,000 examples, a validation set of 5,000 examples and a test set of 10,000 examples."
      ]
    },
    {
      "cell_type": "code",
      "metadata": {
        "id": "8a61b2TZxWjU",
        "colab_type": "code",
        "outputId": "4ce5155d-6516-4cfa-ad1d-3af7e783fb45",
        "colab": {
          "base_uri": "https://localhost:8080/",
          "height": 85
        }
      },
      "source": [
        "mnist = input_data.read_data_sets('./data/', one_hot=True)"
      ],
      "execution_count": 2,
      "outputs": [
        {
          "output_type": "stream",
          "text": [
            "Extracting ./data/train-images-idx3-ubyte.gz\n",
            "Extracting ./data/train-labels-idx1-ubyte.gz\n",
            "Extracting ./data/t10k-images-idx3-ubyte.gz\n",
            "Extracting ./data/t10k-labels-idx1-ubyte.gz\n"
          ],
          "name": "stdout"
        }
      ]
    },
    {
      "cell_type": "markdown",
      "metadata": {
        "id": "7CIWCPuSxWjW",
        "colab_type": "text"
      },
      "source": [
        "Load the training dataset"
      ]
    },
    {
      "cell_type": "code",
      "metadata": {
        "id": "XRGWvBbExWjW",
        "colab_type": "code",
        "colab": {}
      },
      "source": [
        "train_images = mnist.train.images[:1000]\n",
        "train_labels = mnist.train.labels[:1000]\n",
        "train_images = train_images.reshape([-1, 28, 28, 1])"
      ],
      "execution_count": 0,
      "outputs": []
    },
    {
      "cell_type": "markdown",
      "metadata": {
        "id": "hbTZVjatxWjY",
        "colab_type": "text"
      },
      "source": [
        "Load the validation sets"
      ]
    },
    {
      "cell_type": "code",
      "metadata": {
        "id": "I-Jcg2V-xWjZ",
        "colab_type": "code",
        "colab": {}
      },
      "source": [
        "val_images = mnist.validation.images\n",
        "val_labels = mnist.validation.labels\n",
        "val_images = val_images.reshape([-1, 28, 28, 1])"
      ],
      "execution_count": 0,
      "outputs": []
    },
    {
      "cell_type": "markdown",
      "metadata": {
        "id": "NeLJeaCrxWjb",
        "colab_type": "text"
      },
      "source": [
        "Plot the 1st hand-written digit and its one-hot label"
      ]
    },
    {
      "cell_type": "code",
      "metadata": {
        "id": "Vez8KK-2xWjb",
        "colab_type": "code",
        "outputId": "8ca5a04b-d7d4-4b60-8d2e-8563547c64b8",
        "colab": {
          "base_uri": "https://localhost:8080/",
          "height": 316
        }
      },
      "source": [
        "plt.imshow(train_images[0,:,:,0], cmap='Greys')\n",
        "print(\"\\nOne-hot labels for this image:\")\n",
        "print(train_labels[0])"
      ],
      "execution_count": 5,
      "outputs": [
        {
          "output_type": "stream",
          "text": [
            "\n",
            "One-hot labels for this image:\n",
            "[0. 0. 0. 0. 0. 0. 0. 1. 0. 0.]\n"
          ],
          "name": "stdout"
        },
        {
          "output_type": "display_data",
          "data": {
            "image/png": "[encoded data removed]",
            "text/plain": [
              "<Figure size 432x288 with 1 Axes>"
            ]
          },
          "metadata": {
            "tags": []
          }
        }
      ]
    },
    {
      "cell_type": "markdown",
      "metadata": {
        "id": "rgC84fb1xWjd",
        "colab_type": "text"
      },
      "source": [
        "## 2. Build a graph for VGGNet (Oxford, 2014)\n",
        "Very Deep Convolutional Networks for Large-scale image recognition\n",
        "https://arxiv.org/abs/1409.1556\n",
        "\n",
        "<img src=\"img/fig2.png\">"
      ]
    },
    {
      "cell_type": "markdown",
      "metadata": {
        "id": "RufG1FX9xWje",
        "colab_type": "text"
      },
      "source": [
        "### Set hyperparameters\n",
        "- ***log_dir*** : Directory name to save models\n",
        "- ***n_epochs*** : Maximun training epoch\n",
        "- ***n_outputs*** : The number of classes for labels\n",
        "- ***init_lr*** : Learning rate for gradient descent\n",
        "- ***l2_lambda*** : regularization parameter\n",
        "- ***batch_size*** : The number of images to update paramerters once"
      ]
    },
    {
      "cell_type": "code",
      "metadata": {
        "id": "Zw2_-rQBxWje",
        "colab_type": "code",
        "colab": {}
      },
      "source": [
        "log_dir = 'logs/'\n",
        "n_epochs = 20\n",
        "n_outputs = 10\n",
        "init_lr = 0.01\n",
        "batch_size = 100\n",
        "l2_lambda = 0.0001"
      ],
      "execution_count": 0,
      "outputs": []
    },
    {
      "cell_type": "markdown",
      "metadata": {
        "id": "JAt1NFu6xWjg",
        "colab_type": "text"
      },
      "source": [
        "### Placeholder for learning rate, input images and labels"
      ]
    },
    {
      "cell_type": "code",
      "metadata": {
        "id": "jdP3UlbAxWjh",
        "colab_type": "code",
        "colab": {}
      },
      "source": [
        "lrn_rate = tf.placeholder(tf.float32, shape=(), name='lrn_rate')\n",
        "images = tf.placeholder(tf.float32, shape=(None, 28, 28, 1), name='images')\n",
        "labels = tf.placeholder(tf.int32, shape=(None), name='labels')"
      ],
      "execution_count": 0,
      "outputs": []
    },
    {
      "cell_type": "code",
      "metadata": {
        "id": "0GyZxsYCxWjj",
        "colab_type": "code",
        "colab": {}
      },
      "source": [
        "def vggnet(images, labels=None):\n",
        "    vggnet_conv = partial(tf.layers.conv2d, kernel_regularizer=tf.contrib.layers.l2_regularizer(l2_lambda), padding=\"SAME\")\n",
        "    \n",
        "    ''' 1st conv. '''\n",
        "    x = vggnet_conv(images, filters=16, kernel_size=7, strides=[1,1])  # 7x7 filter, # of filters: 16, stride: 1\n",
        "    x = tf.layers.batch_normalization(x, name='bn1')                   # batch normalization\n",
        "    x = tf.nn.relu(x)                                                  # ReLU activation\n",
        "    \n",
        "    ''' 2nd conv.'''\n",
        "    x = vggnet_conv(x, filters=16, kernel_size=3, strides=[1,1])       # 3x3 filter, # of filters: 16, stride 1\n",
        "    x = tf.layers.batch_normalization(x, name='bn2')                   # batch normalization\n",
        "    x = tf.nn.relu(x)                                                  # ReLU activation\n",
        "    x = tf.layers.average_pooling2d(x, pool_size=[2,2], strides=[2,2]) # 2x2 average pooling, stride: 2\n",
        "    \n",
        "    ''' 3rd conv. '''\n",
        "    x = vggnet_conv(x, filters=32, kernel_size=3, strides=[1, 1])      # 3x3 filter, # of filters: 32, stride: 1\n",
        "    x = tf.layers.batch_normalization(x, name='bn3')                   # batch normalization\n",
        "    x = tf.nn.relu(x)                                                  # ReLU activation\n",
        "    \n",
        "    ''' 4th conv. '''\n",
        "    x = vggnet_conv(x, filters=32, kernel_size=3, strides=[1,1])       # 3x3 filter, # of filters: 32, stride 1\n",
        "    x = tf.layers.batch_normalization(x, name='bn4')                   # batch normalization\n",
        "    x = tf.nn.relu(x)                                                  # ReLU activation\n",
        "    x = tf.layers.average_pooling2d(x, pool_size=[2,2], strides=[2,2]) # 2x2 average pooling stride 2\n",
        "    \n",
        "    ''' 5th conv. '''\n",
        "    x = vggnet_conv(x, filters=64, kernel_size=3, strides=[1,1])       # 3x3 filter, # of filters: 64, stride: 1\n",
        "    x = tf.layers.batch_normalization(x, name='bn5')                   # batch normalization\n",
        "    x = tf.nn.relu(x)                                                  # ReLU activation\n",
        "    \n",
        "    ''' 6th conv. '''\n",
        "    x = vggnet_conv(x, filters=64, kernel_size=3, strides=[1,1])       # 3x3 filter, # of filters: 64, stride: 1\n",
        "    x = tf.layers.batch_normalization(x, name='bn6')                   # batch normalization\n",
        "    x = tf.nn.relu(x)                                                  # ReLU activation\n",
        "    \n",
        "    img_feat = tf.reduce_mean(x, [1, 2])                               # Global average pooling\n",
        "    return img_feat\n",
        "\n"
      ],
      "execution_count": 0,
      "outputs": []
    },
    {
      "cell_type": "markdown",
      "metadata": {
        "id": "JawVcrQW5yX5",
        "colab_type": "text"
      },
      "source": [
        "## Assignment model"
      ]
    },
    {
      "cell_type": "code",
      "metadata": {
        "id": "GMiQFHeM5yFb",
        "colab_type": "code",
        "colab": {}
      },
      "source": [
        "def assignment_net(images, labels=None):\n",
        "    # Abbreviation for\n",
        "    # Convolution > Batch Normalization > ReLU\n",
        "    def conv_bn_relu(x, **kwargs):\n",
        "        x = tf.layers.conv2d(\n",
        "            x,\n",
        "            kernel_regularizer=tf.contrib.layers.l2_regularizer(l2_lambda),\n",
        "            padding=\"SAME\",\n",
        "            **kwargs\n",
        "        )\n",
        "\n",
        "        x = tf.layers.batch_normalization(x)\n",
        "        x = tf.nn.relu(x)\n",
        "\n",
        "        return x\n",
        "    \n",
        "    # (Conv > BN > ReLU) 1\n",
        "    # 3x3 filter, # of filters: 16, stride: 1\n",
        "    # output: (None, 28, 28, 16)\n",
        "    x = conv_bn_relu(images, filters=16, kernel_size=3, strides=[1,1])\n",
        "\n",
        "    # (Conv > BN > ReLU) 2\n",
        "    # 3x3 filter, # of filters: 16, stride: 2\n",
        "    # input: x (None, 28, 28, 16) / output: (None, 14, 14, 16)\n",
        "    x1 = conv_bn_relu(x, filters=16, kernel_size=3, strides=[2, 2])\n",
        "    \n",
        "    # (Conv > BN > ReLU) 3 > Pool \n",
        "    # Conv: 3x3 filter, # of filters: 16, stride: 1\n",
        "    # Pool: 2x2 pool, stride: 2\n",
        "    # input: x (None, 28, 28, 16) / output: (None, 14, 14, 16)\n",
        "    x2 = conv_bn_relu(x, filters=16, kernel_size=3, strides=[1, 1])\n",
        "    x2 = tf.layers.average_pooling2d(x2, pool_size=[2, 2], strides=[2, 2])\n",
        "\n",
        "    # Element-wise Sum (x1 + x2)\n",
        "    # input: (None, 14, 14, 16) / output: (None, 14, 14, 16)\n",
        "    x3 = tf.add(x1, x2)\n",
        "\n",
        "    # (Conv > BN > ReLU) 4\n",
        "    # 3x3 filter, # of filters: 16, stride: 1\n",
        "    # input: (None, 14, 14, 16) / output: (None, 14, 14, 16)\n",
        "    x5 = conv_bn_relu(x3, filters=16, kernel_size=3, strides=[1, 1])\n",
        "\n",
        "    # Concatenate (x3, x5)\n",
        "    # Axis: 3\n",
        "    # input: (None, 14, 14, 16) * 2 / output: (None, 14, 14, 32)\n",
        "    output = tf.concat((x3, x5), axis=3)\n",
        "\n",
        "    # (Conv > BN > ReLU) 5\n",
        "    # 3x3 filter, # of filters: 32, stride: 1\n",
        "    # input: (None, 14, 14, 32) / output: (None, 14, 14, 32)\n",
        "    output = conv_bn_relu(output, filters=32, kernel_size=3, strides=[1, 1])\n",
        "\n",
        "    # Global Average Pool\n",
        "    # Axis: 1, 2\n",
        "    # input: (None, 14, 14, 32) / output: (None, 32)\n",
        "    output = tf.reduce_mean(output, axis = [1, 2])\n",
        "    \n",
        "    return output"
      ],
      "execution_count": 0,
      "outputs": []
    },
    {
      "cell_type": "markdown",
      "metadata": {
        "id": "4jQBpocHxWjk",
        "colab_type": "text"
      },
      "source": [
        "### Build a model"
      ]
    },
    {
      "cell_type": "code",
      "metadata": {
        "id": "X4gkku-XxWjl",
        "colab_type": "code",
        "colab": {}
      },
      "source": [
        "global_step = tf.Variable(0, trainable=False)\n",
        "\n",
        "with tf.variable_scope('embed') as scope:\n",
        "#     feats = simple_network(images)\n",
        "    feats = assignment_net(images)\n",
        "\n",
        "## Reshape\n",
        "# feats = tf.reshape(feats, [batch_size, 32])\n",
        "    \n",
        "## Logits\n",
        "logits = tf.layers.dense(feats, n_outputs, kernel_initializer=tf.uniform_unit_scaling_initializer(factor=2.0), \n",
        "                                               kernel_regularizer=tf.contrib.layers.l2_regularizer(l2_lambda))\n",
        "## Evaluation\n",
        "correct = tf.nn.in_top_k(logits, labels, 1)\n",
        "accuracy = tf.reduce_mean(tf.cast(correct, tf.float32))\n",
        "\n",
        "## SOFTMAX\n",
        "preds = tf.nn.softmax(logits)\n",
        "\n",
        "## Cost function\n",
        "cent = tf.nn.softmax_cross_entropy_with_logits_v2(logits=logits, labels=labels)\n",
        "cost_cls = tf.reduce_mean(cent, name='cent')"
      ],
      "execution_count": 0,
      "outputs": []
    },
    {
      "cell_type": "markdown",
      "metadata": {
        "id": "qRYT6pJUxWjn",
        "colab_type": "text"
      },
      "source": [
        "### L2 regularization"
      ]
    },
    {
      "cell_type": "code",
      "metadata": {
        "id": "qoGBjxLlxWjn",
        "colab_type": "code",
        "colab": {}
      },
      "source": [
        "reg_losses = tf.get_collection(tf.GraphKeys.REGULARIZATION_LOSSES)\n",
        "cost = tf.add_n([cost_cls] + reg_losses)"
      ],
      "execution_count": 0,
      "outputs": []
    },
    {
      "cell_type": "markdown",
      "metadata": {
        "id": "dJJw6_xaxWjp",
        "colab_type": "text"
      },
      "source": [
        "### Momentum optimizer"
      ]
    },
    {
      "cell_type": "code",
      "metadata": {
        "id": "b0Gwm1kVxWjq",
        "colab_type": "code",
        "colab": {}
      },
      "source": [
        "lr  = tf.train.exponential_decay(init_lr, global_step, 1000, 0.8, staircase = True) # learning rate decay\n",
        "optimizer = tf.train.MomentumOptimizer(lr, 0.9, use_nesterov=True)                  # Momentum optimizer\n",
        "train_op = optimizer.minimize(cost)"
      ],
      "execution_count": 0,
      "outputs": []
    },
    {
      "cell_type": "markdown",
      "metadata": {
        "id": "Qclk8Y5ZxWjs",
        "colab_type": "text"
      },
      "source": [
        "# 3. Train a model"
      ]
    },
    {
      "cell_type": "markdown",
      "metadata": {
        "id": "TdwfgbfHxWjs",
        "colab_type": "text"
      },
      "source": [
        "### Create a session and initialize parameters\n",
        "Tensorflow operations must be executed in the session."
      ]
    },
    {
      "cell_type": "code",
      "metadata": {
        "id": "ypsk0_qZxWjt",
        "colab_type": "code",
        "colab": {}
      },
      "source": [
        "## MAKE SESSION\n",
        "sess = tf.Session()\n",
        "\n",
        "## INITIALIZE SESSION\n",
        "sess.run(tf.global_variables_initializer())"
      ],
      "execution_count": 0,
      "outputs": []
    },
    {
      "cell_type": "markdown",
      "metadata": {
        "id": "R-qCU4juxWjv",
        "colab_type": "text"
      },
      "source": [
        "### Updates parameters with back-propagation"
      ]
    },
    {
      "cell_type": "code",
      "metadata": {
        "id": "gc5c-F86xWjv",
        "colab_type": "code",
        "outputId": "c8de8b4b-7b50-4c6b-8950-f67cdf604c73",
        "colab": {
          "base_uri": "https://localhost:8080/",
          "height": 391
        }
      },
      "source": [
        "# Validation Accuracies to draw a plot\n",
        "plot_data = {\n",
        "    'train': [],\n",
        "    'val': []\n",
        "}\n",
        "\n",
        "for epoch in range(n_epochs+1):\n",
        "    iteration_count = mnist.train.num_examples // batch_size\n",
        "    plot_per_iteration = iteration_count // 5\n",
        "\n",
        "    start_time = time.time()\n",
        "    for iteration in range(iteration_count):\n",
        "        X_batch, y_batch = mnist.train.next_batch(batch_size)\n",
        "        X_batch = X_batch.reshape([-1, 28, 28, 1])\n",
        "        (_, loss, loss_cls, prediction) = sess.run([train_op, cost, cost_cls, preds], \n",
        "                                                    feed_dict={images: X_batch, labels: y_batch})\n",
        "\n",
        "        ## Getting validation accuracy 5 times per epoch\n",
        "        if iteration % plot_per_iteration == 0:\n",
        "            acc_train = accuracy.eval(session=sess, feed_dict={images: X_batch, labels: np.argmax(y_batch, axis=1)})\n",
        "            plot_data['train'].append((epoch * iteration_count + iteration, acc_train))\n",
        "\n",
        "            acc_val = accuracy.eval(session=sess, feed_dict={images: val_images, labels: np.argmax(val_labels, axis=1)})\n",
        "            plot_data['val'].append((epoch * iteration_count + iteration, acc_val))\n",
        "    \n",
        "    duration = time.time() - start_time\n",
        "    sec_per_epoch = float(duration)\n",
        "\n",
        "    ## Accuracy every one epoch\n",
        "    if epoch % 1 == 0:\n",
        "        print(\n",
        "            '  [*] TRAINING Iteration %d, Loss: %.4f, Acc: %.4f, Val Acc: %.4f (Took %.3fs)' % (\n",
        "                    epoch, loss_cls,\n",
        "                    plot_data['train'][-1][1], plot_data['val'][-1][1],\n",
        "                    sec_per_epoch\n",
        "            )\n",
        "        )\n",
        "\n",
        "print('Optimization done.')"
      ],
      "execution_count": 14,
      "outputs": [
        {
          "output_type": "stream",
          "text": [
            "  [*] TRAINING Iteration 0, Loss: 0.4653, Acc: 0.8100, Val Acc: 0.7378 (Took 10.197s)\n",
            "  [*] TRAINING Iteration 1, Loss: 0.2434, Acc: 0.9300, Val Acc: 0.9444 (Took 7.892s)\n",
            "  [*] TRAINING Iteration 2, Loss: 0.1185, Acc: 0.9700, Val Acc: 0.9600 (Took 7.852s)\n",
            "  [*] TRAINING Iteration 3, Loss: 0.0477, Acc: 0.9700, Val Acc: 0.9708 (Took 7.895s)\n",
            "  [*] TRAINING Iteration 4, Loss: 0.0657, Acc: 0.9700, Val Acc: 0.9712 (Took 7.864s)\n",
            "  [*] TRAINING Iteration 5, Loss: 0.0478, Acc: 0.9700, Val Acc: 0.9778 (Took 7.853s)\n",
            "  [*] TRAINING Iteration 6, Loss: 0.1469, Acc: 1.0000, Val Acc: 0.9758 (Took 7.869s)\n",
            "  [*] TRAINING Iteration 7, Loss: 0.0287, Acc: 1.0000, Val Acc: 0.9798 (Took 7.865s)\n",
            "  [*] TRAINING Iteration 8, Loss: 0.0899, Acc: 1.0000, Val Acc: 0.9786 (Took 7.878s)\n",
            "  [*] TRAINING Iteration 9, Loss: 0.0688, Acc: 0.9800, Val Acc: 0.9830 (Took 7.870s)\n",
            "  [*] TRAINING Iteration 10, Loss: 0.1168, Acc: 0.9900, Val Acc: 0.9790 (Took 7.838s)\n",
            "  [*] TRAINING Iteration 11, Loss: 0.0569, Acc: 1.0000, Val Acc: 0.9774 (Took 7.835s)\n",
            "  [*] TRAINING Iteration 12, Loss: 0.0370, Acc: 0.9900, Val Acc: 0.9840 (Took 7.899s)\n",
            "  [*] TRAINING Iteration 13, Loss: 0.0488, Acc: 1.0000, Val Acc: 0.9842 (Took 7.847s)\n",
            "  [*] TRAINING Iteration 14, Loss: 0.0179, Acc: 0.9800, Val Acc: 0.9854 (Took 7.922s)\n",
            "  [*] TRAINING Iteration 15, Loss: 0.0554, Acc: 0.9900, Val Acc: 0.9814 (Took 7.865s)\n",
            "  [*] TRAINING Iteration 16, Loss: 0.0146, Acc: 0.9900, Val Acc: 0.9858 (Took 7.843s)\n",
            "  [*] TRAINING Iteration 17, Loss: 0.0549, Acc: 0.9900, Val Acc: 0.9808 (Took 7.878s)\n",
            "  [*] TRAINING Iteration 18, Loss: 0.0632, Acc: 1.0000, Val Acc: 0.9864 (Took 7.835s)\n",
            "  [*] TRAINING Iteration 19, Loss: 0.0340, Acc: 0.9700, Val Acc: 0.9878 (Took 7.874s)\n",
            "  [*] TRAINING Iteration 20, Loss: 0.0380, Acc: 1.0000, Val Acc: 0.9866 (Took 7.833s)\n",
            "Optimization done.\n"
          ],
          "name": "stdout"
        }
      ]
    },
    {
      "cell_type": "code",
      "metadata": {
        "id": "FO2iXHk8TAGy",
        "colab_type": "code",
        "colab": {
          "base_uri": "https://localhost:8080/",
          "height": 283
        },
        "outputId": "d33ae036-e8f1-4edb-859c-175f219525db"
      },
      "source": [
        "# Plotting\n",
        "\n",
        "plt.plot(*zip(*plot_data['train']))\n",
        "plt.plot(*zip(*plot_data['val']))\n",
        "plt.xlabel(\"Epochs\", fontsize=14, fontweight='bold')\n",
        "plt.ylabel(\"Accuracy\", fontsize=14, fontweight='bold')\n",
        "plt.legend(['Train', 'Validation'], loc='lower right')\n",
        "plt.show()"
      ],
      "execution_count": 15,
      "outputs": [
        {
          "output_type": "display_data",
          "data": {
            "image/png": "[encoded data removed]",
            "text/plain": [
              "<Figure size 432x288 with 1 Axes>"
            ]
          },
          "metadata": {
            "tags": []
          }
        }
      ]
    },
    {
      "cell_type": "markdown",
      "metadata": {
        "id": "12ZISUh3xWjx",
        "colab_type": "text"
      },
      "source": [
        "# 4. Test a model"
      ]
    },
    {
      "cell_type": "markdown",
      "metadata": {
        "id": "d0kYK2JHxWjy",
        "colab_type": "text"
      },
      "source": [
        "### Load the test images and labels"
      ]
    },
    {
      "cell_type": "code",
      "metadata": {
        "id": "HhVu9x2NxWjy",
        "colab_type": "code",
        "colab": {
          "base_uri": "https://localhost:8080/",
          "height": 316
        },
        "outputId": "615f7324-0a46-459a-d723-679935714227"
      },
      "source": [
        "## READ MNIST INPUTS\n",
        "test_images = mnist.test.images\n",
        "test_labels = mnist.test.labels\n",
        "test_images = test_images.reshape([-1, 28, 28, 1])\n",
        "\n",
        "## Plot the 1st test image and label\n",
        "plt.imshow(test_images[0,:,:,0], cmap='Greys')\n",
        "print(\"\\nOne-hot labels for this image:\")\n",
        "print(test_labels[0])"
      ],
      "execution_count": 16,
      "outputs": [
        {
          "output_type": "stream",
          "text": [
            "\n",
            "One-hot labels for this image:\n",
            "[0. 0. 0. 0. 0. 0. 0. 1. 0. 0.]\n"
          ],
          "name": "stdout"
        },
        {
          "output_type": "display_data",
          "data": {
            "image/png": "[encoded data removed]",
            "text/plain": [
              "<Figure size 432x288 with 1 Axes>"
            ]
          },
          "metadata": {
            "tags": []
          }
        }
      ]
    },
    {
      "cell_type": "markdown",
      "metadata": {
        "id": "f0QL06O-xWj0",
        "colab_type": "text"
      },
      "source": [
        "### Check the prediction for the first image"
      ]
    },
    {
      "cell_type": "code",
      "metadata": {
        "id": "meJfH4IlxWj1",
        "colab_type": "code",
        "colab": {
          "base_uri": "https://localhost:8080/",
          "height": 34
        },
        "outputId": "23be62d8-d47c-4932-d7de-eb7b0f38bba0"
      },
      "source": [
        "prediction = sess.run(preds, feed_dict={images: test_images[0,:,:,0].reshape(1,28,28,1), labels: test_labels[0]})\n",
        "\n",
        "print(\"The prediction of the network is: %d\" % np.argmax(prediction))"
      ],
      "execution_count": 17,
      "outputs": [
        {
          "output_type": "stream",
          "text": [
            "The prediction of the network is: 7\n"
          ],
          "name": "stdout"
        }
      ]
    },
    {
      "cell_type": "markdown",
      "metadata": {
        "id": "zmWwUZ6SxWj3",
        "colab_type": "text"
      },
      "source": [
        "### Average the accuray for test set"
      ]
    },
    {
      "cell_type": "code",
      "metadata": {
        "id": "WIlRBbzkxWj4",
        "colab_type": "code",
        "colab": {
          "base_uri": "https://localhost:8080/",
          "height": 34
        },
        "outputId": "87bd5d5d-004b-4fc6-d230-b9a24174bc19"
      },
      "source": [
        "test_acc = accuracy.eval(session=sess, feed_dict={images: test_images, labels: np.argmax(test_labels, axis=1)})\n",
        "print('Acc: %.4f' % test_acc)"
      ],
      "execution_count": 19,
      "outputs": [
        {
          "output_type": "stream",
          "text": [
            "Acc: 0.9852\n"
          ],
          "name": "stdout"
        }
      ]
    },
    {
      "cell_type": "markdown",
      "metadata": {
        "id": "EBWtbbHmxWj8",
        "colab_type": "text"
      },
      "source": [
        "## Assignment<hr>\n",
        "### 1. A simple network for MNIST\n",
        "Design the following CNN and apply the CNN to the MNIST dataset.</br>\n",
        "\n",
        "<img src=\"img/fig3.png\">\n",
        "\n",
        "***Hint)*** \n",
        "- Elementwise-sum: tf.add() <br/>\n",
        "- Concatenate: tf.concat()\n",
        "\n",
        "\n",
        "### Submission (Due: Nov. 28 Thu.)\n",
        "Compare the results with that of VGGNET and submit your report by Thursday, November 28 to **\"almona@kaist.ac.kr\"**"
      ]
    }
  ]
}