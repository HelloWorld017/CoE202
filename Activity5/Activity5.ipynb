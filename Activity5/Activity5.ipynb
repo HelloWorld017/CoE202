{
  "nbformat": 4,
  "nbformat_minor": 0,
  "metadata": {
    "kernelspec": {
      "name": "python3",
      "display_name": "Python 3"
    },
    "language_info": {
      "codemirror_mode": {
        "name": "ipython",
        "version": 3
      },
      "file_extension": ".py",
      "mimetype": "text/x-python",
      "name": "python",
      "nbconvert_exporter": "python",
      "pygments_lexer": "ipython3",
      "version": "3.6.8"
    },
    "colab": {
      "name": "Activity 5.ipynb",
      "provenance": [],
      "toc_visible": true
    },
    "accelerator": "GPU"
  },
  "cells": [
    {
      "cell_type": "markdown",
      "metadata": {
        "id": "gT0mw6drvcW3",
        "colab_type": "text"
      },
      "source": [
        "# 2019/12/03 CoE 202 Activity 5\n",
        "\n",
        "### **Name Classification**<br/>\n",
        "\n",
        "**Professor: Yong Hoon, Lee**</br>\n",
        "\n",
        "**TA : Seungjun moon, Beomgu Kang**"
      ]
    },
    {
      "cell_type": "code",
      "metadata": {
        "id": "ylRQEsTpvcW8",
        "colab_type": "code",
        "outputId": "2e2330c4-94d4-4686-a0aa-b9ac19ccb52e",
        "colab": {
          "base_uri": "https://localhost:8080/",
          "height": 62
        }
      },
      "source": [
        "import tensorflow as tf\n",
        "import numpy as np\n",
        "import os.path\n",
        "import string\n",
        "\n",
        "model_save_path = 'tmp/model.ckpt'\n",
        "tf.reset_default_graph()"
      ],
      "execution_count": 1,
      "outputs": [
        {
          "output_type": "display_data",
          "data": {
            "text/html": [
              "<p style=\"color: red;\">\n",
              "The default version of TensorFlow in Colab will soon switch to TensorFlow 2.x.<br>\n",
              "We recommend you <a href=\"https://www.tensorflow.org/guide/migrate\" target=\"_blank\">upgrade</a> now \n",
              "or ensure your notebook will continue to use TensorFlow 1.x via the <code>%tensorflow_version 1.x</code> magic:\n",
              "<a href=\"https://colab.research.google.com/notebooks/tensorflow_version.ipynb\" target=\"_blank\">more info</a>.</p>\n"
            ],
            "text/plain": [
              "<IPython.core.display.HTML object>"
            ]
          },
          "metadata": {
            "tags": []
          }
        }
      ]
    },
    {
      "cell_type": "markdown",
      "metadata": {
        "id": "gpWeTJ4BvcXI",
        "colab_type": "text"
      },
      "source": [
        "### Hyperparameters"
      ]
    },
    {
      "cell_type": "code",
      "metadata": {
        "id": "c-hUie9dvcXL",
        "colab_type": "code",
        "colab": {}
      },
      "source": [
        "learning_rate       = 0.005\n",
        "n_epoch             = 200\n",
        "n_hidden            = 128 # hidden layer features\n",
        "max_sequence_length = 19 # maximum number of characters is 19"
      ],
      "execution_count": 0,
      "outputs": []
    },
    {
      "cell_type": "code",
      "metadata": {
        "id": "NkQxJj66vcXX",
        "colab_type": "code",
        "colab": {}
      },
      "source": [
        "all_letters = string.ascii_letters + \" .,;'\"\n",
        "n_input     = len(all_letters)\n",
        "alphabet    = all_letters\n",
        "ethnicities = ['Chinese', 'Japanese', 'Vietnamese', 'Korean', 'Arabic','Czech','Dutch','English','French','German','Greek','Irish','Italian','Polish','Portuguese','Russian','Scottish','Spanish']\n",
        "n_classes   = len(ethnicities) # the number of classes\n",
        "\n",
        "name_strings, ethnicity_strings, str_list, names_list, ethnicity_list = [], [], [], [], []"
      ],
      "execution_count": 0,
      "outputs": []
    },
    {
      "cell_type": "markdown",
      "metadata": {
        "id": "0RdKjGScvcXh",
        "colab_type": "text"
      },
      "source": [
        "## Define functions"
      ]
    },
    {
      "cell_type": "code",
      "metadata": {
        "id": "6nhEeSORvcXl",
        "colab_type": "code",
        "colab": {}
      },
      "source": [
        "def weight_variable(shape):\n",
        "    initial = tf.truncated_normal(shape, stddev=0.1)\n",
        "    return tf.Variable(initial)"
      ],
      "execution_count": 0,
      "outputs": []
    },
    {
      "cell_type": "code",
      "metadata": {
        "id": "yGpmIILkvcXv",
        "colab_type": "code",
        "colab": {}
      },
      "source": [
        "def bias_variable(shape):\n",
        "    initial = tf.constant(0.1, shape=shape)\n",
        "    return tf.Variable(initial)"
      ],
      "execution_count": 0,
      "outputs": []
    },
    {
      "cell_type": "code",
      "metadata": {
        "id": "qre4MaBOvcX6",
        "colab_type": "code",
        "colab": {}
      },
      "source": [
        "def name_one_hot(name, max_sequence_length):\n",
        "    result = []\n",
        "    for char in name:\n",
        "        v = np.zeros(n_input, dtype=np.int) # count space as a character\n",
        "        v[alphabet.index(char)] = 1\n",
        "        result.append(v)\n",
        "    while len(result) < max_sequence_length:\n",
        "        result.append(np.zeros(n_input, dtype=np.int))\n",
        "    result = np.array(result)\n",
        "    return result"
      ],
      "execution_count": 0,
      "outputs": []
    },
    {
      "cell_type": "code",
      "metadata": {
        "id": "EnukbHX3vcYD",
        "colab_type": "code",
        "colab": {}
      },
      "source": [
        "def ethnicity_one_hot(ethnicity):\n",
        "    v = np.zeros(n_classes, dtype=np.int)\n",
        "    v[ethnicities.index(ethnicity)] = 1\n",
        "    return v"
      ],
      "execution_count": 0,
      "outputs": []
    },
    {
      "cell_type": "markdown",
      "metadata": {
        "id": "Ae1s7BaKvcYL",
        "colab_type": "text"
      },
      "source": [
        "## Data load "
      ]
    },
    {
      "cell_type": "code",
      "metadata": {
        "id": "QAf5OYAjvcYN",
        "colab_type": "code",
        "colab": {}
      },
      "source": [
        "with open('names_revised.csv', 'r') as csv:\n",
        "    for line in csv:       \n",
        "        l = [s.strip() for s in line.split(',')] # lowercase L, not capital i , l['name', 'ehnicity']\n",
        "        if(l[1] in ethnicities):\n",
        "            name_strings.append(l[0])\n",
        "            ethnicity_strings.append(l[1])\n",
        "            if len(l[0]) > max_sequence_length:\n",
        "                l[0] = l[0][:max_sequence_length]\n",
        "            names_list.append(name_one_hot(l[0], max_sequence_length)) # one-hot vector of each characters of name\n",
        "            ethnicity_list.append(ethnicity_one_hot(l[1])) # one-hot vector of ethnicity"
      ],
      "execution_count": 0,
      "outputs": []
    },
    {
      "cell_type": "markdown",
      "metadata": {
        "id": "YTeEAvR4vcYV",
        "colab_type": "text"
      },
      "source": [
        "## Training - Test Seperation"
      ]
    },
    {
      "cell_type": "code",
      "metadata": {
        "id": "DSTvliF9vcYY",
        "colab_type": "code",
        "colab": {}
      },
      "source": [
        "rng_state = np.random.get_state() # use the same random number generator state\n",
        "np.random.shuffle(names_list)     # when shuffling the two lists\n",
        "np.random.set_state(rng_state)    # they are effectively shuffled in parallel so that inputs still correspond to outputs after shuffling\n",
        "np.random.shuffle(ethnicity_list)"
      ],
      "execution_count": 0,
      "outputs": []
    },
    {
      "cell_type": "code",
      "metadata": {
        "id": "2tiys-qpvcYi",
        "colab_type": "code",
        "colab": {}
      },
      "source": [
        "size = len(names_list) \n",
        "train_size = np.int(size*2/3) \n",
        "\n",
        "training_X = np.array(names_list[:train_size])\n",
        "training_y = np.array(ethnicity_list[:train_size])\n",
        "testing_X = np.array(names_list[train_size:])\n",
        "testing_y = np.array(ethnicity_list[train_size:])"
      ],
      "execution_count": 0,
      "outputs": []
    },
    {
      "cell_type": "markdown",
      "metadata": {
        "id": "kUNxG4ekvcYw",
        "colab_type": "text"
      },
      "source": [
        "## Build a model"
      ]
    },
    {
      "cell_type": "code",
      "metadata": {
        "id": "DxjS0B_5vcY1",
        "colab_type": "code",
        "colab": {}
      },
      "source": [
        "X = tf.placeholder(tf.float32, [None, max_sequence_length, n_input])\n",
        "y = tf.placeholder(tf.float32, [None, n_classes])"
      ],
      "execution_count": 0,
      "outputs": []
    },
    {
      "cell_type": "code",
      "metadata": {
        "id": "GtmPAvBWvcZA",
        "colab_type": "code",
        "colab": {}
      },
      "source": [
        "out_weights = weight_variable([n_hidden, n_classes])\n",
        "out_biases = bias_variable([n_classes])"
      ],
      "execution_count": 0,
      "outputs": []
    },
    {
      "cell_type": "code",
      "metadata": {
        "scrolled": false,
        "id": "aoZL6i1FvcZM",
        "colab_type": "code",
        "colab": {}
      },
      "source": [
        "# Basic RNN\n",
        "# cells = tf.contrib.rnn.BasicRNNCell(num_units = 128)\n",
        "# LSTM\n",
        "# cells = tf.contrib.rnn.BasicLSTMCell(num_units = 128)\n",
        "# GRU\n",
        "# cells = tf.contrib.rnn.GRUCell(num_units = 128)\n",
        "\n",
        "# outputs, states = tf.nn.dynamic_rnn(cells, X, dtype=tf.float32)\n",
        "# y_ = tf.matmul(outputs[:,-1,:], out_weights) + out_biases # predict y based on final rnn output\n",
        "\n",
        "x = tf.reshape(X, [-1, max_sequence_length * n_input])\n",
        "\n",
        "w_init = tf.variance_scaling_initializer()\n",
        "b_init = tf.constant_initializer(0.)\n",
        "\n",
        "## 1st hidden layer\n",
        "w1 = tf.get_variable('weight1', [max_sequence_length * n_input, 256], initializer = w_init)  # weight for 1st hidden layer which have 256 units\n",
        "b1 = tf.get_variable('biases1', [256], initializer = b_init)                                 # bias for 1st hidden layer which have 256 units\n",
        "h  = tf.matmul(x, w1) + b1                                                                   # matrix multiplication\n",
        "h  = tf.nn.relu(h)                                                                           # relu activation\n",
        "\n",
        "## 2nd hidden layer\n",
        "w2 = tf.get_variable('weight2', [256, 256], initializer = w_init)                            # weight for 2nd hidden layer which have 256 units\n",
        "b2 = tf.get_variable('biases2', [256], initializer = b_init)                                 # bias for 2nd hidden layer which have 256 units\n",
        "h  = tf.matmul(h, w2) + b2                                                                   # matrix multiplication\n",
        "h  = tf.nn.relu(h)                                                                           # relu activation\n",
        "\n",
        "## output layer\n",
        "w3 = tf.get_variable('weight3', [256, n_classes], initializer = w_init)                      # weight for output layer which have n_classes units\n",
        "\n",
        "y_ = tf.matmul(h, w3)"
      ],
      "execution_count": 0,
      "outputs": []
    },
    {
      "cell_type": "code",
      "metadata": {
        "id": "_3GdfpmVvcZg",
        "colab_type": "code",
        "colab": {}
      },
      "source": [
        "loss = tf.reduce_mean(tf.nn.softmax_cross_entropy_with_logits_v2(logits=y_, labels=y))\n",
        "train_step = tf.train.AdamOptimizer(learning_rate=learning_rate).minimize(loss)"
      ],
      "execution_count": 0,
      "outputs": []
    },
    {
      "cell_type": "code",
      "metadata": {
        "id": "aTKzBc9avcZu",
        "colab_type": "code",
        "colab": {}
      },
      "source": [
        "# Evaluation\n",
        "correct_prediction = tf.equal(tf.argmax(y_,1), tf.argmax(y,1))\n",
        "accuracy = tf.reduce_mean(tf.cast(correct_prediction, tf.float32))"
      ],
      "execution_count": 0,
      "outputs": []
    },
    {
      "cell_type": "code",
      "metadata": {
        "id": "wRii0z8bvcZ2",
        "colab_type": "code",
        "colab": {}
      },
      "source": [
        "# Softmax\n",
        "pred = tf.nn.softmax(y_)"
      ],
      "execution_count": 0,
      "outputs": []
    },
    {
      "cell_type": "code",
      "metadata": {
        "id": "KVCFbHB6vcZ_",
        "colab_type": "code",
        "colab": {}
      },
      "source": [
        "init = tf.global_variables_initializer()\n",
        "saver = tf.train.Saver()"
      ],
      "execution_count": 0,
      "outputs": []
    },
    {
      "cell_type": "markdown",
      "metadata": {
        "id": "onYScywcvcaL",
        "colab_type": "text"
      },
      "source": [
        "## Train a model"
      ]
    },
    {
      "cell_type": "code",
      "metadata": {
        "id": "zwRKn-b8vcaU",
        "colab_type": "code",
        "colab": {}
      },
      "source": [
        "sess = tf.InteractiveSession()\n",
        "sess.run(init)"
      ],
      "execution_count": 0,
      "outputs": []
    },
    {
      "cell_type": "code",
      "metadata": {
        "scrolled": false,
        "id": "i87aP4ZAvcag",
        "colab_type": "code",
        "outputId": "66bdd96a-1a35-4cb3-ec82-0920b520d9de",
        "colab": {
          "base_uri": "https://localhost:8080/",
          "height": 739
        }
      },
      "source": [
        "\n",
        "\n",
        "for _ in range(n_epoch+1):\n",
        "    sess.run(train_step, feed_dict={X: training_X, y: training_y})\n",
        "    if _%10 == 0:\n",
        "        train_accuracy = accuracy.eval(feed_dict={X:training_X, y:training_y})\n",
        "        print(\"step %d, training accuracy %g\"%(_, train_accuracy))\n",
        "        test_accuracy = accuracy.eval(feed_dict={X:testing_X, y:testing_y})\n",
        "        print(\"testing accuracy\", test_accuracy)\n",
        "saver.save(sess, model_save_path)\n",
        "print(\"Model saved in file: %s\" % model_save_path)"
      ],
      "execution_count": 19,
      "outputs": [
        {
          "output_type": "stream",
          "text": [
            "step 0, training accuracy 0.468161\n",
            "testing accuracy 0.46943656\n",
            "step 10, training accuracy 0.502317\n",
            "testing accuracy 0.50261545\n",
            "step 20, training accuracy 0.65299\n",
            "testing accuracy 0.65132266\n",
            "step 30, training accuracy 0.69843\n",
            "testing accuracy 0.6919743\n",
            "step 40, training accuracy 0.748356\n",
            "testing accuracy 0.7309819\n",
            "step 50, training accuracy 0.792975\n",
            "testing accuracy 0.76326406\n",
            "step 60, training accuracy 0.836472\n",
            "testing accuracy 0.78314155\n",
            "step 70, training accuracy 0.875262\n",
            "testing accuracy 0.7934539\n",
            "step 80, training accuracy 0.908744\n",
            "testing accuracy 0.7992826\n",
            "step 90, training accuracy 0.933259\n",
            "testing accuracy 0.8004783\n",
            "step 100, training accuracy 0.951495\n",
            "testing accuracy 0.796443\n",
            "step 110, training accuracy 0.963976\n",
            "testing accuracy 0.7952474\n",
            "step 120, training accuracy 0.970329\n",
            "testing accuracy 0.7916604\n",
            "step 130, training accuracy 0.975112\n",
            "testing accuracy 0.7871768\n",
            "step 140, training accuracy 0.97728\n",
            "testing accuracy 0.783291\n",
            "step 150, training accuracy 0.978326\n",
            "testing accuracy 0.78179646\n",
            "step 160, training accuracy 0.978774\n",
            "testing accuracy 0.78149754\n",
            "step 170, training accuracy 0.978998\n",
            "testing accuracy 0.7819459\n",
            "step 180, training accuracy 0.979073\n",
            "testing accuracy 0.7808997\n",
            "step 190, training accuracy 0.979073\n",
            "testing accuracy 0.7813481\n",
            "step 200, training accuracy 0.979073\n",
            "testing accuracy 0.780003\n",
            "Model saved in file: tmp/model.ckpt\n"
          ],
          "name": "stdout"
        }
      ]
    },
    {
      "cell_type": "code",
      "metadata": {
        "id": "R_6t9FX0vcas",
        "colab_type": "code",
        "outputId": "34b58fbe-4c6d-48c1-96fb-6fec4fd5e959",
        "colab": {
          "base_uri": "https://localhost:8080/",
          "height": 521
        }
      },
      "source": [
        "i=0\n",
        "while i<5:\n",
        "    input_name = input('Enter a last name (max 19 letters):')\n",
        "   \n",
        "    while len(input_name) > max_sequence_length or len(input_name) == 0:\n",
        "        input_name = raw_input('Invalid input. Enter a last name (max 19 letters):')\n",
        "   \n",
        "    result=pred.eval(feed_dict={X: np.expand_dims(name_one_hot(input_name, 19), axis=0)})[0]\n",
        "    idx = np.argsort(result)[::-1]\n",
        "    print(\"\\n(%s): %.4f\" % (ethnicities[idx[0]], result[idx[0]]))\n",
        "    print(\"(%s): %.4f\" % (ethnicities[idx[1]], result[idx[1]]))\n",
        "    print(\"(%s): %.4f\" % (ethnicities[idx[2]], result[idx[2]]))\n",
        "    print(\"==========================================\")\n",
        "    i=i+1"
      ],
      "execution_count": 21,
      "outputs": [
        {
          "output_type": "stream",
          "text": [
            "Enter a last name (max 19 letters):Kim\n",
            "\n",
            "(Korean): 0.4762\n",
            "(Vietnamese): 0.4511\n",
            "(Chinese): 0.0187\n",
            "==========================================\n",
            "Enter a last name (max 19 letters):Steve\n",
            "\n",
            "(English): 0.9769\n",
            "(German): 0.0218\n",
            "(Czech): 0.0011\n",
            "==========================================\n",
            "Enter a last name (max 19 letters):Nguyen\n",
            "\n",
            "(Russian): 1.0000\n",
            "(Dutch): 0.0000\n",
            "(Vietnamese): 0.0000\n",
            "==========================================\n",
            "Enter a last name (max 19 letters):Chebyshev\n",
            "\n",
            "(Russian): 1.0000\n",
            "(Czech): 0.0000\n",
            "(Polish): 0.0000\n",
            "==========================================\n",
            "Enter a last name (max 19 letters):Kotonoha\n",
            "\n",
            "(Japanese): 1.0000\n",
            "(Czech): 0.0000\n",
            "(Russian): 0.0000\n",
            "==========================================\n"
          ],
          "name": "stdout"
        }
      ]
    },
    {
      "cell_type": "markdown",
      "metadata": {
        "id": "wi2H2W_xvca0",
        "colab_type": "text"
      },
      "source": [
        "## 4. Report\n",
        "\n",
        "### a. Use GRU, LSTM and Simple RNN functions for training . Compare each of results.\n",
        "\n",
        "### b. Replace the RNN with DNN as below."
      ]
    },
    {
      "cell_type": "code",
      "metadata": {
        "id": "jzB-SS2Svca2",
        "colab_type": "code",
        "colab": {}
      },
      "source": [
        "x = tf.reshape(X, [-1, max_sequence_length * n_input])\n",
        "\n",
        "w_init = tf.variance_scaling_initializer()\n",
        "b_init = tf.constant_initializer(0.)\n",
        "\n",
        "## 1st hidden layer\n",
        "w1 = tf.get_variable('weight1', [max_sequence_length * n_input, 256], initializer = w_init)  # weight for 1st hidden layer which have 256 units\n",
        "b1 = tf.get_variable('biases1', [256], initializer = b_init)                                 # bias for 1st hidden layer which have 256 units\n",
        "h  = tf.matmul(x, w1) + b1                                                                   # matrix multiplication\n",
        "h  = tf.nn.relu(h)                                                                           # relu activation\n",
        "\n",
        "## 2nd hidden layer\n",
        "w2 = tf.get_variable('weight2', [256, 256], initializer = w_init)                            # weight for 2nd hidden layer which have 256 units\n",
        "b2 = tf.get_variable('biases2', [256], initializer = b_init)                                 # bias for 2nd hidden layer which have 256 units\n",
        "h  = tf.matmul(h, w2) + b2                                                                   # matrix multiplication\n",
        "h  = tf.nn.relu(h)                                                                           # relu activation\n",
        "\n",
        "## output layer\n",
        "w3 = tf.get_variable('weight3', [256, 256], initializer = w_init)                            # weight for output layer which have 256 units\n",
        "\n",
        "y_ = tf.matmul(h, w3)"
      ],
      "execution_count": 0,
      "outputs": []
    },
    {
      "cell_type": "markdown",
      "metadata": {
        "id": "1sZz6NF5vcbB",
        "colab_type": "text"
      },
      "source": [
        "### Submission (Due: Dec. 10 Tue.)\n",
        "Submit your report by Tuesday, December 10 to **\"june1212@kaist.ac.kr\"**"
      ]
    }
  ]
}