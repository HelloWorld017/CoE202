{
 "cells": [
  {
   "cell_type": "code",
   "execution_count": 0,
   "metadata": {
    "colab": {
     "base_uri": "https://localhost:8080/",
     "height": 80
    },
    "colab_type": "code",
    "id": "X3-YpOofy0zO",
    "outputId": "878e93df-21a3-482a-ef39-4a6410b0b53c"
   },
   "outputs": [
    {
     "name": "stderr",
     "output_type": "stream",
     "text": [
      "Using TensorFlow backend.\n"
     ]
    },
    {
     "data": {
      "text/html": [
       "<p style=\"color: red;\">\n",
       "The default version of TensorFlow in Colab will soon switch to TensorFlow 2.x.<br>\n",
       "We recommend you <a href=\"https://www.tensorflow.org/guide/migrate\" target=\"_blank\">upgrade</a> now \n",
       "or ensure your notebook will continue to use TensorFlow 1.x via the <code>%tensorflow_version 1.x</code> magic:\n",
       "<a href=\"https://colab.research.google.com/notebooks/tensorflow_version.ipynb\" target=\"_blank\">more info</a>.</p>\n"
      ],
      "text/plain": [
       "<IPython.core.display.HTML object>"
      ]
     },
     "metadata": {
      "tags": []
     },
     "output_type": "display_data"
    }
   ],
   "source": [
    "import pickle\n",
    "import h5py\n",
    "import re\n",
    "import tqdm\n",
    "import numpy as np\n",
    "import pandas as pd\n",
    "import gzip\n",
    "\n",
    "from collections import Counter\n",
    "from keras.utils.np_utils import to_categorical\n",
    "\n",
    "re_sc = re.compile('[\\!@#$%\\^&\\*\\(\\)-=\\[\\]\\{\\}\\.,/\\?~\\+\\'\"|]')"
   ]
  },
  {
   "cell_type": "code",
   "execution_count": 0,
   "metadata": {
    "colab": {
     "base_uri": "https://localhost:8080/",
     "height": 122
    },
    "colab_type": "code",
    "id": "WO7sFdK1y0zV",
    "outputId": "d06759be-ae59-46ee-973c-2996b5032d22"
   },
   "outputs": [
    {
     "name": "stdout",
     "output_type": "stream",
     "text": [
      "Go to this URL in a browser: https://accounts.google.com/o/oauth2/auth?client_id=947318989803-6bn6qk8qdgf4n4g3pfee6491hc0brc4i.apps.googleusercontent.com&redirect_uri=urn%3Aietf%3Awg%3Aoauth%3A2.0%3Aoob&scope=email%20https%3A%2F%2Fwww.googleapis.com%2Fauth%2Fdocs.test%20https%3A%2F%2Fwww.googleapis.com%2Fauth%2Fdrive%20https%3A%2F%2Fwww.googleapis.com%2Fauth%2Fdrive.photos.readonly%20https%3A%2F%2Fwww.googleapis.com%2Fauth%2Fpeopleapi.readonly&response_type=code\n",
      "\n",
      "Enter your authorization code:\n",
      "··········\n",
      "Mounted at /content/drive\n"
     ]
    }
   ],
   "source": [
    "from google.colab import drive\n",
    "drive.mount('/content/drive')"
   ]
  },
  {
   "cell_type": "markdown",
   "metadata": {
    "colab_type": "text",
    "id": "lyYrQ7jNy0zZ"
   },
   "source": [
    "### Load the raw file"
   ]
  },
  {
   "cell_type": "code",
   "execution_count": 0,
   "metadata": {
    "colab": {
     "base_uri": "https://localhost:8080/",
     "height": 204
    },
    "colab_type": "code",
    "id": "Bk1jMyWIy0za",
    "outputId": "2d74a3bd-dc42-46c1-c828-b186ad391497"
   },
   "outputs": [
    {
     "data": {
      "text/html": [
       "<div>\n",
       "<style scoped>\n",
       "    .dataframe tbody tr th:only-of-type {\n",
       "        vertical-align: middle;\n",
       "    }\n",
       "\n",
       "    .dataframe tbody tr th {\n",
       "        vertical-align: top;\n",
       "    }\n",
       "\n",
       "    .dataframe thead th {\n",
       "        text-align: right;\n",
       "    }\n",
       "</style>\n",
       "<table border=\"1\" class=\"dataframe\">\n",
       "  <thead>\n",
       "    <tr style=\"text-align: right;\">\n",
       "      <th></th>\n",
       "      <th>pid</th>\n",
       "      <th>brand</th>\n",
       "      <th>model</th>\n",
       "      <th>maker</th>\n",
       "      <th>product</th>\n",
       "      <th>price</th>\n",
       "      <th>bcateid</th>\n",
       "      <th>mcateid</th>\n",
       "      <th>scateid</th>\n",
       "      <th>dcateid</th>\n",
       "    </tr>\n",
       "  </thead>\n",
       "  <tbody>\n",
       "    <tr>\n",
       "      <th>0</th>\n",
       "      <td>O4486751463</td>\n",
       "      <td>퍼즐라이프</td>\n",
       "      <td>퍼즐라이프 직소퍼즐 바다거북의 여행</td>\n",
       "      <td>상품상세설명 참조</td>\n",
       "      <td>직소퍼즐 - 1000조각 바다거북의 여행 (PL1275)</td>\n",
       "      <td>16520</td>\n",
       "      <td>1</td>\n",
       "      <td>1</td>\n",
       "      <td>2</td>\n",
       "      <td>-1</td>\n",
       "    </tr>\n",
       "    <tr>\n",
       "      <th>1</th>\n",
       "      <td>P3307178849</td>\n",
       "      <td>바보사랑</td>\n",
       "      <td>아이폰6S/6S+ tree farm101 - 다이어리케이스|아이폰6S/6S+</td>\n",
       "      <td>MORY|해당없음</td>\n",
       "      <td>[모리케이스]아이폰6S/6S+ tree farm101 - 다이어리케이스[바보사랑][...</td>\n",
       "      <td>20370</td>\n",
       "      <td>3</td>\n",
       "      <td>3</td>\n",
       "      <td>4</td>\n",
       "      <td>-1</td>\n",
       "    </tr>\n",
       "    <tr>\n",
       "      <th>2</th>\n",
       "      <td>R4424255515</td>\n",
       "      <td>크리비아</td>\n",
       "      <td>크리비아 기모 3부 속바지 GLG4314P</td>\n",
       "      <td>NaN</td>\n",
       "      <td>크리비아 기모 3부 속바지 GLG4314P</td>\n",
       "      <td>-1</td>\n",
       "      <td>5</td>\n",
       "      <td>5</td>\n",
       "      <td>6</td>\n",
       "      <td>-1</td>\n",
       "    </tr>\n",
       "    <tr>\n",
       "      <th>3</th>\n",
       "      <td>F3334315393</td>\n",
       "      <td>잭앤질</td>\n",
       "      <td>[잭앤질] 남성 솔리드 절개라인 포인트 포켓 팬츠 31133PT002_NA</td>\n",
       "      <td>㈜크리스패션</td>\n",
       "      <td>[하프클럽/잭앤질]남성 솔리드 절개라인 포인트 포켓 팬츠 31133PT002_NA</td>\n",
       "      <td>16280</td>\n",
       "      <td>7</td>\n",
       "      <td>7</td>\n",
       "      <td>8</td>\n",
       "      <td>-1</td>\n",
       "    </tr>\n",
       "    <tr>\n",
       "      <th>4</th>\n",
       "      <td>N731678492</td>\n",
       "      <td>NaN</td>\n",
       "      <td>SD코드프리혈당시험지[50매]</td>\n",
       "      <td>기타</td>\n",
       "      <td>코드프리혈당시험지50매/코드프리시험지/최장유효기간</td>\n",
       "      <td>-1</td>\n",
       "      <td>10</td>\n",
       "      <td>9</td>\n",
       "      <td>11</td>\n",
       "      <td>-1</td>\n",
       "    </tr>\n",
       "  </tbody>\n",
       "</table>\n",
       "</div>"
      ],
      "text/plain": [
       "           pid  brand  ... scateid dcateid\n",
       "0  O4486751463  퍼즐라이프  ...       2      -1\n",
       "1  P3307178849   바보사랑  ...       4      -1\n",
       "2  R4424255515   크리비아  ...       6      -1\n",
       "3  F3334315393    잭앤질  ...       8      -1\n",
       "4   N731678492    NaN  ...      11      -1\n",
       "\n",
       "[5 rows x 10 columns]"
      ]
     },
     "execution_count": 3,
     "metadata": {
      "tags": []
     },
     "output_type": "execute_result"
    }
   ],
   "source": [
    "df = pd.read_csv('./drive/My Drive/Colab Notebooks/CoE202_KakaoArena/train.chunk.csv', encoding='utf-8')\n",
    "\n",
    "df.head(5)"
   ]
  },
  {
   "cell_type": "markdown",
   "metadata": {
    "colab_type": "text",
    "id": "w0Mw9kH-y0ze"
   },
   "source": [
    "### Build label dictionary"
   ]
  },
  {
   "cell_type": "code",
   "execution_count": 0,
   "metadata": {
    "colab": {
     "base_uri": "https://localhost:8080/",
     "height": 34
    },
    "colab_type": "code",
    "id": "64RU-ZKly0ze",
    "outputId": "9135e6ac-059a-4b92-cae5-2d9f0f1e2b48"
   },
   "outputs": [
    {
     "name": "stderr",
     "output_type": "stream",
     "text": [
      "100%|██████████| 800000/800000 [00:35<00:00, 22522.77it/s]\n"
     ]
    }
   ],
   "source": [
    "y_vocab = {}                                          # Define dictionary for labels\n",
    "\n",
    "sz = df['pid'].shape[0]                               # The number of data, 800,000 here\n",
    "for i in tqdm.tqdm(range(sz), mininterval=1):         # tqdm predict the remaining time during for loop\n",
    "    b = df['bcateid'][i]                              # Get category 1\n",
    "    m = df['mcateid'][i]                              # Get category 2\n",
    "    s = df['scateid'][i]                              # Get category 3\n",
    "    d = df['dcateid'][i]                              # Get category 4\n",
    "    class_name = '{}>{}>{}>{}'.format(b, m ,s, d)     # Combine four categories\n",
    "    if class_name not in y_vocab:                     # If the combination of categories isn't in dictionary, add it to dictionary.\n",
    "        y_vocab[class_name] = len(y_vocab)\n",
    "    \n",
    "y_dict = {y: idx for idx, y in enumerate(y_vocab)}\n",
    "pickle.dump(y_dict, open('./drive/My Drive/Colab Notebooks/CoE202_KakaoArena/y_vocab.pickle', 'wb'), 2)"
   ]
  },
  {
   "cell_type": "markdown",
   "metadata": {
    "colab_type": "text",
    "id": "Pf1olVFRy0zh"
   },
   "source": [
    "### Parse the input data"
   ]
  },
  {
   "cell_type": "code",
   "execution_count": 0,
   "metadata": {
    "colab": {
     "base_uri": "https://localhost:8080/",
     "height": 34
    },
    "colab_type": "code",
    "id": "6IUxIxyEy0zi",
    "outputId": "aa8358a0-4648-4ef4-b67a-98ba36dbee99"
   },
   "outputs": [
    {
     "name": "stderr",
     "output_type": "stream",
     "text": [
      "100%|██████████| 800000/800000 [01:10<00:00, 11288.17it/s]\n"
     ]
    }
   ],
   "source": [
    "sz = df['pid'].shape[0]\n",
    "products, w_products, labels = [], [], []\n",
    "for i in tqdm.tqdm(range(sz), mininterval=1):\n",
    "    b = df['bcateid'][i]\n",
    "    m = df['mcateid'][i]\n",
    "    s = df['scateid'][i]\n",
    "    d = df['dcateid'][i]\n",
    "    class_name = '{}>{}>{}>{}'.format(b, m ,s, d)\n",
    "    \n",
    "    # label\n",
    "    Y = y_dict.get(class_name)\n",
    "    # Y = to_categorical(Y, len(y_dict))\n",
    "    \n",
    "    # product\n",
    "    feature = df['product'][i]                                # Get the product name\n",
    "    if isinstance(feature, str) and feature != 'nan':         # Check the product name is string or empty\n",
    "        feature = re_sc.sub(' ', feature).strip().split()     # re_sc eliminate the special symbols (!@#$\"...)\n",
    "                                                              # strip() is a function to remove blank before and after of strings\n",
    "                                                              # split() is the function of separating strings based on spaces.\n",
    "        words = [w.strip() for w in feature]                  # Make seperated words to list\n",
    "        words = [w for w in words                             \n",
    "                if len(w) >= 2 and len(w) < 31]               # If each word is less than 2 and more than 31 is discarded.\n",
    "\n",
    "        x = [hash(w) % 100000 + 1 for w in words]             # Mapping words to integer using hash function\n",
    "        xv = Counter(x).most_common(32)                       # Count the number of words in a string\n",
    "\n",
    "        x = np.zeros(32, dtype=np.int32)\n",
    "        v = np.zeros(32, dtype=np.int8)\n",
    "\n",
    "        for j in range(len(xv)):\n",
    "            x[j] = xv[j][0]                                   # Mapped integers of words\n",
    "            v[j] = xv[j][1]                                   # Counts of words\n",
    "            \n",
    "        products.append(x)\n",
    "        w_products.append(v)\n",
    "        labels.append(Y)"
   ]
  },
  {
   "cell_type": "markdown",
   "metadata": {
    "colab_type": "text",
    "id": "eTQD92nOy0zn"
   },
   "source": [
    "### Save the input vectors"
   ]
  },
  {
   "cell_type": "code",
   "execution_count": 0,
   "metadata": {
    "colab": {},
    "colab_type": "code",
    "id": "MGQRX9sju7er"
   },
   "outputs": [],
   "source": [
    "train_dset = {'product': np.asarray(products), 'w_product': np.asarray(w_products), 'label': np.asarray(labels)}\n",
    "\n",
    "with gzip.open('./drive/My Drive/Colab Notebooks/CoE202_KakaoArena/train.chunk.pickle', 'wb') as f:\n",
    "    pickle.dump(train_dset, f)"
   ]
  },
  {
   "cell_type": "markdown",
   "metadata": {
    "colab_type": "text",
    "id": "qh9lI5SYy0zr"
   },
   "source": [
    "### Parse the validation dataset"
   ]
  },
  {
   "cell_type": "code",
   "execution_count": 0,
   "metadata": {
    "colab": {
     "base_uri": "https://localhost:8080/",
     "height": 34
    },
    "colab_type": "code",
    "id": "rzw4x_uJy0zr",
    "outputId": "fea64a86-bdc4-497f-c3ff-b6f4538ba9e4"
   },
   "outputs": [
    {
     "name": "stderr",
     "output_type": "stream",
     "text": [
      "100%|██████████| 178830/178830 [00:16<00:00, 11140.39it/s]\n"
     ]
    }
   ],
   "source": [
    "df = pd.read_csv('./drive/My Drive/Colab Notebooks/CoE202_KakaoArena/valid.chunk.csv')\n",
    "sz = df['pid'].shape[0]\n",
    "products, w_products, labels = [], [], []\n",
    "for i in tqdm.tqdm(range(sz), mininterval=1):\n",
    "    b = df['bcateid'][i]\n",
    "    m = df['mcateid'][i]\n",
    "    s = df['scateid'][i]\n",
    "    d = df['dcateid'][i]\n",
    "    class_name = '{}>{}>{}>{}'.format(b, m ,s, d)\n",
    "    \n",
    "    # label\n",
    "    Y = y_dict.get(class_name)\n",
    "    # Y = to_categorical(Y, len(y_dict))\n",
    "    \n",
    "    # product\n",
    "    feature = df['product'][i]\n",
    "    if isinstance(feature, str) and feature != 'nan':\n",
    "        feature = re_sc.sub(' ', feature).strip().split()\n",
    "        words = [w.strip() for w in feature]\n",
    "        words = [w for w in words\n",
    "                if len(w) >= 2 and len(w) < 31]\n",
    "\n",
    "        x = [hash(w) % 100000 + 1 for w in words]\n",
    "        xv = Counter(x).most_common(32)\n",
    "\n",
    "        x = np.zeros(32, dtype=np.int32)\n",
    "        v = np.zeros(32, dtype=np.int8)\n",
    "\n",
    "        for j in range(len(xv)):\n",
    "            x[j] = xv[j][0]\n",
    "            v[j] = xv[j][1]\n",
    "            \n",
    "        products.append(x)\n",
    "        w_products.append(v)\n",
    "        labels.append(Y)"
   ]
  },
  {
   "cell_type": "markdown",
   "metadata": {
    "colab_type": "text",
    "id": "edeoatd-y0zt"
   },
   "source": [
    "### Save the validation vectors"
   ]
  },
  {
   "cell_type": "code",
   "execution_count": 0,
   "metadata": {
    "colab": {},
    "colab_type": "code",
    "id": "VpxyNWkQvyzP"
   },
   "outputs": [],
   "source": [
    "valid_dset = {'product': np.asarray(products), 'w_product': np.asarray(w_products), 'label': np.asarray(labels)}\n",
    "\n",
    "with gzip.open('./drive/My Drive/Colab Notebooks/CoE202_KakaoArena/valid.chunk.pickle', 'wb') as f:\n",
    "    pickle.dump(valid_dset, f)"
   ]
  },
  {
   "cell_type": "markdown",
   "metadata": {
    "colab_type": "text",
    "id": "dtWsBHsBy0zv"
   },
   "source": [
    "### Parse the test dataset"
   ]
  },
  {
   "cell_type": "code",
   "execution_count": 0,
   "metadata": {
    "colab": {
     "base_uri": "https://localhost:8080/",
     "height": 34
    },
    "colab_type": "code",
    "id": "VXLUb7YVy0zv",
    "outputId": "2dc2e1ca-d3be-4833-c84e-92b40f75fbd4"
   },
   "outputs": [
    {
     "name": "stderr",
     "output_type": "stream",
     "text": [
      "100%|██████████| 178830/178830 [00:09<00:00, 19276.99it/s]\n"
     ]
    }
   ],
   "source": [
    "df = pd.read_csv('./drive/My Drive/Colab Notebooks/CoE202_KakaoArena/test.chunk.csv')\n",
    "sz = df['pid'].shape[0]\n",
    "products, w_products, answer, pids = [], [], [], []\n",
    "for i in tqdm.tqdm(range(sz), mininterval=1):\n",
    "\n",
    "    # product\n",
    "    feature = df['product'][i]\n",
    "    pid = df['pid'][i]\n",
    "    if isinstance(feature, str) and feature != 'nan':\n",
    "        feature = re_sc.sub(' ', feature).strip().split()\n",
    "        words = [w.strip() for w in feature]\n",
    "        words = [w for w in words\n",
    "                if len(w) >= 2 and len(w) < 31]\n",
    "\n",
    "        x = [hash(w) % 100000 + 1 for w in words]\n",
    "        xv = Counter(x).most_common(32)\n",
    "\n",
    "        x = np.zeros(32, dtype=np.int32)\n",
    "        v = np.zeros(32, dtype=np.int8)\n",
    "\n",
    "        for j in range(len(xv)):\n",
    "            x[j] = xv[j][0]\n",
    "            v[j] = xv[j][1]\n",
    "            \n",
    "        products.append(x)\n",
    "        w_products.append(v)\n",
    "        pids.append(pid)"
   ]
  },
  {
   "cell_type": "markdown",
   "metadata": {
    "colab_type": "text",
    "id": "zPVuXmv9y0zz"
   },
   "source": [
    "### Save the test vectors"
   ]
  },
  {
   "cell_type": "code",
   "execution_count": 0,
   "metadata": {
    "colab": {},
    "colab_type": "code",
    "id": "o4pK3tXvxJ8y"
   },
   "outputs": [],
   "source": [
    "test_dset = {'product': np.asarray(products), 'w_product': np.asarray(w_products), 'pids': np.asarray(pids)}\n",
    "\n",
    "with gzip.open('./drive/My Drive/Colab Notebooks/CoE202_KakaoArena/test.chunk.pickle', 'wb') as f:\n",
    "    pickle.dump(test_dset, f)"
   ]
  },
  {
   "cell_type": "code",
   "execution_count": 0,
   "metadata": {
    "colab": {
     "base_uri": "https://localhost:8080/",
     "height": 34
    },
    "colab_type": "code",
    "id": "xblutzHGbvRB",
    "outputId": "6eeb60dc-ed5e-48ca-e8a4-f09b1d81b406"
   },
   "outputs": [
    {
     "data": {
      "text/plain": [
       "'T4364497649'"
      ]
     },
     "execution_count": 11,
     "metadata": {
      "tags": []
     },
     "output_type": "execute_result"
    }
   ],
   "source": [
    "pids[0]"
   ]
  }
 ],
 "metadata": {
  "colab": {
   "collapsed_sections": [],
   "name": "preprocess.ipynb",
   "provenance": [],
   "toc_visible": true
  },
  "kernelspec": {
   "display_name": "Python 3",
   "language": "python",
   "name": "python3"
  },
  "language_info": {
   "codemirror_mode": {
    "name": "ipython",
    "version": 3
   },
   "file_extension": ".py",
   "mimetype": "text/x-python",
   "name": "python",
   "nbconvert_exporter": "python",
   "pygments_lexer": "ipython3",
   "version": "3.7.2"
  }
 },
 "nbformat": 4,
 "nbformat_minor": 1
}
