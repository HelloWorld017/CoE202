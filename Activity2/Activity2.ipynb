{
  "nbformat": 4,
  "nbformat_minor": 0,
  "metadata": {
    "anaconda-cloud": {},
    "kernelspec": {
      "display_name": "Python [default]",
      "language": "python",
      "name": "python3"
    },
    "language_info": {
      "codemirror_mode": {
        "name": "ipython",
        "version": 3
      },
      "file_extension": ".py",
      "mimetype": "text/x-python",
      "name": "python",
      "nbconvert_exporter": "python",
      "pygments_lexer": "ipython3",
      "version": "3.5.5"
    },
    "colab": {
      "name": "PJ02 20190146 KimYohan.ipynb",
      "provenance": [],
      "collapsed_sections": [],
      "toc_visible": true
    }
  },
  "cells": [
    {
      "cell_type": "markdown",
      "metadata": {
        "id": "O22wLFPKkpWj",
        "colab_type": "text"
      },
      "source": [
        "# Activity 2: Titanic \n",
        "## Machine Learning from Disaster\n",
        "### _Tip> shortcuts for Jupyter Notebook_\n",
        "- **Shift + Enter**: run cell and select below\n",
        "\n",
        "### _Library_\n",
        "- **Numpy**: Fundamental package for array calculation\n",
        "- **Matplotlib**: Library for plotting\n",
        "- **Sklearn**: Library that contains basic classifiers"
      ]
    },
    {
      "cell_type": "markdown",
      "metadata": {
        "id": "P7fY8LEFkpWk",
        "colab_type": "text"
      },
      "source": [
        "![Sto%CC%88wer_Titanic.jpg](attachment:Sto%CC%88wer_Titanic.jpg)"
      ]
    },
    {
      "cell_type": "code",
      "metadata": {
        "scrolled": true,
        "id": "DkC2lWzakpWl",
        "colab_type": "code",
        "colab": {}
      },
      "source": [
        "# This is the library to use for this project.\n",
        "# It must be executed before the next cell execution.\n",
        "\n",
        "import pandas as pd\n",
        "import numpy as np\n",
        "import matplotlib.pyplot as plt\n",
        "\n",
        "from sklearn.linear_model import LogisticRegression\n",
        "from sklearn.svm import SVC\n",
        "from sklearn.ensemble import RandomForestClassifier\n",
        "from sklearn.naive_bayes import GaussianNB\n",
        "\n",
        "from sklearn.metrics import roc_curve\n",
        "from sklearn.metrics import roc_auc_score\n",
        "\n",
        "from sklearn.model_selection import cross_val_score"
      ],
      "execution_count": 0,
      "outputs": []
    },
    {
      "cell_type": "markdown",
      "metadata": {
        "id": "fS6n_HzMkpWo",
        "colab_type": "text"
      },
      "source": [
        "## 1. Data analysis\n",
        "$\\quad$Before applying the Preprocessing and Machine Learning algorithm, it is important to first understand how the given data is organized. The data presented by this Kaggle Project contains the following information.\n",
        "\n",
        "\n",
        "\n",
        "<br>\n",
        "![alt text](img\\info table.png \"Title\") \n",
        "<br>\n",
        "<br>\n",
        "$\\quad$Let's take a look at the description and code below to see how the above information is stored in the data and how the data is distributed.\n",
        "<br>\n",
        "<br>"
      ]
    },
    {
      "cell_type": "code",
      "metadata": {
        "scrolled": false,
        "id": "BB5LyceDkpWp",
        "colab_type": "code",
        "outputId": "38ddf93b-23e3-43ac-c9cb-5254dfb36a74",
        "colab": {
          "base_uri": "https://localhost:8080/",
          "height": 578
        }
      },
      "source": [
        "#  Read Data\n",
        "train_data = pd.read_csv('train.csv');\n",
        "test_data = pd.read_csv('test.csv');\n",
        "\n",
        "# Print Histograms of \"Age\" and \"Fare\" features\n",
        "print(train_data[[\"Age\"]].hist(bins=20))\n",
        "print(train_data[[\"Fare\"]].hist(bins=50))"
      ],
      "execution_count": 2,
      "outputs": [
        {
          "output_type": "stream",
          "text": [
            "[[<matplotlib.axes._subplots.AxesSubplot object at 0x7fa6730cbd30>]]\n",
            "[[<matplotlib.axes._subplots.AxesSubplot object at 0x7fa672ff78d0>]]\n"
          ],
          "name": "stdout"
        },
        {
          "output_type": "display_data",
          "data": {
            "image/png": "[encoded data removed]",
            "text/plain": [
              "<Figure size 432x288 with 1 Axes>"
            ]
          },
          "metadata": {
            "tags": []
          }
        },
        {
          "output_type": "display_data",
          "data": {
            "image/png": "[encoded data removed]",
            "text/plain": [
              "<Figure size 432x288 with 1 Axes>"
            ]
          },
          "metadata": {
            "tags": []
          }
        }
      ]
    },
    {
      "cell_type": "markdown",
      "metadata": {
        "id": "AiTMKUoQkpWr",
        "colab_type": "text"
      },
      "source": [
        "$\\quad$First, it reads the data. The data includes train.csv for training and test.csv for testing. Use the read_csv function of the pandas library to read both data. The imported data is specified as train_data and test_data, respectively.\n",
        "<br>\n",
        "\n",
        "$\\quad$It is necessary to check how the above information is stored in the read data. Let's run the code below to check out the parts of train.csv and test.csv."
      ]
    },
    {
      "cell_type": "code",
      "metadata": {
        "scrolled": true,
        "id": "_uA0tIP0kpWs",
        "colab_type": "code",
        "outputId": "ce3400f0-7733-41d1-8273-f118014a55bf",
        "colab": {
          "base_uri": "https://localhost:8080/",
          "height": 246
        }
      },
      "source": [
        "# read first 5 of train_data\n",
        "train_data.head()"
      ],
      "execution_count": 3,
      "outputs": [
        {
          "output_type": "execute_result",
          "data": {
            "text/html": [
              "<div>\n",
              "<style scoped>\n",
              "    .dataframe tbody tr th:only-of-type {\n",
              "        vertical-align: middle;\n",
              "    }\n",
              "\n",
              "    .dataframe tbody tr th {\n",
              "        vertical-align: top;\n",
              "    }\n",
              "\n",
              "    .dataframe thead th {\n",
              "        text-align: right;\n",
              "    }\n",
              "</style>\n",
              "<table border=\"1\" class=\"dataframe\">\n",
              "  <thead>\n",
              "    <tr style=\"text-align: right;\">\n",
              "      <th></th>\n",
              "      <th>PassengerId</th>\n",
              "      <th>Survived</th>\n",
              "      <th>Pclass</th>\n",
              "      <th>Name</th>\n",
              "      <th>Sex</th>\n",
              "      <th>Age</th>\n",
              "      <th>SibSp</th>\n",
              "      <th>Parch</th>\n",
              "      <th>Ticket</th>\n",
              "      <th>Fare</th>\n",
              "      <th>Cabin</th>\n",
              "      <th>Embarked</th>\n",
              "    </tr>\n",
              "  </thead>\n",
              "  <tbody>\n",
              "    <tr>\n",
              "      <th>0</th>\n",
              "      <td>1</td>\n",
              "      <td>0</td>\n",
              "      <td>3</td>\n",
              "      <td>Braund, Mr. Owen Harris</td>\n",
              "      <td>male</td>\n",
              "      <td>22.0</td>\n",
              "      <td>1</td>\n",
              "      <td>0</td>\n",
              "      <td>A/5 21171</td>\n",
              "      <td>7.2500</td>\n",
              "      <td>NaN</td>\n",
              "      <td>S</td>\n",
              "    </tr>\n",
              "    <tr>\n",
              "      <th>1</th>\n",
              "      <td>2</td>\n",
              "      <td>1</td>\n",
              "      <td>1</td>\n",
              "      <td>Cumings, Mrs. John Bradley (Florence Briggs Th...</td>\n",
              "      <td>female</td>\n",
              "      <td>38.0</td>\n",
              "      <td>1</td>\n",
              "      <td>0</td>\n",
              "      <td>PC 17599</td>\n",
              "      <td>71.2833</td>\n",
              "      <td>C85</td>\n",
              "      <td>C</td>\n",
              "    </tr>\n",
              "    <tr>\n",
              "      <th>2</th>\n",
              "      <td>3</td>\n",
              "      <td>1</td>\n",
              "      <td>3</td>\n",
              "      <td>Heikkinen, Miss. Laina</td>\n",
              "      <td>female</td>\n",
              "      <td>26.0</td>\n",
              "      <td>0</td>\n",
              "      <td>0</td>\n",
              "      <td>STON/O2. 3101282</td>\n",
              "      <td>7.9250</td>\n",
              "      <td>NaN</td>\n",
              "      <td>S</td>\n",
              "    </tr>\n",
              "    <tr>\n",
              "      <th>3</th>\n",
              "      <td>4</td>\n",
              "      <td>1</td>\n",
              "      <td>1</td>\n",
              "      <td>Futrelle, Mrs. Jacques Heath (Lily May Peel)</td>\n",
              "      <td>female</td>\n",
              "      <td>35.0</td>\n",
              "      <td>1</td>\n",
              "      <td>0</td>\n",
              "      <td>113803</td>\n",
              "      <td>53.1000</td>\n",
              "      <td>C123</td>\n",
              "      <td>S</td>\n",
              "    </tr>\n",
              "    <tr>\n",
              "      <th>4</th>\n",
              "      <td>5</td>\n",
              "      <td>0</td>\n",
              "      <td>3</td>\n",
              "      <td>Allen, Mr. William Henry</td>\n",
              "      <td>male</td>\n",
              "      <td>35.0</td>\n",
              "      <td>0</td>\n",
              "      <td>0</td>\n",
              "      <td>373450</td>\n",
              "      <td>8.0500</td>\n",
              "      <td>NaN</td>\n",
              "      <td>S</td>\n",
              "    </tr>\n",
              "  </tbody>\n",
              "</table>\n",
              "</div>"
            ],
            "text/plain": [
              "   PassengerId  Survived  Pclass  ...     Fare Cabin  Embarked\n",
              "0            1         0       3  ...   7.2500   NaN         S\n",
              "1            2         1       1  ...  71.2833   C85         C\n",
              "2            3         1       3  ...   7.9250   NaN         S\n",
              "3            4         1       1  ...  53.1000  C123         S\n",
              "4            5         0       3  ...   8.0500   NaN         S\n",
              "\n",
              "[5 rows x 12 columns]"
            ]
          },
          "metadata": {
            "tags": []
          },
          "execution_count": 3
        }
      ]
    },
    {
      "cell_type": "code",
      "metadata": {
        "scrolled": true,
        "id": "GgZN-FjDkpWu",
        "colab_type": "code",
        "outputId": "24ab58e9-25af-4040-d856-1b6516e55793",
        "colab": {
          "base_uri": "https://localhost:8080/",
          "height": 195
        }
      },
      "source": [
        "# read last 5 of train_data\n",
        "train_data.tail()"
      ],
      "execution_count": 4,
      "outputs": [
        {
          "output_type": "execute_result",
          "data": {
            "text/html": [
              "<div>\n",
              "<style scoped>\n",
              "    .dataframe tbody tr th:only-of-type {\n",
              "        vertical-align: middle;\n",
              "    }\n",
              "\n",
              "    .dataframe tbody tr th {\n",
              "        vertical-align: top;\n",
              "    }\n",
              "\n",
              "    .dataframe thead th {\n",
              "        text-align: right;\n",
              "    }\n",
              "</style>\n",
              "<table border=\"1\" class=\"dataframe\">\n",
              "  <thead>\n",
              "    <tr style=\"text-align: right;\">\n",
              "      <th></th>\n",
              "      <th>PassengerId</th>\n",
              "      <th>Survived</th>\n",
              "      <th>Pclass</th>\n",
              "      <th>Name</th>\n",
              "      <th>Sex</th>\n",
              "      <th>Age</th>\n",
              "      <th>SibSp</th>\n",
              "      <th>Parch</th>\n",
              "      <th>Ticket</th>\n",
              "      <th>Fare</th>\n",
              "      <th>Cabin</th>\n",
              "      <th>Embarked</th>\n",
              "    </tr>\n",
              "  </thead>\n",
              "  <tbody>\n",
              "    <tr>\n",
              "      <th>886</th>\n",
              "      <td>887</td>\n",
              "      <td>0</td>\n",
              "      <td>2</td>\n",
              "      <td>Montvila, Rev. Juozas</td>\n",
              "      <td>male</td>\n",
              "      <td>27.0</td>\n",
              "      <td>0</td>\n",
              "      <td>0</td>\n",
              "      <td>211536</td>\n",
              "      <td>13.00</td>\n",
              "      <td>NaN</td>\n",
              "      <td>S</td>\n",
              "    </tr>\n",
              "    <tr>\n",
              "      <th>887</th>\n",
              "      <td>888</td>\n",
              "      <td>1</td>\n",
              "      <td>1</td>\n",
              "      <td>Graham, Miss. Margaret Edith</td>\n",
              "      <td>female</td>\n",
              "      <td>19.0</td>\n",
              "      <td>0</td>\n",
              "      <td>0</td>\n",
              "      <td>112053</td>\n",
              "      <td>30.00</td>\n",
              "      <td>B42</td>\n",
              "      <td>S</td>\n",
              "    </tr>\n",
              "    <tr>\n",
              "      <th>888</th>\n",
              "      <td>889</td>\n",
              "      <td>0</td>\n",
              "      <td>3</td>\n",
              "      <td>Johnston, Miss. Catherine Helen \"Carrie\"</td>\n",
              "      <td>female</td>\n",
              "      <td>NaN</td>\n",
              "      <td>1</td>\n",
              "      <td>2</td>\n",
              "      <td>W./C. 6607</td>\n",
              "      <td>23.45</td>\n",
              "      <td>NaN</td>\n",
              "      <td>S</td>\n",
              "    </tr>\n",
              "    <tr>\n",
              "      <th>889</th>\n",
              "      <td>890</td>\n",
              "      <td>1</td>\n",
              "      <td>1</td>\n",
              "      <td>Behr, Mr. Karl Howell</td>\n",
              "      <td>male</td>\n",
              "      <td>26.0</td>\n",
              "      <td>0</td>\n",
              "      <td>0</td>\n",
              "      <td>111369</td>\n",
              "      <td>30.00</td>\n",
              "      <td>C148</td>\n",
              "      <td>C</td>\n",
              "    </tr>\n",
              "    <tr>\n",
              "      <th>890</th>\n",
              "      <td>891</td>\n",
              "      <td>0</td>\n",
              "      <td>3</td>\n",
              "      <td>Dooley, Mr. Patrick</td>\n",
              "      <td>male</td>\n",
              "      <td>32.0</td>\n",
              "      <td>0</td>\n",
              "      <td>0</td>\n",
              "      <td>370376</td>\n",
              "      <td>7.75</td>\n",
              "      <td>NaN</td>\n",
              "      <td>Q</td>\n",
              "    </tr>\n",
              "  </tbody>\n",
              "</table>\n",
              "</div>"
            ],
            "text/plain": [
              "     PassengerId  Survived  Pclass  ...   Fare Cabin  Embarked\n",
              "886          887         0       2  ...  13.00   NaN         S\n",
              "887          888         1       1  ...  30.00   B42         S\n",
              "888          889         0       3  ...  23.45   NaN         S\n",
              "889          890         1       1  ...  30.00  C148         C\n",
              "890          891         0       3  ...   7.75   NaN         Q\n",
              "\n",
              "[5 rows x 12 columns]"
            ]
          },
          "metadata": {
            "tags": []
          },
          "execution_count": 4
        }
      ]
    },
    {
      "cell_type": "markdown",
      "metadata": {
        "id": "b-8vqZGbkpWw",
        "colab_type": "text"
      },
      "source": [
        "$\\quad$train_data is used for each row to display \"PassangerId\", \"Survived\", \"Pclass\", \"Name\", \"Sex\", \"Age\", \"SibSp\", \"Parch\", \"Ticket\", \"Embarked\" information. Here, 11 pieces of information except for \"Survived\" correspond to the feature, and \"Survived\" corresponds to the label. 0 means \"dead\" and 1 means \"survived\".\n",
        "\"Pclass\" is for ticket class. The lower the number is, the higher the ticket class is. \"Cabin\" is cabinet number. \"Embarked\" is boarding port. There were three places to board, S(Southampton), C(Cherbourg) and Q(Queenstown).\n",
        "<br>\n",
        "<br>"
      ]
    },
    {
      "cell_type": "code",
      "metadata": {
        "scrolled": true,
        "id": "7mV8MVRWkpWx",
        "colab_type": "code",
        "outputId": "6865aba5-2008-4cc1-907d-411092d19cce",
        "colab": {
          "base_uri": "https://localhost:8080/",
          "height": 195
        }
      },
      "source": [
        "# read first 5 of test_data\n",
        "test_data.head()"
      ],
      "execution_count": 5,
      "outputs": [
        {
          "output_type": "execute_result",
          "data": {
            "text/html": [
              "<div>\n",
              "<style scoped>\n",
              "    .dataframe tbody tr th:only-of-type {\n",
              "        vertical-align: middle;\n",
              "    }\n",
              "\n",
              "    .dataframe tbody tr th {\n",
              "        vertical-align: top;\n",
              "    }\n",
              "\n",
              "    .dataframe thead th {\n",
              "        text-align: right;\n",
              "    }\n",
              "</style>\n",
              "<table border=\"1\" class=\"dataframe\">\n",
              "  <thead>\n",
              "    <tr style=\"text-align: right;\">\n",
              "      <th></th>\n",
              "      <th>PassengerId</th>\n",
              "      <th>Pclass</th>\n",
              "      <th>Name</th>\n",
              "      <th>Sex</th>\n",
              "      <th>Age</th>\n",
              "      <th>SibSp</th>\n",
              "      <th>Parch</th>\n",
              "      <th>Ticket</th>\n",
              "      <th>Fare</th>\n",
              "      <th>Cabin</th>\n",
              "      <th>Embarked</th>\n",
              "    </tr>\n",
              "  </thead>\n",
              "  <tbody>\n",
              "    <tr>\n",
              "      <th>0</th>\n",
              "      <td>892</td>\n",
              "      <td>3</td>\n",
              "      <td>Kelly, Mr. James</td>\n",
              "      <td>male</td>\n",
              "      <td>34.5</td>\n",
              "      <td>0</td>\n",
              "      <td>0</td>\n",
              "      <td>330911</td>\n",
              "      <td>7.8292</td>\n",
              "      <td>NaN</td>\n",
              "      <td>Q</td>\n",
              "    </tr>\n",
              "    <tr>\n",
              "      <th>1</th>\n",
              "      <td>893</td>\n",
              "      <td>3</td>\n",
              "      <td>Wilkes, Mrs. James (Ellen Needs)</td>\n",
              "      <td>female</td>\n",
              "      <td>47.0</td>\n",
              "      <td>1</td>\n",
              "      <td>0</td>\n",
              "      <td>363272</td>\n",
              "      <td>7.0000</td>\n",
              "      <td>NaN</td>\n",
              "      <td>S</td>\n",
              "    </tr>\n",
              "    <tr>\n",
              "      <th>2</th>\n",
              "      <td>894</td>\n",
              "      <td>2</td>\n",
              "      <td>Myles, Mr. Thomas Francis</td>\n",
              "      <td>male</td>\n",
              "      <td>62.0</td>\n",
              "      <td>0</td>\n",
              "      <td>0</td>\n",
              "      <td>240276</td>\n",
              "      <td>9.6875</td>\n",
              "      <td>NaN</td>\n",
              "      <td>Q</td>\n",
              "    </tr>\n",
              "    <tr>\n",
              "      <th>3</th>\n",
              "      <td>895</td>\n",
              "      <td>3</td>\n",
              "      <td>Wirz, Mr. Albert</td>\n",
              "      <td>male</td>\n",
              "      <td>27.0</td>\n",
              "      <td>0</td>\n",
              "      <td>0</td>\n",
              "      <td>315154</td>\n",
              "      <td>8.6625</td>\n",
              "      <td>NaN</td>\n",
              "      <td>S</td>\n",
              "    </tr>\n",
              "    <tr>\n",
              "      <th>4</th>\n",
              "      <td>896</td>\n",
              "      <td>3</td>\n",
              "      <td>Hirvonen, Mrs. Alexander (Helga E Lindqvist)</td>\n",
              "      <td>female</td>\n",
              "      <td>22.0</td>\n",
              "      <td>1</td>\n",
              "      <td>1</td>\n",
              "      <td>3101298</td>\n",
              "      <td>12.2875</td>\n",
              "      <td>NaN</td>\n",
              "      <td>S</td>\n",
              "    </tr>\n",
              "  </tbody>\n",
              "</table>\n",
              "</div>"
            ],
            "text/plain": [
              "   PassengerId  Pclass  ... Cabin Embarked\n",
              "0          892       3  ...   NaN        Q\n",
              "1          893       3  ...   NaN        S\n",
              "2          894       2  ...   NaN        Q\n",
              "3          895       3  ...   NaN        S\n",
              "4          896       3  ...   NaN        S\n",
              "\n",
              "[5 rows x 11 columns]"
            ]
          },
          "metadata": {
            "tags": []
          },
          "execution_count": 5
        }
      ]
    },
    {
      "cell_type": "code",
      "metadata": {
        "scrolled": true,
        "id": "9Hg6tMmekpWz",
        "colab_type": "code",
        "outputId": "2bb88758-17c4-4b0e-f7cb-4635e1584288",
        "colab": {
          "base_uri": "https://localhost:8080/",
          "height": 195
        }
      },
      "source": [
        "# read last 5 of test_data\n",
        "test_data.tail()"
      ],
      "execution_count": 6,
      "outputs": [
        {
          "output_type": "execute_result",
          "data": {
            "text/html": [
              "<div>\n",
              "<style scoped>\n",
              "    .dataframe tbody tr th:only-of-type {\n",
              "        vertical-align: middle;\n",
              "    }\n",
              "\n",
              "    .dataframe tbody tr th {\n",
              "        vertical-align: top;\n",
              "    }\n",
              "\n",
              "    .dataframe thead th {\n",
              "        text-align: right;\n",
              "    }\n",
              "</style>\n",
              "<table border=\"1\" class=\"dataframe\">\n",
              "  <thead>\n",
              "    <tr style=\"text-align: right;\">\n",
              "      <th></th>\n",
              "      <th>PassengerId</th>\n",
              "      <th>Pclass</th>\n",
              "      <th>Name</th>\n",
              "      <th>Sex</th>\n",
              "      <th>Age</th>\n",
              "      <th>SibSp</th>\n",
              "      <th>Parch</th>\n",
              "      <th>Ticket</th>\n",
              "      <th>Fare</th>\n",
              "      <th>Cabin</th>\n",
              "      <th>Embarked</th>\n",
              "    </tr>\n",
              "  </thead>\n",
              "  <tbody>\n",
              "    <tr>\n",
              "      <th>413</th>\n",
              "      <td>1305</td>\n",
              "      <td>3</td>\n",
              "      <td>Spector, Mr. Woolf</td>\n",
              "      <td>male</td>\n",
              "      <td>NaN</td>\n",
              "      <td>0</td>\n",
              "      <td>0</td>\n",
              "      <td>A.5. 3236</td>\n",
              "      <td>8.0500</td>\n",
              "      <td>NaN</td>\n",
              "      <td>S</td>\n",
              "    </tr>\n",
              "    <tr>\n",
              "      <th>414</th>\n",
              "      <td>1306</td>\n",
              "      <td>1</td>\n",
              "      <td>Oliva y Ocana, Dona. Fermina</td>\n",
              "      <td>female</td>\n",
              "      <td>39.0</td>\n",
              "      <td>0</td>\n",
              "      <td>0</td>\n",
              "      <td>PC 17758</td>\n",
              "      <td>108.9000</td>\n",
              "      <td>C105</td>\n",
              "      <td>C</td>\n",
              "    </tr>\n",
              "    <tr>\n",
              "      <th>415</th>\n",
              "      <td>1307</td>\n",
              "      <td>3</td>\n",
              "      <td>Saether, Mr. Simon Sivertsen</td>\n",
              "      <td>male</td>\n",
              "      <td>38.5</td>\n",
              "      <td>0</td>\n",
              "      <td>0</td>\n",
              "      <td>SOTON/O.Q. 3101262</td>\n",
              "      <td>7.2500</td>\n",
              "      <td>NaN</td>\n",
              "      <td>S</td>\n",
              "    </tr>\n",
              "    <tr>\n",
              "      <th>416</th>\n",
              "      <td>1308</td>\n",
              "      <td>3</td>\n",
              "      <td>Ware, Mr. Frederick</td>\n",
              "      <td>male</td>\n",
              "      <td>NaN</td>\n",
              "      <td>0</td>\n",
              "      <td>0</td>\n",
              "      <td>359309</td>\n",
              "      <td>8.0500</td>\n",
              "      <td>NaN</td>\n",
              "      <td>S</td>\n",
              "    </tr>\n",
              "    <tr>\n",
              "      <th>417</th>\n",
              "      <td>1309</td>\n",
              "      <td>3</td>\n",
              "      <td>Peter, Master. Michael J</td>\n",
              "      <td>male</td>\n",
              "      <td>NaN</td>\n",
              "      <td>1</td>\n",
              "      <td>1</td>\n",
              "      <td>2668</td>\n",
              "      <td>22.3583</td>\n",
              "      <td>NaN</td>\n",
              "      <td>C</td>\n",
              "    </tr>\n",
              "  </tbody>\n",
              "</table>\n",
              "</div>"
            ],
            "text/plain": [
              "     PassengerId  Pclass                          Name  ...      Fare  Cabin  Embarked\n",
              "413         1305       3            Spector, Mr. Woolf  ...    8.0500    NaN         S\n",
              "414         1306       1  Oliva y Ocana, Dona. Fermina  ...  108.9000   C105         C\n",
              "415         1307       3  Saether, Mr. Simon Sivertsen  ...    7.2500    NaN         S\n",
              "416         1308       3           Ware, Mr. Frederick  ...    8.0500    NaN         S\n",
              "417         1309       3      Peter, Master. Michael J  ...   22.3583    NaN         C\n",
              "\n",
              "[5 rows x 11 columns]"
            ]
          },
          "metadata": {
            "tags": []
          },
          "execution_count": 6
        }
      ]
    },
    {
      "cell_type": "markdown",
      "metadata": {
        "id": "zTjqPZDBkpW1",
        "colab_type": "text"
      },
      "source": [
        "$\\quad$If you look at test_data, you will see the following information from each row: \"PassangerId\", \"Pclass\", \"Name\", \"Sex\", \"Age\", \"SibSp\", \"Parch\", \"Ticket\", \"Fare\", \"Cabin\", \"Embarked\" are included. Unlike train_data, there is no \"Survived\" information corresponding to the label because test_data is data used to verify the model.\n",
        "<br>\n",
        "<br>\n",
        "$\\quad$As far as we can see, \"PassangerId\" is simply a feature that is attached for ordering and it is not necessary data to judge whether passennger is actually alive. And because \"Pclass\", \"Age\", \"SipSp\", \"Parch\", \"Fare\" are numeric information, machine learning algorithm can be applied even without preprocessing. However, other information such as \"Name\", \"Sex\", \"Ticket\", \"Cabin\", \"Embarked\" need appropriate preprocessing such as removing information and extracting new information before vectorization.\n",
        "<br>\n",
        "<br>\n",
        "<br>\n"
      ]
    },
    {
      "cell_type": "markdown",
      "metadata": {
        "id": "qHHe3k6SkpW2",
        "colab_type": "text"
      },
      "source": [
        "$\\quad$Now, look at the distribution of given data, the relationship between survivability (\"Survived\"), and how to preprocess the data.\n",
        "<br>\n",
        "<br>\n",
        "$\\quad$First, let's look at the distribution of the numeric information in the data. Execute the following code to check the distribution."
      ]
    },
    {
      "cell_type": "code",
      "metadata": {
        "scrolled": false,
        "id": "nC5oGIapkpW2",
        "colab_type": "code",
        "outputId": "60a25406-9e51-41b0-e6a9-0ba0e15422e1",
        "colab": {
          "base_uri": "https://localhost:8080/",
          "height": 284
        }
      },
      "source": [
        "# Analyze numeric information of train_data\n",
        "train_data.describe(percentiles=[0.25, 0.75])"
      ],
      "execution_count": 7,
      "outputs": [
        {
          "output_type": "execute_result",
          "data": {
            "text/html": [
              "<div>\n",
              "<style scoped>\n",
              "    .dataframe tbody tr th:only-of-type {\n",
              "        vertical-align: middle;\n",
              "    }\n",
              "\n",
              "    .dataframe tbody tr th {\n",
              "        vertical-align: top;\n",
              "    }\n",
              "\n",
              "    .dataframe thead th {\n",
              "        text-align: right;\n",
              "    }\n",
              "</style>\n",
              "<table border=\"1\" class=\"dataframe\">\n",
              "  <thead>\n",
              "    <tr style=\"text-align: right;\">\n",
              "      <th></th>\n",
              "      <th>PassengerId</th>\n",
              "      <th>Survived</th>\n",
              "      <th>Pclass</th>\n",
              "      <th>Age</th>\n",
              "      <th>SibSp</th>\n",
              "      <th>Parch</th>\n",
              "      <th>Fare</th>\n",
              "    </tr>\n",
              "  </thead>\n",
              "  <tbody>\n",
              "    <tr>\n",
              "      <th>count</th>\n",
              "      <td>891.000000</td>\n",
              "      <td>891.000000</td>\n",
              "      <td>891.000000</td>\n",
              "      <td>714.000000</td>\n",
              "      <td>891.000000</td>\n",
              "      <td>891.000000</td>\n",
              "      <td>891.000000</td>\n",
              "    </tr>\n",
              "    <tr>\n",
              "      <th>mean</th>\n",
              "      <td>446.000000</td>\n",
              "      <td>0.383838</td>\n",
              "      <td>2.308642</td>\n",
              "      <td>29.699118</td>\n",
              "      <td>0.523008</td>\n",
              "      <td>0.381594</td>\n",
              "      <td>32.204208</td>\n",
              "    </tr>\n",
              "    <tr>\n",
              "      <th>std</th>\n",
              "      <td>257.353842</td>\n",
              "      <td>0.486592</td>\n",
              "      <td>0.836071</td>\n",
              "      <td>14.526497</td>\n",
              "      <td>1.102743</td>\n",
              "      <td>0.806057</td>\n",
              "      <td>49.693429</td>\n",
              "    </tr>\n",
              "    <tr>\n",
              "      <th>min</th>\n",
              "      <td>1.000000</td>\n",
              "      <td>0.000000</td>\n",
              "      <td>1.000000</td>\n",
              "      <td>0.420000</td>\n",
              "      <td>0.000000</td>\n",
              "      <td>0.000000</td>\n",
              "      <td>0.000000</td>\n",
              "    </tr>\n",
              "    <tr>\n",
              "      <th>25%</th>\n",
              "      <td>223.500000</td>\n",
              "      <td>0.000000</td>\n",
              "      <td>2.000000</td>\n",
              "      <td>20.125000</td>\n",
              "      <td>0.000000</td>\n",
              "      <td>0.000000</td>\n",
              "      <td>7.910400</td>\n",
              "    </tr>\n",
              "    <tr>\n",
              "      <th>50%</th>\n",
              "      <td>446.000000</td>\n",
              "      <td>0.000000</td>\n",
              "      <td>3.000000</td>\n",
              "      <td>28.000000</td>\n",
              "      <td>0.000000</td>\n",
              "      <td>0.000000</td>\n",
              "      <td>14.454200</td>\n",
              "    </tr>\n",
              "    <tr>\n",
              "      <th>75%</th>\n",
              "      <td>668.500000</td>\n",
              "      <td>1.000000</td>\n",
              "      <td>3.000000</td>\n",
              "      <td>38.000000</td>\n",
              "      <td>1.000000</td>\n",
              "      <td>0.000000</td>\n",
              "      <td>31.000000</td>\n",
              "    </tr>\n",
              "    <tr>\n",
              "      <th>max</th>\n",
              "      <td>891.000000</td>\n",
              "      <td>1.000000</td>\n",
              "      <td>3.000000</td>\n",
              "      <td>80.000000</td>\n",
              "      <td>8.000000</td>\n",
              "      <td>6.000000</td>\n",
              "      <td>512.329200</td>\n",
              "    </tr>\n",
              "  </tbody>\n",
              "</table>\n",
              "</div>"
            ],
            "text/plain": [
              "       PassengerId    Survived      Pclass  ...       SibSp       Parch        Fare\n",
              "count   891.000000  891.000000  891.000000  ...  891.000000  891.000000  891.000000\n",
              "mean    446.000000    0.383838    2.308642  ...    0.523008    0.381594   32.204208\n",
              "std     257.353842    0.486592    0.836071  ...    1.102743    0.806057   49.693429\n",
              "min       1.000000    0.000000    1.000000  ...    0.000000    0.000000    0.000000\n",
              "25%     223.500000    0.000000    2.000000  ...    0.000000    0.000000    7.910400\n",
              "50%     446.000000    0.000000    3.000000  ...    0.000000    0.000000   14.454200\n",
              "75%     668.500000    1.000000    3.000000  ...    1.000000    0.000000   31.000000\n",
              "max     891.000000    1.000000    3.000000  ...    8.000000    6.000000  512.329200\n",
              "\n",
              "[8 rows x 7 columns]"
            ]
          },
          "metadata": {
            "tags": []
          },
          "execution_count": 7
        }
      ]
    },
    {
      "cell_type": "markdown",
      "metadata": {
        "id": "g-EtpBAukpW5",
        "colab_type": "text"
      },
      "source": [
        "$\\quad$Note that, count(number of data), mean, std(standard deviation), min(minimum) the upper 25%, 50% 75% and max(maximum) are printed.\n",
        "<br>\n",
        "<br>\n",
        "$\\quad$For \"count\", the number of \"PassengerId\" is 891, so train_data contains a total of 891 people. For \"Age\", its count is 714, thus \"Age\" is not known for 177 passengers which implies that there are some missing data. \n",
        "<br>\n",
        "<br>\n",
        "$\\quad$Next is mean. You can see that average value of survival rate is 38.4%, ticket class is 2.3, number of sisters and brothers are 0.52 number of parents are 0.38 and the ticket cost is 32.2.\n",
        "<br>\n",
        "<br>\n",
        "$\\quad$The next values ​​are min, max, 25%, 50%, and 75%. These values allow us to understand the overall distribution and to make various interpretations. For example, \"SibSp\" and \"Parch\" are 1 or 0 in the top 75%, so most passengers boarded alone without a family. And up to 75% of the \"Fare\" was 31, but the max is 512, so some customers pay a lot more than other customers. If you want to know the value of the upper 60%, 80%, etc., you can change the value inside the percentile of the above code to 0.75, 0.8.\n",
        "<br>\n",
        "<br>\n",
        "$\\quad$The distribution of other information, except for the numeric information, can be seen by running the following code:"
      ]
    },
    {
      "cell_type": "code",
      "metadata": {
        "scrolled": true,
        "id": "3jLSJxP4kpW6",
        "colab_type": "code",
        "outputId": "171c039b-1b4d-43ce-8118-20bb3bb3d059",
        "colab": {
          "base_uri": "https://localhost:8080/",
          "height": 166
        }
      },
      "source": [
        "# Analyze non-numeric(categorical) information of train_data\n",
        "train_data.describe(include=['O'])"
      ],
      "execution_count": 8,
      "outputs": [
        {
          "output_type": "execute_result",
          "data": {
            "text/html": [
              "<div>\n",
              "<style scoped>\n",
              "    .dataframe tbody tr th:only-of-type {\n",
              "        vertical-align: middle;\n",
              "    }\n",
              "\n",
              "    .dataframe tbody tr th {\n",
              "        vertical-align: top;\n",
              "    }\n",
              "\n",
              "    .dataframe thead th {\n",
              "        text-align: right;\n",
              "    }\n",
              "</style>\n",
              "<table border=\"1\" class=\"dataframe\">\n",
              "  <thead>\n",
              "    <tr style=\"text-align: right;\">\n",
              "      <th></th>\n",
              "      <th>Name</th>\n",
              "      <th>Sex</th>\n",
              "      <th>Ticket</th>\n",
              "      <th>Cabin</th>\n",
              "      <th>Embarked</th>\n",
              "    </tr>\n",
              "  </thead>\n",
              "  <tbody>\n",
              "    <tr>\n",
              "      <th>count</th>\n",
              "      <td>891</td>\n",
              "      <td>891</td>\n",
              "      <td>891</td>\n",
              "      <td>204</td>\n",
              "      <td>889</td>\n",
              "    </tr>\n",
              "    <tr>\n",
              "      <th>unique</th>\n",
              "      <td>891</td>\n",
              "      <td>2</td>\n",
              "      <td>681</td>\n",
              "      <td>147</td>\n",
              "      <td>3</td>\n",
              "    </tr>\n",
              "    <tr>\n",
              "      <th>top</th>\n",
              "      <td>Mellinger, Miss. Madeleine Violet</td>\n",
              "      <td>male</td>\n",
              "      <td>347082</td>\n",
              "      <td>B96 B98</td>\n",
              "      <td>S</td>\n",
              "    </tr>\n",
              "    <tr>\n",
              "      <th>freq</th>\n",
              "      <td>1</td>\n",
              "      <td>577</td>\n",
              "      <td>7</td>\n",
              "      <td>4</td>\n",
              "      <td>644</td>\n",
              "    </tr>\n",
              "  </tbody>\n",
              "</table>\n",
              "</div>"
            ],
            "text/plain": [
              "                                     Name   Sex  Ticket    Cabin Embarked\n",
              "count                                 891   891     891      204      889\n",
              "unique                                891     2     681      147        3\n",
              "top     Mellinger, Miss. Madeleine Violet  male  347082  B96 B98        S\n",
              "freq                                    1   577       7        4      644"
            ]
          },
          "metadata": {
            "tags": []
          },
          "execution_count": 8
        }
      ]
    },
    {
      "cell_type": "markdown",
      "metadata": {
        "id": "efVQxsBtkpW8",
        "colab_type": "text"
      },
      "source": [
        "$\\quad$The code above shows the distribution of the non-numeric information \"Name\", \"Sex\", \"Ticket\", \"Cabin\", \"Embarked\". The output is \"count\" (number), \"unique\" (number of different information), \"top\" (top information), and \"freq\" (most frequent).\n",
        "<br>\n",
        "<br>\n",
        "$\\quad$For \"count\", train_data has a total of 891, so most information has 891 values. However, we can confirm that some portions of the information of \"Cabin\" and \"Embarked\" are unknown.\n",
        "<br>\n",
        "<br>\n",
        "$\\quad$For \"Unique\", \"Name\" has the value of 891, so everyone in train_data has a different name. There are two sexes, male and female, so it has a value of 2. Ticket and cabin are 681 and 147, respectively, and there are passengers with the same ticket or cabin number. Finally, since Titanic has three departing ports, so embarked is three.\n",
        "<br>\n",
        "<br>\n",
        "$\\quad$\"top\" is the most common information, and \"freq\" is the number of that information. Because \"Name\" is different for each person, freq is 1 and the value of top is not significant. \"Sex\" is 577 male, so there were 577 men and 314 women passengers. And if you look at \"Embarked\" you can see that most of the passengers (644) boarded at port \"S\" (Southampton).\n",
        "<br>\n",
        "<br>\n",
        "<br>\n",
        "<br>\n",
        "<br>\n",
        "<br>\n",
        "$\\quad$Next, we examine how each of feature is related with \"Survived\"."
      ]
    },
    {
      "cell_type": "code",
      "metadata": {
        "scrolled": true,
        "id": "XnQU-QwQkpW9",
        "colab_type": "code",
        "outputId": "afb4dbf3-496c-45e8-c86b-5640b126f5fa",
        "colab": {
          "base_uri": "https://localhost:8080/",
          "height": 136
        }
      },
      "source": [
        "# Statistics between \"Pclass\" and \"Survived\"\n",
        "train_data[['Pclass', 'Survived']].groupby(['Pclass'], as_index=False).mean().sort_values(by='Survived', ascending=False)"
      ],
      "execution_count": 9,
      "outputs": [
        {
          "output_type": "execute_result",
          "data": {
            "text/html": [
              "<div>\n",
              "<style scoped>\n",
              "    .dataframe tbody tr th:only-of-type {\n",
              "        vertical-align: middle;\n",
              "    }\n",
              "\n",
              "    .dataframe tbody tr th {\n",
              "        vertical-align: top;\n",
              "    }\n",
              "\n",
              "    .dataframe thead th {\n",
              "        text-align: right;\n",
              "    }\n",
              "</style>\n",
              "<table border=\"1\" class=\"dataframe\">\n",
              "  <thead>\n",
              "    <tr style=\"text-align: right;\">\n",
              "      <th></th>\n",
              "      <th>Pclass</th>\n",
              "      <th>Survived</th>\n",
              "    </tr>\n",
              "  </thead>\n",
              "  <tbody>\n",
              "    <tr>\n",
              "      <th>0</th>\n",
              "      <td>1</td>\n",
              "      <td>0.629630</td>\n",
              "    </tr>\n",
              "    <tr>\n",
              "      <th>1</th>\n",
              "      <td>2</td>\n",
              "      <td>0.472826</td>\n",
              "    </tr>\n",
              "    <tr>\n",
              "      <th>2</th>\n",
              "      <td>3</td>\n",
              "      <td>0.242363</td>\n",
              "    </tr>\n",
              "  </tbody>\n",
              "</table>\n",
              "</div>"
            ],
            "text/plain": [
              "   Pclass  Survived\n",
              "0       1  0.629630\n",
              "1       2  0.472826\n",
              "2       3  0.242363"
            ]
          },
          "metadata": {
            "tags": []
          },
          "execution_count": 9
        }
      ]
    },
    {
      "cell_type": "markdown",
      "metadata": {
        "id": "ddTgMCzrkpW_",
        "colab_type": "text"
      },
      "source": [
        "We use \"mean\" method in above cell. The average value of \"survived\" means survival rate. Therefore, we can see the survival rate for each categories of feature. \n",
        "\n",
        "If we can see there's some correlation between features and survival rate, this feature can be a meaningful information.\n",
        "\n",
        "\n",
        "First, the relationship between \"Pclass\" and \"Survived\". The results show that the higher the ticket rating, the higher the survival rate."
      ]
    },
    {
      "cell_type": "code",
      "metadata": {
        "scrolled": true,
        "id": "pr-9IkZVkpW_",
        "colab_type": "code",
        "outputId": "b92227fe-f4b8-4fc1-982d-c128dca2faa9",
        "colab": {
          "base_uri": "https://localhost:8080/",
          "height": 106
        }
      },
      "source": [
        "# Statistics between \"Sex\" and \"Survived\"\n",
        "train_data[['Sex', 'Survived']].groupby(['Sex'], as_index=False).mean().sort_values(by='Survived', ascending=False)"
      ],
      "execution_count": 10,
      "outputs": [
        {
          "output_type": "execute_result",
          "data": {
            "text/html": [
              "<div>\n",
              "<style scoped>\n",
              "    .dataframe tbody tr th:only-of-type {\n",
              "        vertical-align: middle;\n",
              "    }\n",
              "\n",
              "    .dataframe tbody tr th {\n",
              "        vertical-align: top;\n",
              "    }\n",
              "\n",
              "    .dataframe thead th {\n",
              "        text-align: right;\n",
              "    }\n",
              "</style>\n",
              "<table border=\"1\" class=\"dataframe\">\n",
              "  <thead>\n",
              "    <tr style=\"text-align: right;\">\n",
              "      <th></th>\n",
              "      <th>Sex</th>\n",
              "      <th>Survived</th>\n",
              "    </tr>\n",
              "  </thead>\n",
              "  <tbody>\n",
              "    <tr>\n",
              "      <th>0</th>\n",
              "      <td>female</td>\n",
              "      <td>0.742038</td>\n",
              "    </tr>\n",
              "    <tr>\n",
              "      <th>1</th>\n",
              "      <td>male</td>\n",
              "      <td>0.188908</td>\n",
              "    </tr>\n",
              "  </tbody>\n",
              "</table>\n",
              "</div>"
            ],
            "text/plain": [
              "      Sex  Survived\n",
              "0  female  0.742038\n",
              "1    male  0.188908"
            ]
          },
          "metadata": {
            "tags": []
          },
          "execution_count": 10
        }
      ]
    },
    {
      "cell_type": "markdown",
      "metadata": {
        "id": "OLbB5l_UkpXB",
        "colab_type": "text"
      },
      "source": [
        "The survival rate of women is much higher than that of men."
      ]
    },
    {
      "cell_type": "code",
      "metadata": {
        "scrolled": true,
        "id": "OtkMjZuqkpXC",
        "colab_type": "code",
        "outputId": "7e650fc6-7c13-4378-dadf-e6dac6841cf4",
        "colab": {
          "base_uri": "https://localhost:8080/",
          "height": 254
        }
      },
      "source": [
        "# Statistics between \"SibSp\" and \"Survived\"\n",
        "train_data[['SibSp', 'Survived']].groupby(['SibSp'], as_index=False).mean().sort_values(by='Survived', ascending=False)"
      ],
      "execution_count": 11,
      "outputs": [
        {
          "output_type": "execute_result",
          "data": {
            "text/html": [
              "<div>\n",
              "<style scoped>\n",
              "    .dataframe tbody tr th:only-of-type {\n",
              "        vertical-align: middle;\n",
              "    }\n",
              "\n",
              "    .dataframe tbody tr th {\n",
              "        vertical-align: top;\n",
              "    }\n",
              "\n",
              "    .dataframe thead th {\n",
              "        text-align: right;\n",
              "    }\n",
              "</style>\n",
              "<table border=\"1\" class=\"dataframe\">\n",
              "  <thead>\n",
              "    <tr style=\"text-align: right;\">\n",
              "      <th></th>\n",
              "      <th>SibSp</th>\n",
              "      <th>Survived</th>\n",
              "    </tr>\n",
              "  </thead>\n",
              "  <tbody>\n",
              "    <tr>\n",
              "      <th>1</th>\n",
              "      <td>1</td>\n",
              "      <td>0.535885</td>\n",
              "    </tr>\n",
              "    <tr>\n",
              "      <th>2</th>\n",
              "      <td>2</td>\n",
              "      <td>0.464286</td>\n",
              "    </tr>\n",
              "    <tr>\n",
              "      <th>0</th>\n",
              "      <td>0</td>\n",
              "      <td>0.345395</td>\n",
              "    </tr>\n",
              "    <tr>\n",
              "      <th>3</th>\n",
              "      <td>3</td>\n",
              "      <td>0.250000</td>\n",
              "    </tr>\n",
              "    <tr>\n",
              "      <th>4</th>\n",
              "      <td>4</td>\n",
              "      <td>0.166667</td>\n",
              "    </tr>\n",
              "    <tr>\n",
              "      <th>5</th>\n",
              "      <td>5</td>\n",
              "      <td>0.000000</td>\n",
              "    </tr>\n",
              "    <tr>\n",
              "      <th>6</th>\n",
              "      <td>8</td>\n",
              "      <td>0.000000</td>\n",
              "    </tr>\n",
              "  </tbody>\n",
              "</table>\n",
              "</div>"
            ],
            "text/plain": [
              "   SibSp  Survived\n",
              "1      1  0.535885\n",
              "2      2  0.464286\n",
              "0      0  0.345395\n",
              "3      3  0.250000\n",
              "4      4  0.166667\n",
              "5      5  0.000000\n",
              "6      8  0.000000"
            ]
          },
          "metadata": {
            "tags": []
          },
          "execution_count": 11
        }
      ]
    },
    {
      "cell_type": "markdown",
      "metadata": {
        "id": "qnZ4VMnbkpXE",
        "colab_type": "text"
      },
      "source": [
        "\"SibSp\" is the number of brothers and sisters. In general, the lower the number of brothers and sisters shows the higher the survival rate."
      ]
    },
    {
      "cell_type": "code",
      "metadata": {
        "scrolled": true,
        "id": "ajJh9RsrkpXE",
        "colab_type": "code",
        "outputId": "61fc2a13-df7c-4643-d2eb-c69ac19df33b",
        "colab": {
          "base_uri": "https://localhost:8080/",
          "height": 254
        }
      },
      "source": [
        "# Statistics between \"Parch\" and \"Survived\"\n",
        "train_data[['Parch', 'Survived']].groupby(['Parch'], as_index=False).mean().sort_values(by='Survived', ascending=False)"
      ],
      "execution_count": 12,
      "outputs": [
        {
          "output_type": "execute_result",
          "data": {
            "text/html": [
              "<div>\n",
              "<style scoped>\n",
              "    .dataframe tbody tr th:only-of-type {\n",
              "        vertical-align: middle;\n",
              "    }\n",
              "\n",
              "    .dataframe tbody tr th {\n",
              "        vertical-align: top;\n",
              "    }\n",
              "\n",
              "    .dataframe thead th {\n",
              "        text-align: right;\n",
              "    }\n",
              "</style>\n",
              "<table border=\"1\" class=\"dataframe\">\n",
              "  <thead>\n",
              "    <tr style=\"text-align: right;\">\n",
              "      <th></th>\n",
              "      <th>Parch</th>\n",
              "      <th>Survived</th>\n",
              "    </tr>\n",
              "  </thead>\n",
              "  <tbody>\n",
              "    <tr>\n",
              "      <th>3</th>\n",
              "      <td>3</td>\n",
              "      <td>0.600000</td>\n",
              "    </tr>\n",
              "    <tr>\n",
              "      <th>1</th>\n",
              "      <td>1</td>\n",
              "      <td>0.550847</td>\n",
              "    </tr>\n",
              "    <tr>\n",
              "      <th>2</th>\n",
              "      <td>2</td>\n",
              "      <td>0.500000</td>\n",
              "    </tr>\n",
              "    <tr>\n",
              "      <th>0</th>\n",
              "      <td>0</td>\n",
              "      <td>0.343658</td>\n",
              "    </tr>\n",
              "    <tr>\n",
              "      <th>5</th>\n",
              "      <td>5</td>\n",
              "      <td>0.200000</td>\n",
              "    </tr>\n",
              "    <tr>\n",
              "      <th>4</th>\n",
              "      <td>4</td>\n",
              "      <td>0.000000</td>\n",
              "    </tr>\n",
              "    <tr>\n",
              "      <th>6</th>\n",
              "      <td>6</td>\n",
              "      <td>0.000000</td>\n",
              "    </tr>\n",
              "  </tbody>\n",
              "</table>\n",
              "</div>"
            ],
            "text/plain": [
              "   Parch  Survived\n",
              "3      3  0.600000\n",
              "1      1  0.550847\n",
              "2      2  0.500000\n",
              "0      0  0.343658\n",
              "5      5  0.200000\n",
              "4      4  0.000000\n",
              "6      6  0.000000"
            ]
          },
          "metadata": {
            "tags": []
          },
          "execution_count": 12
        }
      ]
    },
    {
      "cell_type": "markdown",
      "metadata": {
        "id": "4j8DSrEtkpXG",
        "colab_type": "text"
      },
      "source": [
        "\"Parch\" is the number of parents and children. The lower the number, as in \"SibSp\" above, the higher the survival rate."
      ]
    },
    {
      "cell_type": "code",
      "metadata": {
        "scrolled": true,
        "id": "TvbpL8DzkpXH",
        "colab_type": "code",
        "outputId": "0e83ef6d-35a8-427a-f0d4-5f4e1674a0da",
        "colab": {
          "base_uri": "https://localhost:8080/",
          "height": 136
        }
      },
      "source": [
        "# Statistics between \"Embarked\" and \"Survived\"\n",
        "train_data[['Embarked', 'Survived']].groupby(['Embarked'], as_index=False).mean().sort_values(by='Survived', ascending=False)"
      ],
      "execution_count": 13,
      "outputs": [
        {
          "output_type": "execute_result",
          "data": {
            "text/html": [
              "<div>\n",
              "<style scoped>\n",
              "    .dataframe tbody tr th:only-of-type {\n",
              "        vertical-align: middle;\n",
              "    }\n",
              "\n",
              "    .dataframe tbody tr th {\n",
              "        vertical-align: top;\n",
              "    }\n",
              "\n",
              "    .dataframe thead th {\n",
              "        text-align: right;\n",
              "    }\n",
              "</style>\n",
              "<table border=\"1\" class=\"dataframe\">\n",
              "  <thead>\n",
              "    <tr style=\"text-align: right;\">\n",
              "      <th></th>\n",
              "      <th>Embarked</th>\n",
              "      <th>Survived</th>\n",
              "    </tr>\n",
              "  </thead>\n",
              "  <tbody>\n",
              "    <tr>\n",
              "      <th>0</th>\n",
              "      <td>C</td>\n",
              "      <td>0.553571</td>\n",
              "    </tr>\n",
              "    <tr>\n",
              "      <th>1</th>\n",
              "      <td>Q</td>\n",
              "      <td>0.389610</td>\n",
              "    </tr>\n",
              "    <tr>\n",
              "      <th>2</th>\n",
              "      <td>S</td>\n",
              "      <td>0.336957</td>\n",
              "    </tr>\n",
              "  </tbody>\n",
              "</table>\n",
              "</div>"
            ],
            "text/plain": [
              "  Embarked  Survived\n",
              "0        C  0.553571\n",
              "1        Q  0.389610\n",
              "2        S  0.336957"
            ]
          },
          "metadata": {
            "tags": []
          },
          "execution_count": 13
        }
      ]
    },
    {
      "cell_type": "markdown",
      "metadata": {
        "id": "Vko_ddpDkpXJ",
        "colab_type": "text"
      },
      "source": [
        "\"Embarked\" is the boarding location. The survival rate is much higher than the other areas when the boarding location is \"C\"(Cherbourg), and is the lowest for \"S\"(Southampton) where the most people boarded."
      ]
    },
    {
      "cell_type": "markdown",
      "metadata": {
        "id": "IUsTeq5HkpXJ",
        "colab_type": "text"
      },
      "source": [
        "$\\quad$\n",
        "\"Pclass\", \"Sex\" and \"Embarked\" are good features that can be directly related to \"Survived\". Also, you can use \"Sex\" and \"Embarked\" for training after vectorization of \"Sex\" and restoration of some unknown information of \"Embarked\".\n",
        "<br>\n",
        "<br>\n",
        "$\\quad$\"SibSp\" and \"Parch\", as we have seen above, tend to have a high survival rate when the number is small, but it is difficult to find a direct association. Therefore,we may apply the following preprocessing: '0' if the number is small (less or equal to 4) and '1' if it is big (more than 4). Since both of them indicate the number of family members, it is desirable to use \"FamilySize\" which is the sum of the two values ​​rather than using both of them."
      ]
    },
    {
      "cell_type": "markdown",
      "metadata": {
        "id": "JfxkwKxfkpXK",
        "colab_type": "text"
      },
      "source": [
        "## 2. Preprocessing"
      ]
    },
    {
      "cell_type": "markdown",
      "metadata": {
        "collapsed": true,
        "id": "6LrWyU2RkpXL",
        "colab_type": "text"
      },
      "source": [
        "Read data and define preprocess function"
      ]
    },
    {
      "cell_type": "code",
      "metadata": {
        "scrolled": true,
        "id": "Mib2g_gRkpXL",
        "colab_type": "code",
        "colab": {}
      },
      "source": [
        "# Read Data\n",
        "preprocessing_train_data = pd.read_csv('train.csv')\n",
        "preprocessing_test_data = pd.read_csv('test.csv')\n",
        "datasets = [preprocessing_train_data, preprocessing_test_data]\n",
        "\n",
        "# We'll copy original dataset to use in comparison\n",
        "datasets_original = [dataset.copy() for dataset in datasets]\n",
        "\n",
        "preprocesses = {}\n",
        "# preprocess(feature_name: str, f: function, show_head: bool): None\n",
        "# applies modification for datasets\n",
        "def preprocess(feature_name, f, show_head=False):\n",
        "    global datasets\n",
        "\n",
        "    print(\"PREPROCESS :: %s\" % feature_name)\n",
        "\n",
        "    if hasattr(f, 'once') and f.once == True:\n",
        "        # If function has 'once' flag,\n",
        "        # we'll apply preprocessing to train+test set\n",
        "        # and after preprocessing, we'll split again into train, test set\n",
        "\n",
        "        datasets_combined = pd.concat(objs=datasets, axis=0, sort=False)\n",
        "        retval = f(datasets_combined)\n",
        "\n",
        "        new_datasets_combined = \\\n",
        "            retval if retval is not None else datasets_combined\n",
        "\n",
        "        train_len = len(datasets[0])\n",
        "        datasets = [\n",
        "            new_datasets_combined[:train_len],\n",
        "            new_datasets_combined[train_len:]\n",
        "        ]\n",
        "    \n",
        "    else:\n",
        "        # If function doesn't have 'once' flag,\n",
        "        # we'll apply preprocessing two times.\n",
        "        # One for train set, one for test set.\n",
        "        for index, dataset in enumerate(datasets):\n",
        "            retval = f(dataset)\n",
        "\n",
        "            if retval is not None:\n",
        "                datasets[index] = retval\n",
        "    \n",
        "    # Also, we'll keep track what preprocessing has been done\n",
        "    # to use in comparison\n",
        "    if feature_name not in preprocesses:\n",
        "        preprocesses[feature_name] = f\n",
        "\n",
        "    if show_head:\n",
        "        return datasets[0].head()\n",
        "\n",
        "\n",
        "# process_onehot(target_columns: str or list): function\n",
        "# generates preprocess function\n",
        "# which encodes certain column(s) to one-hot vector\n",
        "def process_onehot(target_columns):\n",
        "    if type(target_columns) == str:\n",
        "        target_columns = [target_columns]\n",
        "    \n",
        "    def preprocess_fn(datasets):\n",
        "        return pd.get_dummies(\n",
        "            datasets,\n",
        "            columns=target_columns\n",
        "        )\n",
        "    \n",
        "    preprocess_fn.once = True\n",
        "    return preprocess_fn\n",
        "\n",
        "\n",
        "# process_normalize(target_column: str): function\n",
        "# generates preprocess function\n",
        "# which normalizes numbers to [0, 1]\n",
        "def process_normalize(target_column):\n",
        "    def preprocess_fn(datasets):\n",
        "        maximum = datasets[target_column].max()\n",
        "        minimum = datasets[target_column].min()\n",
        "\n",
        "        datasets[target_column] = (datasets[target_column] - minimum) / \\\n",
        "            (maximum - minimum)\n",
        "        \n",
        "        return datasets\n",
        "    \n",
        "    preprocess_fn.once = True\n",
        "    return preprocess_fn"
      ],
      "execution_count": 0,
      "outputs": []
    },
    {
      "cell_type": "markdown",
      "metadata": {
        "id": "3Uucz86ICcZO",
        "colab_type": "text"
      },
      "source": [
        "First, we create a new feature called \"FamilySize\" by adding \"Sibsp\" and \"Parch\".\n",
        "\n",
        "Then, \"SibSp\" and \"Parch\" are combined into one \"FamilySize\". Let's see how this feature relates to \"Survived\"."
      ]
    },
    {
      "cell_type": "code",
      "metadata": {
        "id": "FL3c48GdCgTy",
        "colab_type": "code",
        "outputId": "85022fb7-9a29-43f8-f945-63a37ef74dc3",
        "colab": {
          "base_uri": "https://localhost:8080/",
          "height": 360
        }
      },
      "source": [
        "def process_family_size(dataset):\n",
        "    dataset['FamilySize'] = dataset['SibSp'] + dataset['Parch']\n",
        "\n",
        "preprocess('FamilySize', process_family_size, show_head=True)\n",
        "\n",
        "# Statistics between \"FamilySize\" and \"Survived\"\n",
        "preprocessing_train_data[['FamilySize', 'Survived']].groupby(['FamilySize']).mean().sort_values(by='Survived', ascending=False)"
      ],
      "execution_count": 15,
      "outputs": [
        {
          "output_type": "stream",
          "text": [
            "PREPROCESS :: FamilySize\n"
          ],
          "name": "stdout"
        },
        {
          "output_type": "execute_result",
          "data": {
            "text/html": [
              "<div>\n",
              "<style scoped>\n",
              "    .dataframe tbody tr th:only-of-type {\n",
              "        vertical-align: middle;\n",
              "    }\n",
              "\n",
              "    .dataframe tbody tr th {\n",
              "        vertical-align: top;\n",
              "    }\n",
              "\n",
              "    .dataframe thead th {\n",
              "        text-align: right;\n",
              "    }\n",
              "</style>\n",
              "<table border=\"1\" class=\"dataframe\">\n",
              "  <thead>\n",
              "    <tr style=\"text-align: right;\">\n",
              "      <th></th>\n",
              "      <th>Survived</th>\n",
              "    </tr>\n",
              "    <tr>\n",
              "      <th>FamilySize</th>\n",
              "      <th></th>\n",
              "    </tr>\n",
              "  </thead>\n",
              "  <tbody>\n",
              "    <tr>\n",
              "      <th>3</th>\n",
              "      <td>0.724138</td>\n",
              "    </tr>\n",
              "    <tr>\n",
              "      <th>2</th>\n",
              "      <td>0.578431</td>\n",
              "    </tr>\n",
              "    <tr>\n",
              "      <th>1</th>\n",
              "      <td>0.552795</td>\n",
              "    </tr>\n",
              "    <tr>\n",
              "      <th>6</th>\n",
              "      <td>0.333333</td>\n",
              "    </tr>\n",
              "    <tr>\n",
              "      <th>0</th>\n",
              "      <td>0.303538</td>\n",
              "    </tr>\n",
              "    <tr>\n",
              "      <th>4</th>\n",
              "      <td>0.200000</td>\n",
              "    </tr>\n",
              "    <tr>\n",
              "      <th>5</th>\n",
              "      <td>0.136364</td>\n",
              "    </tr>\n",
              "    <tr>\n",
              "      <th>7</th>\n",
              "      <td>0.000000</td>\n",
              "    </tr>\n",
              "    <tr>\n",
              "      <th>10</th>\n",
              "      <td>0.000000</td>\n",
              "    </tr>\n",
              "  </tbody>\n",
              "</table>\n",
              "</div>"
            ],
            "text/plain": [
              "            Survived\n",
              "FamilySize          \n",
              "3           0.724138\n",
              "2           0.578431\n",
              "1           0.552795\n",
              "6           0.333333\n",
              "0           0.303538\n",
              "4           0.200000\n",
              "5           0.136364\n",
              "7           0.000000\n",
              "10          0.000000"
            ]
          },
          "metadata": {
            "tags": []
          },
          "execution_count": 15
        }
      ]
    },
    {
      "cell_type": "markdown",
      "metadata": {
        "id": "H7mtMqx-kpXS",
        "colab_type": "text"
      },
      "source": [
        "To simplify further, we change each value of \"FamilySize\" to \"1\" if it is bigger than 4 and \"0\" if it is smaller than or equal to 4.\n",
        "\n",
        "**#1 MODIFICATION: Reviving Parch, SibSp**  \n",
        "We'll define process_sibsp_parch, which maps Parch, SibSp to Protector and Protectee by its age and sex. But this will not be executed immediately: will be executed in `Compare` Section.\n",
        "\n",
        "If Age is less than 16 or greater than 70, the Parch becomes Protector and SibSp becomes Protectee.\n",
        "\n",
        "Else if Age is greater than 30, the Parch becoms Protectee. If it is male and has SibSp the Protectee is increased by 1 (Spouse).\n",
        "\n",
        "Else (16 <= Age <= 30) the Parch becomes Protector but SibSp is just dropped."
      ]
    },
    {
      "cell_type": "code",
      "metadata": {
        "scrolled": true,
        "id": "svHn2seekpXT",
        "colab_type": "code",
        "outputId": "c7364cad-02d9-43cd-8cb8-f2b113ded66f",
        "colab": {
          "base_uri": "https://localhost:8080/",
          "height": 50
        }
      },
      "source": [
        "def process_simplize_family_size(dataset):\n",
        "    dataset.loc[dataset['FamilySize'] <= 4, 'FamilySize'] = 0\n",
        "    dataset.loc[dataset['FamilySize'] > 4, 'FamilySize'] = 1\n",
        "\n",
        "def process_drop_sibsp_parch(dataset):\n",
        "    dataset.drop(['SibSp', 'Parch'], axis=1, inplace=True)\n",
        "\n",
        "def process_sibsp_parch(dataset):\n",
        "    def parse_sibsp_parch(row):\n",
        "        if row['Age'] < 16 or row['Age'] > 70:\n",
        "            row['Protector'] = row['Parch']\n",
        "            row['Protectee'] = row['SibSp']\n",
        "        \n",
        "        elif row['Age'] > 30:\n",
        "            row['Protectee'] = row['Parch']\n",
        "            if row['Sex'] == 1:\n",
        "                row['Protectee'] += 1 if row['SibSp'] else 0\n",
        "            \n",
        "            row['Protector'] = 0\n",
        "        \n",
        "        else:\n",
        "            row['Protector'] = row['Parch']\n",
        "            row['Protectee'] = 0\n",
        "        \n",
        "        row.drop(['SibSp', 'Parch'], inplace=True)\n",
        "\n",
        "        return row\n",
        "    \n",
        "    return dataset.apply(parse_sibsp_parch, axis=1)\n",
        "\n",
        "sibsp_parch_comparison = {\n",
        "    'SibSp Parch': process_sibsp_parch,\n",
        "    'Normalize Protector': process_normalize('Protector'),\n",
        "    'Normalize Protectee': process_normalize('Protectee')\n",
        "}\n",
        "\n",
        "preprocess('Simplize FamilySize', process_simplize_family_size)\n",
        "preprocess('SibSp Parch', process_drop_sibsp_parch)"
      ],
      "execution_count": 16,
      "outputs": [
        {
          "output_type": "stream",
          "text": [
            "PREPROCESS :: Simplize FamilySize\n",
            "PREPROCESS :: SibSp Parch\n"
          ],
          "name": "stdout"
        }
      ]
    },
    {
      "cell_type": "markdown",
      "metadata": {
        "id": "b-zjHHiJkpXX",
        "colab_type": "text"
      },
      "source": [
        "$\\quad$\"Sex\" and \"Embarked\" are information that directly affects \"Survived\". Therefore, these two pieces of information do not require any preprocessing; we simply restore the missing parts and run vectorization.\n",
        "<br>\n",
        "<br>\n",
        "$\\quad$First, we restore the two lost data of \"Embarked\". In this preproessing, we would like to designate two \"Embakred\" information as 'S'(Southampton) port where the most passengers have boarded. Then, we set 'female' of 'Sex' to '0', and '1' to 'male', 'Q'(Queenstown), 'C'(Cherbourg), 'S'(Southampton) of 'Embarked'.\n",
        "<br>\n",
        "<br>\n",
        "**#2 MODIFICATION: Embarked to one-hot**  \n",
        "To compare between one-hot vs numeric we'll define process_onehot_embarked, which maps 'Q', 'C', 'S', to one-hot vector. But this will not be executed immediately: will be executed in `Compare` Section."
      ]
    },
    {
      "cell_type": "code",
      "metadata": {
        "scrolled": true,
        "id": "fUAExyd3kpXZ",
        "colab_type": "code",
        "outputId": "aba0d4b3-3db8-41cc-df10-875d96576dff",
        "colab": {
          "base_uri": "https://localhost:8080/",
          "height": 279
        }
      },
      "source": [
        "def process_fill_embarked(dataset):\n",
        "    dataset['Embarked'].replace([None], ['S'], inplace=True)\n",
        "\n",
        "def process_sex(dataset):\n",
        "    dataset.replace(['female', 'male'], [0, 1], inplace=True)\n",
        "\n",
        "def process_numeric_embarked(dataset):\n",
        "    dataset.replace(['Q', 'C', 'S'], [0, 1, 2], inplace=True)\n",
        "\n",
        "process_onehot_embarked = process_onehot('Embarked')\n",
        "embarked_comparison = {\n",
        "    'Embarked Embedding': process_onehot_embarked\n",
        "}\n",
        "\n",
        "preprocess('Fill Embarked', process_fill_embarked)\n",
        "preprocess('Sex Embedding', process_sex)\n",
        "preprocess('Embarked Embedding', process_numeric_embarked, show_head=True)"
      ],
      "execution_count": 17,
      "outputs": [
        {
          "output_type": "stream",
          "text": [
            "PREPROCESS :: Fill Embarked\n",
            "PREPROCESS :: Sex Embedding\n",
            "PREPROCESS :: Embarked Embedding\n"
          ],
          "name": "stdout"
        },
        {
          "output_type": "execute_result",
          "data": {
            "text/html": [
              "<div>\n",
              "<style scoped>\n",
              "    .dataframe tbody tr th:only-of-type {\n",
              "        vertical-align: middle;\n",
              "    }\n",
              "\n",
              "    .dataframe tbody tr th {\n",
              "        vertical-align: top;\n",
              "    }\n",
              "\n",
              "    .dataframe thead th {\n",
              "        text-align: right;\n",
              "    }\n",
              "</style>\n",
              "<table border=\"1\" class=\"dataframe\">\n",
              "  <thead>\n",
              "    <tr style=\"text-align: right;\">\n",
              "      <th></th>\n",
              "      <th>PassengerId</th>\n",
              "      <th>Survived</th>\n",
              "      <th>Pclass</th>\n",
              "      <th>Name</th>\n",
              "      <th>Sex</th>\n",
              "      <th>Age</th>\n",
              "      <th>Ticket</th>\n",
              "      <th>Fare</th>\n",
              "      <th>Cabin</th>\n",
              "      <th>Embarked</th>\n",
              "      <th>FamilySize</th>\n",
              "    </tr>\n",
              "  </thead>\n",
              "  <tbody>\n",
              "    <tr>\n",
              "      <th>0</th>\n",
              "      <td>1</td>\n",
              "      <td>0</td>\n",
              "      <td>3</td>\n",
              "      <td>Braund, Mr. Owen Harris</td>\n",
              "      <td>1</td>\n",
              "      <td>22.0</td>\n",
              "      <td>A/5 21171</td>\n",
              "      <td>7.2500</td>\n",
              "      <td>NaN</td>\n",
              "      <td>2</td>\n",
              "      <td>0</td>\n",
              "    </tr>\n",
              "    <tr>\n",
              "      <th>1</th>\n",
              "      <td>2</td>\n",
              "      <td>1</td>\n",
              "      <td>1</td>\n",
              "      <td>Cumings, Mrs. John Bradley (Florence Briggs Th...</td>\n",
              "      <td>0</td>\n",
              "      <td>38.0</td>\n",
              "      <td>PC 17599</td>\n",
              "      <td>71.2833</td>\n",
              "      <td>C85</td>\n",
              "      <td>1</td>\n",
              "      <td>0</td>\n",
              "    </tr>\n",
              "    <tr>\n",
              "      <th>2</th>\n",
              "      <td>3</td>\n",
              "      <td>1</td>\n",
              "      <td>3</td>\n",
              "      <td>Heikkinen, Miss. Laina</td>\n",
              "      <td>0</td>\n",
              "      <td>26.0</td>\n",
              "      <td>STON/O2. 3101282</td>\n",
              "      <td>7.9250</td>\n",
              "      <td>NaN</td>\n",
              "      <td>2</td>\n",
              "      <td>0</td>\n",
              "    </tr>\n",
              "    <tr>\n",
              "      <th>3</th>\n",
              "      <td>4</td>\n",
              "      <td>1</td>\n",
              "      <td>1</td>\n",
              "      <td>Futrelle, Mrs. Jacques Heath (Lily May Peel)</td>\n",
              "      <td>0</td>\n",
              "      <td>35.0</td>\n",
              "      <td>113803</td>\n",
              "      <td>53.1000</td>\n",
              "      <td>C123</td>\n",
              "      <td>2</td>\n",
              "      <td>0</td>\n",
              "    </tr>\n",
              "    <tr>\n",
              "      <th>4</th>\n",
              "      <td>5</td>\n",
              "      <td>0</td>\n",
              "      <td>3</td>\n",
              "      <td>Allen, Mr. William Henry</td>\n",
              "      <td>1</td>\n",
              "      <td>35.0</td>\n",
              "      <td>373450</td>\n",
              "      <td>8.0500</td>\n",
              "      <td>NaN</td>\n",
              "      <td>2</td>\n",
              "      <td>0</td>\n",
              "    </tr>\n",
              "  </tbody>\n",
              "</table>\n",
              "</div>"
            ],
            "text/plain": [
              "   PassengerId  Survived  Pclass  ... Cabin  Embarked  FamilySize\n",
              "0            1         0       3  ...   NaN         2           0\n",
              "1            2         1       1  ...   C85         1           0\n",
              "2            3         1       3  ...   NaN         2           0\n",
              "3            4         1       1  ...  C123         2           0\n",
              "4            5         0       3  ...   NaN         2           0\n",
              "\n",
              "[5 rows x 11 columns]"
            ]
          },
          "metadata": {
            "tags": []
          },
          "execution_count": 17
        }
      ]
    },
    {
      "cell_type": "markdown",
      "metadata": {
        "id": "pKfoyfvVkpXa",
        "colab_type": "text"
      },
      "source": [
        "\n",
        "$\\quad$\"Name\", \"Ticket\", and \"Cabin\" cannot be directly related to \"Survived\". Therefore, we may remove these three features.\n",
        "<br>\n",
        "<br>\n",
        "$\\quad$However, if you look at \"Name\", you find information such as 'Mr', 'Mrs', 'Capt', 'Master' and so on. We extract this information from \"Name\" and create a new feature \"Title\". After the extraction, \"Name\", \"Ticket\" and \"Cabin\" features are removed.\n",
        "<br>\n",
        "<br>\n",
        "**#3 MODIFICATION: Parsing Cabin**  \n",
        "We'll define process_parse_cabin, which parses cabin string and classifies it to decks. But this will not be executed immediately: will be executed in `Compare` Section."
      ]
    },
    {
      "cell_type": "code",
      "metadata": {
        "scrolled": true,
        "id": "bSxDubPikpXb",
        "colab_type": "code",
        "outputId": "4d7c9442-afd5-4f78-95ed-eb7ce8330aa2",
        "colab": {
          "base_uri": "https://localhost:8080/",
          "height": 630
        }
      },
      "source": [
        "import re\n",
        "\n",
        "# Extract \"Name\" and create \"Title\"\n",
        "def process_title(dataset):\n",
        "    dataset['Title'] = dataset.Name.str.extract(\n",
        "        '([A-Za-z]+)\\.', expand=False\n",
        "    )\n",
        "\n",
        "    dataset.drop('Name', axis=1, inplace=True)\n",
        "\n",
        "def process_remove_ticket(dataset):\n",
        "    dataset.drop('Ticket', axis=1, inplace=True)\n",
        "\n",
        "def process_remove_cabin(dataset):\n",
        "    dataset.drop('Cabin', axis=1, inplace=True)\n",
        "\n",
        "\"\"\"\n",
        "def process_parse_ticket(dataset):\n",
        "    dataset['TicketPrefix'] = dataset.Ticket.str.extract(\n",
        "        '([A-Z0-9.\\/ ]+? )?\\d+', expand=False\n",
        "    )\n",
        "\n",
        "    dataset['TicketNumber'] = dataset.Ticket.str.extract(\n",
        "        '(?:[A-Z0-9.\\/ ]+? )?(\\d+)', expand=False\n",
        "    )\n",
        "\"\"\"\n",
        "\n",
        "def process_parse_cabin(dataset):\n",
        "    target_decks = ['A', 'B', 'C', 'D', 'E', 'F', 'G']\n",
        "\n",
        "    def parse_cabin(row):\n",
        "        cabin_split = \\\n",
        "            row['Cabin'].split(' ') \\\n",
        "            if not pd.isna(row['Cabin']) \\\n",
        "            else []\n",
        "        \n",
        "        cabin_set = list(set(\n",
        "            [re.sub('[^A-Z]+', '', cabin) for cabin in cabin_split]\n",
        "        ))\n",
        "\n",
        "        for deck in target_decks:\n",
        "            row['Deck_%s' % deck] = 1 if deck in cabin_set else 0\n",
        "        \n",
        "        row.drop('Cabin', inplace=True)\n",
        "\n",
        "        return row\n",
        "    \n",
        "    return dataset.apply(parse_cabin, axis=1)\n",
        "\n",
        "cabin_comparison = {\n",
        "    'Cabin': process_parse_cabin\n",
        "}\n",
        "\n",
        "preprocess('Title Extraction', process_title)\n",
        "preprocess('Ticket', process_remove_ticket)\n",
        "preprocess('Cabin', process_remove_cabin)\n",
        "\n",
        "# Print CrossTable between \"Title\" and \"Sex\" features\n",
        "pd.crosstab(preprocessing_train_data['Title'], preprocessing_train_data['Sex'])"
      ],
      "execution_count": 18,
      "outputs": [
        {
          "output_type": "stream",
          "text": [
            "PREPROCESS :: Title Extraction\n",
            "PREPROCESS :: Ticket\n",
            "PREPROCESS :: Cabin\n"
          ],
          "name": "stdout"
        },
        {
          "output_type": "execute_result",
          "data": {
            "text/html": [
              "<div>\n",
              "<style scoped>\n",
              "    .dataframe tbody tr th:only-of-type {\n",
              "        vertical-align: middle;\n",
              "    }\n",
              "\n",
              "    .dataframe tbody tr th {\n",
              "        vertical-align: top;\n",
              "    }\n",
              "\n",
              "    .dataframe thead th {\n",
              "        text-align: right;\n",
              "    }\n",
              "</style>\n",
              "<table border=\"1\" class=\"dataframe\">\n",
              "  <thead>\n",
              "    <tr style=\"text-align: right;\">\n",
              "      <th>Sex</th>\n",
              "      <th>0</th>\n",
              "      <th>1</th>\n",
              "    </tr>\n",
              "    <tr>\n",
              "      <th>Title</th>\n",
              "      <th></th>\n",
              "      <th></th>\n",
              "    </tr>\n",
              "  </thead>\n",
              "  <tbody>\n",
              "    <tr>\n",
              "      <th>Capt</th>\n",
              "      <td>0</td>\n",
              "      <td>1</td>\n",
              "    </tr>\n",
              "    <tr>\n",
              "      <th>Col</th>\n",
              "      <td>0</td>\n",
              "      <td>2</td>\n",
              "    </tr>\n",
              "    <tr>\n",
              "      <th>Countess</th>\n",
              "      <td>1</td>\n",
              "      <td>0</td>\n",
              "    </tr>\n",
              "    <tr>\n",
              "      <th>Don</th>\n",
              "      <td>0</td>\n",
              "      <td>1</td>\n",
              "    </tr>\n",
              "    <tr>\n",
              "      <th>Dr</th>\n",
              "      <td>1</td>\n",
              "      <td>6</td>\n",
              "    </tr>\n",
              "    <tr>\n",
              "      <th>Jonkheer</th>\n",
              "      <td>0</td>\n",
              "      <td>1</td>\n",
              "    </tr>\n",
              "    <tr>\n",
              "      <th>Lady</th>\n",
              "      <td>1</td>\n",
              "      <td>0</td>\n",
              "    </tr>\n",
              "    <tr>\n",
              "      <th>Major</th>\n",
              "      <td>0</td>\n",
              "      <td>2</td>\n",
              "    </tr>\n",
              "    <tr>\n",
              "      <th>Master</th>\n",
              "      <td>0</td>\n",
              "      <td>40</td>\n",
              "    </tr>\n",
              "    <tr>\n",
              "      <th>Miss</th>\n",
              "      <td>182</td>\n",
              "      <td>0</td>\n",
              "    </tr>\n",
              "    <tr>\n",
              "      <th>Mlle</th>\n",
              "      <td>2</td>\n",
              "      <td>0</td>\n",
              "    </tr>\n",
              "    <tr>\n",
              "      <th>Mme</th>\n",
              "      <td>1</td>\n",
              "      <td>0</td>\n",
              "    </tr>\n",
              "    <tr>\n",
              "      <th>Mr</th>\n",
              "      <td>0</td>\n",
              "      <td>517</td>\n",
              "    </tr>\n",
              "    <tr>\n",
              "      <th>Mrs</th>\n",
              "      <td>125</td>\n",
              "      <td>0</td>\n",
              "    </tr>\n",
              "    <tr>\n",
              "      <th>Ms</th>\n",
              "      <td>1</td>\n",
              "      <td>0</td>\n",
              "    </tr>\n",
              "    <tr>\n",
              "      <th>Rev</th>\n",
              "      <td>0</td>\n",
              "      <td>6</td>\n",
              "    </tr>\n",
              "    <tr>\n",
              "      <th>Sir</th>\n",
              "      <td>0</td>\n",
              "      <td>1</td>\n",
              "    </tr>\n",
              "  </tbody>\n",
              "</table>\n",
              "</div>"
            ],
            "text/plain": [
              "Sex         0    1\n",
              "Title             \n",
              "Capt        0    1\n",
              "Col         0    2\n",
              "Countess    1    0\n",
              "Don         0    1\n",
              "Dr          1    6\n",
              "Jonkheer    0    1\n",
              "Lady        1    0\n",
              "Major       0    2\n",
              "Master      0   40\n",
              "Miss      182    0\n",
              "Mlle        2    0\n",
              "Mme         1    0\n",
              "Mr          0  517\n",
              "Mrs       125    0\n",
              "Ms          1    0\n",
              "Rev         0    6\n",
              "Sir         0    1"
            ]
          },
          "metadata": {
            "tags": []
          },
          "execution_count": 18
        }
      ]
    },
    {
      "cell_type": "markdown",
      "metadata": {
        "id": "xuKGWc3jkpXd",
        "colab_type": "text"
      },
      "source": [
        "This is crosstable of \"Title\" and \"Sex\" features. You can see there are one captain or six doctors in male and one doctor or 182 Miss in female categories.\n",
        "\n",
        "\n",
        "There are very few passengers with \"Title\" other than \"Master\", \"Mr\", \"Mrs\", and \"Ms\". So we replace these rare titles with \"Rare\" and titles for females such as \"MS\", \"Mlle\", and \"Mmn\" are combined with \"Miss\". After substitution, we vectorize 'Mr' to '1', 'Miss' to '2', 'Mrs' to '3', 'Master' to '4', 'Rare' to '5' and set '0' if \"Title\" is unknown. This can be done in the code below.\n",
        "\n",
        "**#4 MODIFICATION: Title to one-hot**  \n",
        "We'll define process_onehot_title, which maps title to one-hot vector. But this will not be executed immediately: will be executed in `Compare` Section."
      ]
    },
    {
      "cell_type": "code",
      "metadata": {
        "scrolled": true,
        "id": "8TmRMOM_kpXe",
        "colab_type": "code",
        "outputId": "ec48da31-61a3-4adf-d662-60a0b5b6bae4",
        "colab": {
          "base_uri": "https://localhost:8080/",
          "height": 229
        }
      },
      "source": [
        "def process_normalize_title(dataset):\n",
        "    # The rest except the main \"Title\" is classified as \"Rare\"\n",
        "    dataset['Title'].replace([\n",
        "        'Lady', 'Countess', 'Capt', 'Col',\n",
        "        'Don', 'Dr', 'Major', 'Rev', 'Sir',\n",
        "        'Jonkheer', 'Dona'\n",
        "    ], 'Rare', inplace=True)\n",
        "\n",
        "    # Unify 'Ms', 'Mlle', 'Mme' as 'Miss'\n",
        "    dataset['Title'].replace(\n",
        "        ['Ms', 'Mlle', 'Mme'],\n",
        "        ['Miss', 'Miss', 'Miss'],\n",
        "        inplace=True\n",
        "    )\n",
        "\n",
        "def process_numeric_title(dataset):\n",
        "    # \"Title\" vectorization\n",
        "    dataset['Title'].replace(\n",
        "        ['Mr', 'Miss', 'Mrs', 'Master', 'Rare'],\n",
        "        [1, 2, 3, 4, 5],\n",
        "        inplace=True\n",
        "    )\n",
        "\n",
        "    # Set '0' for unknown \"Title\"\n",
        "    dataset['Title'].replace([None], [0], inplace=True)\n",
        "\n",
        "process_onehot_title = process_onehot('Title')\n",
        "title_comparison = {\n",
        "    'Title Embedding': process_onehot_title\n",
        "}\n",
        "\n",
        "preprocess('Title Normalization', process_normalize_title)\n",
        "preprocess('Title Embedding', process_numeric_title, show_head=True)\n"
      ],
      "execution_count": 19,
      "outputs": [
        {
          "output_type": "stream",
          "text": [
            "PREPROCESS :: Title Normalization\n",
            "PREPROCESS :: Title Embedding\n"
          ],
          "name": "stdout"
        },
        {
          "output_type": "execute_result",
          "data": {
            "text/html": [
              "<div>\n",
              "<style scoped>\n",
              "    .dataframe tbody tr th:only-of-type {\n",
              "        vertical-align: middle;\n",
              "    }\n",
              "\n",
              "    .dataframe tbody tr th {\n",
              "        vertical-align: top;\n",
              "    }\n",
              "\n",
              "    .dataframe thead th {\n",
              "        text-align: right;\n",
              "    }\n",
              "</style>\n",
              "<table border=\"1\" class=\"dataframe\">\n",
              "  <thead>\n",
              "    <tr style=\"text-align: right;\">\n",
              "      <th></th>\n",
              "      <th>PassengerId</th>\n",
              "      <th>Survived</th>\n",
              "      <th>Pclass</th>\n",
              "      <th>Sex</th>\n",
              "      <th>Age</th>\n",
              "      <th>Fare</th>\n",
              "      <th>Embarked</th>\n",
              "      <th>FamilySize</th>\n",
              "      <th>Title</th>\n",
              "    </tr>\n",
              "  </thead>\n",
              "  <tbody>\n",
              "    <tr>\n",
              "      <th>0</th>\n",
              "      <td>1</td>\n",
              "      <td>0</td>\n",
              "      <td>3</td>\n",
              "      <td>1</td>\n",
              "      <td>22.0</td>\n",
              "      <td>7.2500</td>\n",
              "      <td>2</td>\n",
              "      <td>0</td>\n",
              "      <td>1</td>\n",
              "    </tr>\n",
              "    <tr>\n",
              "      <th>1</th>\n",
              "      <td>2</td>\n",
              "      <td>1</td>\n",
              "      <td>1</td>\n",
              "      <td>0</td>\n",
              "      <td>38.0</td>\n",
              "      <td>71.2833</td>\n",
              "      <td>1</td>\n",
              "      <td>0</td>\n",
              "      <td>3</td>\n",
              "    </tr>\n",
              "    <tr>\n",
              "      <th>2</th>\n",
              "      <td>3</td>\n",
              "      <td>1</td>\n",
              "      <td>3</td>\n",
              "      <td>0</td>\n",
              "      <td>26.0</td>\n",
              "      <td>7.9250</td>\n",
              "      <td>2</td>\n",
              "      <td>0</td>\n",
              "      <td>2</td>\n",
              "    </tr>\n",
              "    <tr>\n",
              "      <th>3</th>\n",
              "      <td>4</td>\n",
              "      <td>1</td>\n",
              "      <td>1</td>\n",
              "      <td>0</td>\n",
              "      <td>35.0</td>\n",
              "      <td>53.1000</td>\n",
              "      <td>2</td>\n",
              "      <td>0</td>\n",
              "      <td>3</td>\n",
              "    </tr>\n",
              "    <tr>\n",
              "      <th>4</th>\n",
              "      <td>5</td>\n",
              "      <td>0</td>\n",
              "      <td>3</td>\n",
              "      <td>1</td>\n",
              "      <td>35.0</td>\n",
              "      <td>8.0500</td>\n",
              "      <td>2</td>\n",
              "      <td>0</td>\n",
              "      <td>1</td>\n",
              "    </tr>\n",
              "  </tbody>\n",
              "</table>\n",
              "</div>"
            ],
            "text/plain": [
              "   PassengerId  Survived  Pclass  Sex  ...     Fare  Embarked  FamilySize  Title\n",
              "0            1         0       3    1  ...   7.2500         2           0      1\n",
              "1            2         1       1    0  ...  71.2833         1           0      3\n",
              "2            3         1       3    0  ...   7.9250         2           0      2\n",
              "3            4         1       1    0  ...  53.1000         2           0      3\n",
              "4            5         0       3    1  ...   8.0500         2           0      1\n",
              "\n",
              "[5 rows x 9 columns]"
            ]
          },
          "metadata": {
            "tags": []
          },
          "execution_count": 19
        }
      ]
    },
    {
      "cell_type": "markdown",
      "metadata": {
        "id": "ojF4yPNSkpXf",
        "colab_type": "text"
      },
      "source": [
        "\n",
        "$\\quad$In case of \"Age\", there are 177 missing data and we restore them to average value of the age(30) for the rest of the passengers.\n"
      ]
    },
    {
      "cell_type": "code",
      "metadata": {
        "scrolled": true,
        "id": "M27mgaRjkpXg",
        "colab_type": "code",
        "outputId": "52957bc9-5e09-4558-ce0b-ed71aeadd721",
        "colab": {
          "base_uri": "https://localhost:8080/",
          "height": 212
        }
      },
      "source": [
        "def process_fill_age(dataset):\n",
        "    dataset['Age'].replace([None], [30], inplace=True)\n",
        "\n",
        "preprocess('Fill Age', process_fill_age, show_head=True)"
      ],
      "execution_count": 20,
      "outputs": [
        {
          "output_type": "stream",
          "text": [
            "PREPROCESS :: Fill Age\n"
          ],
          "name": "stdout"
        },
        {
          "output_type": "execute_result",
          "data": {
            "text/html": [
              "<div>\n",
              "<style scoped>\n",
              "    .dataframe tbody tr th:only-of-type {\n",
              "        vertical-align: middle;\n",
              "    }\n",
              "\n",
              "    .dataframe tbody tr th {\n",
              "        vertical-align: top;\n",
              "    }\n",
              "\n",
              "    .dataframe thead th {\n",
              "        text-align: right;\n",
              "    }\n",
              "</style>\n",
              "<table border=\"1\" class=\"dataframe\">\n",
              "  <thead>\n",
              "    <tr style=\"text-align: right;\">\n",
              "      <th></th>\n",
              "      <th>PassengerId</th>\n",
              "      <th>Survived</th>\n",
              "      <th>Pclass</th>\n",
              "      <th>Sex</th>\n",
              "      <th>Age</th>\n",
              "      <th>Fare</th>\n",
              "      <th>Embarked</th>\n",
              "      <th>FamilySize</th>\n",
              "      <th>Title</th>\n",
              "    </tr>\n",
              "  </thead>\n",
              "  <tbody>\n",
              "    <tr>\n",
              "      <th>0</th>\n",
              "      <td>1</td>\n",
              "      <td>0</td>\n",
              "      <td>3</td>\n",
              "      <td>1</td>\n",
              "      <td>22.0</td>\n",
              "      <td>7.2500</td>\n",
              "      <td>2</td>\n",
              "      <td>0</td>\n",
              "      <td>1</td>\n",
              "    </tr>\n",
              "    <tr>\n",
              "      <th>1</th>\n",
              "      <td>2</td>\n",
              "      <td>1</td>\n",
              "      <td>1</td>\n",
              "      <td>0</td>\n",
              "      <td>38.0</td>\n",
              "      <td>71.2833</td>\n",
              "      <td>1</td>\n",
              "      <td>0</td>\n",
              "      <td>3</td>\n",
              "    </tr>\n",
              "    <tr>\n",
              "      <th>2</th>\n",
              "      <td>3</td>\n",
              "      <td>1</td>\n",
              "      <td>3</td>\n",
              "      <td>0</td>\n",
              "      <td>26.0</td>\n",
              "      <td>7.9250</td>\n",
              "      <td>2</td>\n",
              "      <td>0</td>\n",
              "      <td>2</td>\n",
              "    </tr>\n",
              "    <tr>\n",
              "      <th>3</th>\n",
              "      <td>4</td>\n",
              "      <td>1</td>\n",
              "      <td>1</td>\n",
              "      <td>0</td>\n",
              "      <td>35.0</td>\n",
              "      <td>53.1000</td>\n",
              "      <td>2</td>\n",
              "      <td>0</td>\n",
              "      <td>3</td>\n",
              "    </tr>\n",
              "    <tr>\n",
              "      <th>4</th>\n",
              "      <td>5</td>\n",
              "      <td>0</td>\n",
              "      <td>3</td>\n",
              "      <td>1</td>\n",
              "      <td>35.0</td>\n",
              "      <td>8.0500</td>\n",
              "      <td>2</td>\n",
              "      <td>0</td>\n",
              "      <td>1</td>\n",
              "    </tr>\n",
              "  </tbody>\n",
              "</table>\n",
              "</div>"
            ],
            "text/plain": [
              "   PassengerId  Survived  Pclass  Sex  ...     Fare  Embarked  FamilySize  Title\n",
              "0            1         0       3    1  ...   7.2500         2           0      1\n",
              "1            2         1       1    0  ...  71.2833         1           0      3\n",
              "2            3         1       3    0  ...   7.9250         2           0      2\n",
              "3            4         1       1    0  ...  53.1000         2           0      3\n",
              "4            5         0       3    1  ...   8.0500         2           0      1\n",
              "\n",
              "[5 rows x 9 columns]"
            ]
          },
          "metadata": {
            "tags": []
          },
          "execution_count": 20
        }
      ]
    },
    {
      "cell_type": "markdown",
      "metadata": {
        "id": "Z9Loq_E_kpXj",
        "colab_type": "text"
      },
      "source": [
        "**#5 MODIFICATION: Normalize Age, Fare, Pclass**  \n",
        "As \"Age\", \"Fare\", \"Pclass\" columns need normalization. We divide it into their average. But this will not be executed immediately: will be executed in `Compare` Section."
      ]
    },
    {
      "cell_type": "code",
      "metadata": {
        "id": "V0MXg8qHDm03",
        "colab_type": "code",
        "colab": {}
      },
      "source": [
        "process_normalize_age = process_normalize('Age')\n",
        "process_normalize_fare = process_normalize('Fare')\n",
        "# process_normalize_pclass = process_normalize('Pclass')\n",
        "\n",
        "normalize_comparison = {\n",
        "    'Normalize Age': process_normalize_age,\n",
        "    'Normalize Fare': process_normalize_fare,\n",
        "#   'Normalize Pclass': process_normalize_pclass\n",
        "}"
      ],
      "execution_count": 0,
      "outputs": []
    },
    {
      "cell_type": "markdown",
      "metadata": {
        "id": "Smz1nKs7kpXj",
        "colab_type": "text"
      },
      "source": [
        "## 3. Compare\n"
      ]
    },
    {
      "cell_type": "markdown",
      "metadata": {
        "id": "DaxeieCtVJ8a",
        "colab_type": "text"
      },
      "source": [
        "### Comparing Preprocessing\n",
        "$\\quad$Now we apply machine learning algorithms to preprocessed data and comparing data. After that we'll compare the roc curve and cross-validated accuracy.\n",
        "<br>\n",
        "<br>\n",
        "$\\quad$In this project, we will use 'Logistic Regression', 'SVM', and 'RandomForest' that we reviewed during the previous lectures.\n",
        "<br>\n",
        "<br>\n",
        "$\\quad$To use each algorithm, we create training data by removing \"Survived\" and meaningless \"PassangerId\" from preprocessed data, and extract only \"Survived\" to create label data. (remove \"PassagerId\" from the test data), apply each algorithm, predict the test data with the resulting model, save it as a file, and submit it to kaggle. The code is shown below."
      ]
    },
    {
      "cell_type": "code",
      "metadata": {
        "scrolled": false,
        "id": "-IqVK5BrkpXm",
        "colab_type": "code",
        "outputId": "f99f0077-28bc-4037-b051-8504dd0d7922",
        "colab": {
          "base_uri": "https://localhost:8080/",
          "height": 1000
        }
      },
      "source": [
        "# cross_validation(classifier, train_set: DataFrame, chunks: int)\n",
        "#    : array\n",
        "#\n",
        "# 1. Splits dataset into 8 chunks\n",
        "# 2. For each classifier, chunk:\n",
        "#    use 1 chunk to validate, other chunks to train\n",
        "# 3. Returns \n",
        "\n",
        "def cross_validation(classifier, train_set, chunks=8):\n",
        "    train_X = train_set.drop(\n",
        "            ['Survived', 'PassengerId'], axis=1\n",
        "        ).to_numpy()\n",
        "\n",
        "    train_Y = train_set['Survived'].to_numpy()\n",
        "\n",
        "    \"\"\"\n",
        "    chunk_size = int(train_set.shape[0] / chunks)\n",
        "    window = []\n",
        "\n",
        "    for classifier in classifiers:\n",
        "        for i in range(chunks):\n",
        "            train_chunks = np.r_[\n",
        "                train_set[: i * chunk_size],\n",
        "                train_set[(i + 1) * chunk_size :]\n",
        "            ]\n",
        "\n",
        "            validation_chunks = train_set[\n",
        "                i * chunk_size : (i + 1) * chunk_size\n",
        "            ]\n",
        "            \n",
        "            classifier.fit(train_chunks, validation_chunks)\n",
        "            pred_Y = classifier.predict_proba(train_X)[:, 1]\n",
        "\n",
        "            # Scores the classifier\n",
        "            accuracy = classifier.score(X)\n",
        "            fpr, tpr, threshold = roc_curve(train_Y, pred_Y)\n",
        "            window.append({'fpr': fpr, 'tpr': tpr, 'accuracy': accuracy})\n",
        "    \"\"\"\n",
        "\n",
        "    return cross_val_score(classifier, train_X, train_Y, cv=8)\n",
        "\n",
        "# apply_comparison_preprocess(\n",
        "#    comparison_object: {feature_name: function}, show_head: bool\n",
        "# ) : datasets\n",
        "#\n",
        "# CompareObject replaces processing step\n",
        "#   which name is feature_name to comparing function\n",
        "#\n",
        "# It applies the preprocessing steps to original dataset\n",
        "def apply_comparison_preprocess(comparison_object, show_head=True):\n",
        "    global datasets, preprocesses\n",
        "    \n",
        "    originally_preprocessed_datasets = datasets\n",
        "    original_preprocesses = preprocesses.copy()\n",
        "\n",
        "    comparing_datasets = [dataset.copy() for dataset in datasets_original]\n",
        "    comparing_preprocess = preprocesses.copy()\n",
        "\n",
        "    # Apply CompareObject to Original Preprocess Steps\n",
        "    for (key, value) in comparison_object.items():\n",
        "        comparing_preprocess[key] = value\n",
        "    \n",
        "    # Apply Preprocess Steps to comparing_datasets\n",
        "    datasets = comparing_datasets\n",
        "\n",
        "    for (key, process_fn) in comparing_preprocess.items():\n",
        "        retval = preprocess(\n",
        "            key, process_fn, show_head=(show_head and key in comparison_object)\n",
        "        )\n",
        "        if retval is not None:\n",
        "            print(retval)\n",
        "\n",
        "    comparing_datasets = datasets\n",
        "    datasets = originally_preprocessed_datasets\n",
        "    preprocesses = original_preprocesses\n",
        "\n",
        "    return comparing_datasets\n",
        "\n",
        "# compare(comparison_object: {feature_name: function}, classifier)\n",
        "#    : {\"original\": array, \"target\": array}\n",
        "# \n",
        "# It returns cross_validation scores of\n",
        "#    originally preprocessed dataset and\n",
        "#    dataset which some steps of preprocessing is replaced\n",
        "def compare_preprocessing(\n",
        "    comparison_object, classifier=SVC(probability=True, gamma='auto')\n",
        "):\n",
        "    preprocessed_datasets = datasets\n",
        "    comparing_datasets = apply_comparison_preprocess(comparison_object)\n",
        "\n",
        "    return {\n",
        "        'original': cross_validation(classifier, preprocessed_datasets[0]),\n",
        "        'applied': cross_validation(classifier, comparing_datasets[0])\n",
        "    }\n",
        "\n",
        "\n",
        "# print_compare_result(compare_name: str, compare_result: {name: array})\n",
        "# prints cross validation score for each feature\n",
        "def print_compare_result(compare_name, compare_result):\n",
        "    for key, value in compare_result.items():\n",
        "        print(\"%s Accuracy: %.4f (+/- %.4f)\" % (\n",
        "            key.capitalize(), value.mean(), value.std() * 2\n",
        "        ))\n",
        "\n",
        "    print(\"\\n\")\n",
        "\n",
        "\n",
        "def print_compare_preprocessing(compare_name, comparison_object):\n",
        "    print(\"======= %s =======\" % compare_name)\n",
        "    print_compare_result(\n",
        "        compare_name, compare_preprocessing(comparison_object)\n",
        "    )\n",
        "\n",
        "print_compare_preprocessing('Modification #1: SibSp Parch', sibsp_parch_comparison)\n",
        "print_compare_preprocessing('Modification #2: Embarked', embarked_comparison)\n",
        "print_compare_preprocessing('Modification #3: Cabin', cabin_comparison)\n",
        "print_compare_preprocessing('Modification #4: Title', title_comparison)\n",
        "print_compare_preprocessing('Modification #5: Normalize', normalize_comparison)"
      ],
      "execution_count": 22,
      "outputs": [
        {
          "output_type": "stream",
          "text": [
            "======= Modification #1: SibSp Parch =======\n",
            "PREPROCESS :: FamilySize\n",
            "PREPROCESS :: Simplize FamilySize\n",
            "PREPROCESS :: SibSp Parch\n",
            "    Age Cabin Embarked  ...     Sex  Survived            Ticket\n",
            "0  22.0   NaN        S  ...    male         0         A/5 21171\n",
            "1  38.0   C85        C  ...  female         1          PC 17599\n",
            "2  26.0   NaN        S  ...  female         1  STON/O2. 3101282\n",
            "3  35.0  C123        S  ...  female         1            113803\n",
            "4  35.0   NaN        S  ...    male         0            373450\n",
            "\n",
            "[5 rows x 13 columns]\n",
            "PREPROCESS :: Fill Embarked\n",
            "PREPROCESS :: Sex Embedding\n",
            "PREPROCESS :: Embarked Embedding\n",
            "PREPROCESS :: Title Extraction\n",
            "PREPROCESS :: Ticket\n",
            "PREPROCESS :: Cabin\n",
            "PREPROCESS :: Title Normalization\n",
            "PREPROCESS :: Title Embedding\n",
            "PREPROCESS :: Fill Age\n",
            "PREPROCESS :: Normalize Protector\n",
            "    Age  Embarked  FamilySize     Fare  ...  Protector  Sex  Survived  Title\n",
            "0  22.0         2           0   7.2500  ...        0.0    1       0.0      1\n",
            "1  38.0         1           0  71.2833  ...        0.0    0       1.0      3\n",
            "2  26.0         2           0   7.9250  ...        0.0    0       1.0      2\n",
            "3  35.0         2           0  53.1000  ...        0.0    0       1.0      3\n",
            "4  35.0         2           0   8.0500  ...        0.0    1       0.0      1\n",
            "\n",
            "[5 rows x 11 columns]\n",
            "PREPROCESS :: Normalize Protectee\n",
            "    Age  Embarked  FamilySize     Fare  ...  Protector  Sex  Survived  Title\n",
            "0  22.0         2           0   7.2500  ...        0.0    1       0.0      1\n",
            "1  38.0         1           0  71.2833  ...        0.0    0       1.0      3\n",
            "2  26.0         2           0   7.9250  ...        0.0    0       1.0      2\n",
            "3  35.0         2           0  53.1000  ...        0.0    0       1.0      3\n",
            "4  35.0         2           0   8.0500  ...        0.0    1       0.0      1\n",
            "\n",
            "[5 rows x 11 columns]\n",
            "Original Accuracy: 0.7285 (+/- 0.0706)\n",
            "Applied Accuracy: 0.7386 (+/- 0.0673)\n",
            "\n",
            "\n",
            "======= Modification #2: Embarked =======\n",
            "PREPROCESS :: FamilySize\n",
            "PREPROCESS :: Simplize FamilySize\n",
            "PREPROCESS :: SibSp Parch\n",
            "PREPROCESS :: Fill Embarked\n",
            "PREPROCESS :: Sex Embedding\n",
            "PREPROCESS :: Embarked Embedding\n",
            "   PassengerId  Survived  Pclass  ... Embarked_C  Embarked_Q  Embarked_S\n",
            "0            1       0.0       3  ...          0           0           1\n",
            "1            2       1.0       1  ...          1           0           0\n",
            "2            3       1.0       3  ...          0           0           1\n",
            "3            4       1.0       1  ...          0           0           1\n",
            "4            5       0.0       3  ...          0           0           1\n",
            "\n",
            "[5 rows x 13 columns]\n",
            "PREPROCESS :: Title Extraction\n",
            "PREPROCESS :: Ticket\n",
            "PREPROCESS :: Cabin\n",
            "PREPROCESS :: Title Normalization\n",
            "PREPROCESS :: Title Embedding\n",
            "PREPROCESS :: Fill Age\n",
            "Original Accuracy: 0.7285 (+/- 0.0706)\n",
            "Applied Accuracy: 0.7353 (+/- 0.0778)\n",
            "\n",
            "\n",
            "======= Modification #3: Cabin =======\n",
            "PREPROCESS :: FamilySize\n",
            "PREPROCESS :: Simplize FamilySize\n",
            "PREPROCESS :: SibSp Parch\n",
            "PREPROCESS :: Fill Embarked\n",
            "PREPROCESS :: Sex Embedding\n",
            "PREPROCESS :: Embarked Embedding\n",
            "PREPROCESS :: Title Extraction\n",
            "PREPROCESS :: Ticket\n",
            "PREPROCESS :: Cabin\n",
            "   PassengerId  Survived  Pclass  Sex  ...  Deck_D  Deck_E  Deck_F  Deck_G\n",
            "0            1         0       3    1  ...       0       0       0       0\n",
            "1            2         1       1    0  ...       0       0       0       0\n",
            "2            3         1       3    0  ...       0       0       0       0\n",
            "3            4         1       1    0  ...       0       0       0       0\n",
            "4            5         0       3    1  ...       0       0       0       0\n",
            "\n",
            "[5 rows x 16 columns]\n",
            "PREPROCESS :: Title Normalization\n",
            "PREPROCESS :: Title Embedding\n",
            "PREPROCESS :: Fill Age\n",
            "Original Accuracy: 0.7285 (+/- 0.0706)\n",
            "Applied Accuracy: 0.7421 (+/- 0.0858)\n",
            "\n",
            "\n",
            "======= Modification #4: Title =======\n",
            "PREPROCESS :: FamilySize\n",
            "PREPROCESS :: Simplize FamilySize\n",
            "PREPROCESS :: SibSp Parch\n",
            "PREPROCESS :: Fill Embarked\n",
            "PREPROCESS :: Sex Embedding\n",
            "PREPROCESS :: Embarked Embedding\n",
            "PREPROCESS :: Title Extraction\n",
            "PREPROCESS :: Ticket\n",
            "PREPROCESS :: Cabin\n",
            "PREPROCESS :: Title Normalization\n",
            "PREPROCESS :: Title Embedding\n",
            "   PassengerId  Survived  Pclass  ...  Title_Mr  Title_Mrs  Title_Rare\n",
            "0            1       0.0       3  ...         1          0           0\n",
            "1            2       1.0       1  ...         0          1           0\n",
            "2            3       1.0       3  ...         0          0           0\n",
            "3            4       1.0       1  ...         0          1           0\n",
            "4            5       0.0       3  ...         1          0           0\n",
            "\n",
            "[5 rows x 13 columns]\n",
            "PREPROCESS :: Fill Age\n",
            "Original Accuracy: 0.7285 (+/- 0.0706)\n",
            "Applied Accuracy: 0.7297 (+/- 0.0854)\n",
            "\n",
            "\n",
            "======= Modification #5: Normalize =======\n",
            "PREPROCESS :: FamilySize\n",
            "PREPROCESS :: Simplize FamilySize\n",
            "PREPROCESS :: SibSp Parch\n",
            "PREPROCESS :: Fill Embarked\n",
            "PREPROCESS :: Sex Embedding\n",
            "PREPROCESS :: Embarked Embedding\n",
            "PREPROCESS :: Title Extraction\n",
            "PREPROCESS :: Ticket\n",
            "PREPROCESS :: Cabin\n",
            "PREPROCESS :: Title Normalization\n",
            "PREPROCESS :: Title Embedding\n",
            "PREPROCESS :: Fill Age\n",
            "PREPROCESS :: Normalize Age\n",
            "   PassengerId  Survived  Pclass  Sex  ...     Fare  Embarked  FamilySize  Title\n",
            "0            1       0.0       3    1  ...   7.2500         2           0      1\n",
            "1            2       1.0       1    0  ...  71.2833         1           0      3\n",
            "2            3       1.0       3    0  ...   7.9250         2           0      2\n",
            "3            4       1.0       1    0  ...  53.1000         2           0      3\n",
            "4            5       0.0       3    1  ...   8.0500         2           0      1\n",
            "\n",
            "[5 rows x 9 columns]\n",
            "PREPROCESS :: Normalize Fare\n",
            "   PassengerId  Survived  Pclass  Sex  ...      Fare  Embarked  FamilySize  Title\n",
            "0            1       0.0       3    1  ...  0.014151         2           0      1\n",
            "1            2       1.0       1    0  ...  0.139136         1           0      3\n",
            "2            3       1.0       3    0  ...  0.015469         2           0      2\n",
            "3            4       1.0       1    0  ...  0.103644         2           0      3\n",
            "4            5       0.0       3    1  ...  0.015713         2           0      1\n",
            "\n",
            "[5 rows x 9 columns]\n",
            "Original Accuracy: 0.7285 (+/- 0.0706)\n",
            "Applied Accuracy: 0.8204 (+/- 0.0611)\n",
            "\n",
            "\n"
          ],
          "name": "stdout"
        }
      ]
    },
    {
      "cell_type": "markdown",
      "metadata": {
        "id": "6viCIXcYvNcP",
        "colab_type": "text"
      },
      "source": [
        "Modify dataset by applying modification #2, #3, #4, #5"
      ]
    },
    {
      "cell_type": "code",
      "metadata": {
        "id": "SufXtQZ1yZqx",
        "colab_type": "code",
        "outputId": "5a7b2d35-2794-40fd-8063-d603d34adbc8",
        "colab": {
          "base_uri": "https://localhost:8080/",
          "height": 484
        }
      },
      "source": [
        "datasets = apply_comparison_preprocess(\n",
        "    dict(\n",
        "        **sibsp_parch_comparison,\n",
        "        **embarked_comparison,\n",
        "        **title_comparison,\n",
        "        **cabin_comparison,\n",
        "        **normalize_comparison\n",
        "    ),\n",
        "\n",
        "    show_head=False\n",
        ")\n",
        "datasets[0].head()"
      ],
      "execution_count": 23,
      "outputs": [
        {
          "output_type": "stream",
          "text": [
            "PREPROCESS :: FamilySize\n",
            "PREPROCESS :: Simplize FamilySize\n",
            "PREPROCESS :: SibSp Parch\n",
            "PREPROCESS :: Fill Embarked\n",
            "PREPROCESS :: Sex Embedding\n",
            "PREPROCESS :: Embarked Embedding\n",
            "PREPROCESS :: Title Extraction\n",
            "PREPROCESS :: Ticket\n",
            "PREPROCESS :: Cabin\n",
            "PREPROCESS :: Title Normalization\n",
            "PREPROCESS :: Title Embedding\n",
            "PREPROCESS :: Fill Age\n",
            "PREPROCESS :: Normalize Protector\n",
            "PREPROCESS :: Normalize Protectee\n",
            "PREPROCESS :: Normalize Age\n",
            "PREPROCESS :: Normalize Fare\n"
          ],
          "name": "stdout"
        },
        {
          "output_type": "execute_result",
          "data": {
            "text/html": [
              "<div>\n",
              "<style scoped>\n",
              "    .dataframe tbody tr th:only-of-type {\n",
              "        vertical-align: middle;\n",
              "    }\n",
              "\n",
              "    .dataframe tbody tr th {\n",
              "        vertical-align: top;\n",
              "    }\n",
              "\n",
              "    .dataframe thead th {\n",
              "        text-align: right;\n",
              "    }\n",
              "</style>\n",
              "<table border=\"1\" class=\"dataframe\">\n",
              "  <thead>\n",
              "    <tr style=\"text-align: right;\">\n",
              "      <th></th>\n",
              "      <th>Age</th>\n",
              "      <th>FamilySize</th>\n",
              "      <th>Fare</th>\n",
              "      <th>PassengerId</th>\n",
              "      <th>Pclass</th>\n",
              "      <th>Protectee</th>\n",
              "      <th>Protector</th>\n",
              "      <th>Sex</th>\n",
              "      <th>Survived</th>\n",
              "      <th>Embarked_C</th>\n",
              "      <th>Embarked_Q</th>\n",
              "      <th>Embarked_S</th>\n",
              "      <th>Deck_A</th>\n",
              "      <th>Deck_B</th>\n",
              "      <th>Deck_C</th>\n",
              "      <th>Deck_D</th>\n",
              "      <th>Deck_E</th>\n",
              "      <th>Deck_F</th>\n",
              "      <th>Deck_G</th>\n",
              "      <th>Title_Master</th>\n",
              "      <th>Title_Miss</th>\n",
              "      <th>Title_Mr</th>\n",
              "      <th>Title_Mrs</th>\n",
              "      <th>Title_Rare</th>\n",
              "    </tr>\n",
              "  </thead>\n",
              "  <tbody>\n",
              "    <tr>\n",
              "      <th>0</th>\n",
              "      <td>0.273456</td>\n",
              "      <td>0</td>\n",
              "      <td>0.014151</td>\n",
              "      <td>1</td>\n",
              "      <td>3</td>\n",
              "      <td>0.0</td>\n",
              "      <td>0.0</td>\n",
              "      <td>1</td>\n",
              "      <td>0.0</td>\n",
              "      <td>0</td>\n",
              "      <td>0</td>\n",
              "      <td>1</td>\n",
              "      <td>0</td>\n",
              "      <td>0</td>\n",
              "      <td>0</td>\n",
              "      <td>0</td>\n",
              "      <td>0</td>\n",
              "      <td>0</td>\n",
              "      <td>0</td>\n",
              "      <td>0</td>\n",
              "      <td>0</td>\n",
              "      <td>1</td>\n",
              "      <td>0</td>\n",
              "      <td>0</td>\n",
              "    </tr>\n",
              "    <tr>\n",
              "      <th>1</th>\n",
              "      <td>0.473882</td>\n",
              "      <td>0</td>\n",
              "      <td>0.139136</td>\n",
              "      <td>2</td>\n",
              "      <td>1</td>\n",
              "      <td>0.0</td>\n",
              "      <td>0.0</td>\n",
              "      <td>0</td>\n",
              "      <td>1.0</td>\n",
              "      <td>1</td>\n",
              "      <td>0</td>\n",
              "      <td>0</td>\n",
              "      <td>0</td>\n",
              "      <td>0</td>\n",
              "      <td>1</td>\n",
              "      <td>0</td>\n",
              "      <td>0</td>\n",
              "      <td>0</td>\n",
              "      <td>0</td>\n",
              "      <td>0</td>\n",
              "      <td>0</td>\n",
              "      <td>0</td>\n",
              "      <td>1</td>\n",
              "      <td>0</td>\n",
              "    </tr>\n",
              "    <tr>\n",
              "      <th>2</th>\n",
              "      <td>0.323563</td>\n",
              "      <td>0</td>\n",
              "      <td>0.015469</td>\n",
              "      <td>3</td>\n",
              "      <td>3</td>\n",
              "      <td>0.0</td>\n",
              "      <td>0.0</td>\n",
              "      <td>0</td>\n",
              "      <td>1.0</td>\n",
              "      <td>0</td>\n",
              "      <td>0</td>\n",
              "      <td>1</td>\n",
              "      <td>0</td>\n",
              "      <td>0</td>\n",
              "      <td>0</td>\n",
              "      <td>0</td>\n",
              "      <td>0</td>\n",
              "      <td>0</td>\n",
              "      <td>0</td>\n",
              "      <td>0</td>\n",
              "      <td>1</td>\n",
              "      <td>0</td>\n",
              "      <td>0</td>\n",
              "      <td>0</td>\n",
              "    </tr>\n",
              "    <tr>\n",
              "      <th>3</th>\n",
              "      <td>0.436302</td>\n",
              "      <td>0</td>\n",
              "      <td>0.103644</td>\n",
              "      <td>4</td>\n",
              "      <td>1</td>\n",
              "      <td>0.0</td>\n",
              "      <td>0.0</td>\n",
              "      <td>0</td>\n",
              "      <td>1.0</td>\n",
              "      <td>0</td>\n",
              "      <td>0</td>\n",
              "      <td>1</td>\n",
              "      <td>0</td>\n",
              "      <td>0</td>\n",
              "      <td>1</td>\n",
              "      <td>0</td>\n",
              "      <td>0</td>\n",
              "      <td>0</td>\n",
              "      <td>0</td>\n",
              "      <td>0</td>\n",
              "      <td>0</td>\n",
              "      <td>0</td>\n",
              "      <td>1</td>\n",
              "      <td>0</td>\n",
              "    </tr>\n",
              "    <tr>\n",
              "      <th>4</th>\n",
              "      <td>0.436302</td>\n",
              "      <td>0</td>\n",
              "      <td>0.015713</td>\n",
              "      <td>5</td>\n",
              "      <td>3</td>\n",
              "      <td>0.0</td>\n",
              "      <td>0.0</td>\n",
              "      <td>1</td>\n",
              "      <td>0.0</td>\n",
              "      <td>0</td>\n",
              "      <td>0</td>\n",
              "      <td>1</td>\n",
              "      <td>0</td>\n",
              "      <td>0</td>\n",
              "      <td>0</td>\n",
              "      <td>0</td>\n",
              "      <td>0</td>\n",
              "      <td>0</td>\n",
              "      <td>0</td>\n",
              "      <td>0</td>\n",
              "      <td>0</td>\n",
              "      <td>1</td>\n",
              "      <td>0</td>\n",
              "      <td>0</td>\n",
              "    </tr>\n",
              "  </tbody>\n",
              "</table>\n",
              "</div>"
            ],
            "text/plain": [
              "        Age  FamilySize      Fare  ...  Title_Mr  Title_Mrs  Title_Rare\n",
              "0  0.273456           0  0.014151  ...         1          0           0\n",
              "1  0.473882           0  0.139136  ...         0          1           0\n",
              "2  0.323563           0  0.015469  ...         0          0           0\n",
              "3  0.436302           0  0.103644  ...         0          1           0\n",
              "4  0.436302           0  0.015713  ...         1          0           0\n",
              "\n",
              "[5 rows x 24 columns]"
            ]
          },
          "metadata": {
            "tags": []
          },
          "execution_count": 23
        }
      ]
    },
    {
      "cell_type": "markdown",
      "metadata": {
        "id": "iMWz5uQpz3GU",
        "colab_type": "text"
      },
      "source": [
        "### Comparing Hyperparameters"
      ]
    },
    {
      "cell_type": "code",
      "metadata": {
        "id": "64CbQSIkz5wj",
        "colab_type": "code",
        "colab": {}
      },
      "source": [
        "# compare_hyperparameter(name1: str, classifier1: Classifier, name2: str, ...)\n",
        "# get cross validation score for each classifier and return\n",
        "def compare_hyperparameter(*args):\n",
        "    cross_validation_dict = {}\n",
        "\n",
        "    for i in range(0, len(args), 2):\n",
        "        cross_validation_dict[args[i]] = cross_validation(\n",
        "            args[i + 1], datasets[0]\n",
        "        )\n",
        "    \n",
        "    return cross_validation_dict\n",
        "\n",
        "\n",
        "def print_compare_hyperparameter(compare_name, *args):\n",
        "    print(\"======= %s =======\" % compare_name)\n",
        "    print_compare_result(\n",
        "        compare_name, compare_hyperparameter(*args)\n",
        "    )\n"
      ],
      "execution_count": 0,
      "outputs": []
    },
    {
      "cell_type": "markdown",
      "metadata": {
        "id": "PImE-ul9I663",
        "colab_type": "text"
      },
      "source": [
        "#### SVC"
      ]
    },
    {
      "cell_type": "markdown",
      "metadata": {
        "id": "62irY6KwuZpB",
        "colab_type": "text"
      },
      "source": [
        "* Kernel\n",
        "\n",
        "We'll test it for rbf, polynomial(degree 2, 3, 4) and sigmoid"
      ]
    },
    {
      "cell_type": "code",
      "metadata": {
        "id": "HV3-A-XPukD5",
        "colab_type": "code",
        "outputId": "3716c071-1d47-4012-99e6-c01beb27cd40",
        "colab": {
          "base_uri": "https://localhost:8080/",
          "height": 151
        }
      },
      "source": [
        "print_compare_hyperparameter(\"Kernel\",\n",
        "    \"rbf\", SVC(probability=True, gamma='auto'),\n",
        "    \"polynomial2\", SVC(probability=True, gamma='auto', kernel='poly', degree=2),\n",
        "    \"polynomial3\", SVC(probability=True, gamma='auto', kernel='poly', degree=3),\n",
        "    \"polynomial4\", SVC(probability=True, gamma='auto', kernel='poly', degree=4),\n",
        "    \"sigmoid\", SVC(probability=True, gamma='auto', kernel='sigmoid')\n",
        ")\n"
      ],
      "execution_count": 25,
      "outputs": [
        {
          "output_type": "stream",
          "text": [
            "======= Kernel =======\n",
            "Rbf Accuracy: 0.8194 (+/- 0.0454)\n",
            "Polynomial2 Accuracy: 0.8047 (+/- 0.0336)\n",
            "Polynomial3 Accuracy: 0.7566 (+/- 0.0536)\n",
            "Polynomial4 Accuracy: 0.6679 (+/- 0.0625)\n",
            "Sigmoid Accuracy: 0.7934 (+/- 0.0489)\n",
            "\n",
            "\n"
          ],
          "name": "stdout"
        }
      ]
    },
    {
      "cell_type": "markdown",
      "metadata": {
        "id": "EJllgJlrD8bk",
        "colab_type": "text"
      },
      "source": [
        "* C Value  \n",
        "We'll test it for 0.1, 0.5, 1.0, 2.0, 5.0"
      ]
    },
    {
      "cell_type": "code",
      "metadata": {
        "id": "Yoc52ImKGSR0",
        "colab_type": "code",
        "outputId": "50c0f75b-6315-4204-8046-df35d61ea0b9",
        "colab": {
          "base_uri": "https://localhost:8080/",
          "height": 151
        }
      },
      "source": [
        "print_compare_hyperparameter(\"C Value\",\n",
        "    \"0.1\", SVC(probability=True, gamma='auto', C=0.1),\n",
        "    \"0.5\", SVC(probability=True, gamma='auto', C=0.5),\n",
        "    \"1.0\", SVC(probability=True, gamma='auto', C=1.0),\n",
        "    \"2.0\", SVC(probability=True, gamma='auto', C=2.0),\n",
        "    \"5.0\", SVC(probability=True, gamma='auto', C=5.0),\n",
        ")\n"
      ],
      "execution_count": 26,
      "outputs": [
        {
          "output_type": "stream",
          "text": [
            "======= C Value =======\n",
            "0.1 Accuracy: 0.7889 (+/- 0.0468)\n",
            "0.5 Accuracy: 0.8069 (+/- 0.0305)\n",
            "1.0 Accuracy: 0.8194 (+/- 0.0454)\n",
            "2.0 Accuracy: 0.8194 (+/- 0.0454)\n",
            "5.0 Accuracy: 0.8171 (+/- 0.0499)\n",
            "\n",
            "\n"
          ],
          "name": "stdout"
        }
      ]
    },
    {
      "cell_type": "markdown",
      "metadata": {
        "id": "I1IODmEmGxa8",
        "colab_type": "text"
      },
      "source": [
        "* Gamma  \n",
        "We'll test if for 0.025, $\\frac{1}{20} = 0.05$, 0.1, 0.2"
      ]
    },
    {
      "cell_type": "code",
      "metadata": {
        "id": "IhHC0v5wHbNQ",
        "colab_type": "code",
        "outputId": "d4a48788-6531-4e77-d7ca-a6d76593f344",
        "colab": {
          "base_uri": "https://localhost:8080/",
          "height": 134
        }
      },
      "source": [
        "print_compare_hyperparameter(\"Gamma\",\n",
        "    \"0.025\", SVC(probability=True, gamma=0.025, C=2.0),\n",
        "    \"0.05\", SVC(probability=True, gamma=0.05, C=2.0),\n",
        "    \"0.1\", SVC(probability=True, gamma=0.1, C=2.0),\n",
        "    \"0.2\", SVC(probability=True, gamma=0.2, C=2.0)\n",
        ")\n"
      ],
      "execution_count": 27,
      "outputs": [
        {
          "output_type": "stream",
          "text": [
            "======= Gamma =======\n",
            "0.025 Accuracy: 0.8182 (+/- 0.0484)\n",
            "0.05 Accuracy: 0.8194 (+/- 0.0454)\n",
            "0.1 Accuracy: 0.8172 (+/- 0.0641)\n",
            "0.2 Accuracy: 0.8249 (+/- 0.0689)\n",
            "\n",
            "\n"
          ],
          "name": "stdout"
        }
      ]
    },
    {
      "cell_type": "markdown",
      "metadata": {
        "id": "Z1qKvvTKJCe-",
        "colab_type": "text"
      },
      "source": [
        "#### Random Forest"
      ]
    },
    {
      "cell_type": "markdown",
      "metadata": {
        "id": "UD4wF3-JKyHD",
        "colab_type": "text"
      },
      "source": [
        "* N_estimators  \n",
        "We'll test it for 16, 32, 64, 128"
      ]
    },
    {
      "cell_type": "code",
      "metadata": {
        "id": "SdRjSVz7K4H2",
        "colab_type": "code",
        "outputId": "619f75eb-5b71-43ec-9636-b154e48deb55",
        "colab": {
          "base_uri": "https://localhost:8080/",
          "height": 134
        }
      },
      "source": [
        "print_compare_hyperparameter(\"N_estimators\",\n",
        "    \"16\", RandomForestClassifier(n_estimators=16),\n",
        "    \"32\", RandomForestClassifier(n_estimators=32),\n",
        "    \"64\", RandomForestClassifier(n_estimators=64),\n",
        "    \"128\",RandomForestClassifier(n_estimators=128)\n",
        ")\n"
      ],
      "execution_count": 28,
      "outputs": [
        {
          "output_type": "stream",
          "text": [
            "======= N_estimators =======\n",
            "16 Accuracy: 0.8104 (+/- 0.0613)\n",
            "32 Accuracy: 0.7891 (+/- 0.0827)\n",
            "64 Accuracy: 0.8014 (+/- 0.0569)\n",
            "128 Accuracy: 0.7958 (+/- 0.0588)\n",
            "\n",
            "\n"
          ],
          "name": "stdout"
        }
      ]
    },
    {
      "cell_type": "markdown",
      "metadata": {
        "id": "qd0ax5nLJ_tb",
        "colab_type": "text"
      },
      "source": [
        "* max_depth  \n",
        "We'll test it for 2, 4, 8, 16"
      ]
    },
    {
      "cell_type": "code",
      "metadata": {
        "id": "qp9sUooiJTGl",
        "colab_type": "code",
        "outputId": "10afbcbc-2426-4ae8-ca74-ce20541e7ebe",
        "colab": {
          "base_uri": "https://localhost:8080/",
          "height": 134
        }
      },
      "source": [
        "print_compare_hyperparameter(\"max_depth\",\n",
        "    \"2\", RandomForestClassifier(n_estimators=64, max_depth=2),\n",
        "    \"4\", RandomForestClassifier(n_estimators=64, max_depth=4),\n",
        "    \"8\", RandomForestClassifier(n_estimators=64, max_depth=8),\n",
        "    \"16\", RandomForestClassifier(n_estimators=64, max_depth=16)\n",
        ")\n"
      ],
      "execution_count": 29,
      "outputs": [
        {
          "output_type": "stream",
          "text": [
            "======= max_depth =======\n",
            "2 Accuracy: 0.7990 (+/- 0.0361)\n",
            "4 Accuracy: 0.8170 (+/- 0.0427)\n",
            "8 Accuracy: 0.8316 (+/- 0.0595)\n",
            "16 Accuracy: 0.8148 (+/- 0.0494)\n",
            "\n",
            "\n"
          ],
          "name": "stdout"
        }
      ]
    },
    {
      "cell_type": "markdown",
      "metadata": {
        "id": "gUzgvs1INL2b",
        "colab_type": "text"
      },
      "source": [
        "* min_samples_split  \n",
        "We'll test it for frac values: 0.01, 0.05, 0.1, 0.5 and default value: 2"
      ]
    },
    {
      "cell_type": "code",
      "metadata": {
        "id": "wR0HcntVNUc8",
        "colab_type": "code",
        "outputId": "ad03b8e6-cf57-45bd-a20f-f4d6da04cd4f",
        "colab": {
          "base_uri": "https://localhost:8080/",
          "height": 151
        }
      },
      "source": [
        "print_compare_hyperparameter(\"min_samples_split\",\n",
        "    \"default\", RandomForestClassifier(n_estimators=64, max_depth=8),\n",
        "    \"0.01\", RandomForestClassifier(n_estimators=64, max_depth=8, min_samples_split=0.01),\n",
        "    \"0.05\", RandomForestClassifier(n_estimators=64, max_depth=8, min_samples_split=0.05),\n",
        "    \"0.1\", RandomForestClassifier(n_estimators=64, max_depth=8, min_samples_split=0.1),\n",
        "    \"0.5\", RandomForestClassifier(n_estimators=64, max_depth=8, min_samples_split=0.5)\n",
        ")\n"
      ],
      "execution_count": 30,
      "outputs": [
        {
          "output_type": "stream",
          "text": [
            "======= min_samples_split =======\n",
            "Default Accuracy: 0.8350 (+/- 0.0659)\n",
            "0.01 Accuracy: 0.8306 (+/- 0.0752)\n",
            "0.05 Accuracy: 0.8283 (+/- 0.0663)\n",
            "0.1 Accuracy: 0.8160 (+/- 0.0384)\n",
            "0.5 Accuracy: 0.7867 (+/- 0.0432)\n",
            "\n",
            "\n"
          ],
          "name": "stdout"
        }
      ]
    },
    {
      "cell_type": "markdown",
      "metadata": {
        "id": "yt6RwbolSXuF",
        "colab_type": "text"
      },
      "source": [
        "## Uploading to Kaggle"
      ]
    },
    {
      "cell_type": "code",
      "metadata": {
        "id": "F47M1vcoSbFd",
        "colab_type": "code",
        "colab": {}
      },
      "source": [
        "def predict_testset(name, classifier):\n",
        "    train_X = datasets[0].drop(\n",
        "            ['PassengerId', 'Survived'], axis = 1\n",
        "        ).to_numpy()\n",
        "    \n",
        "    train_Y = datasets[0]['Survived'].to_numpy()\n",
        "\n",
        "    test_X = datasets[1].drop(\n",
        "            ['PassengerId', 'Survived'], axis=1\n",
        "        ).to_numpy()\n",
        "\n",
        "    test_Id = datasets[1]['PassengerId'].to_numpy()\n",
        "\n",
        "    classifier.fit(train_X, train_Y)\n",
        "\n",
        "    predict = classifier.predict(test_X)\n",
        "    predict = np.round(predict).astype(int)\n",
        "\n",
        "    # Create kaggle submission file\n",
        "    submission = pd.DataFrame({'PassengerId': test_Id, 'Survived': predict})\n",
        "    submission.to_csv('submission_%s.csv' % name, index=False)\n",
        "\n",
        "predict_testset(\"svm\", SVC(probability=True, gamma=0.2, C=2.0))\n",
        "predict_testset(\n",
        "    \"randomforest\",\n",
        "    RandomForestClassifier(n_estimators=64, max_depth=8, min_samples_split=0.01)\n",
        ")"
      ],
      "execution_count": 0,
      "outputs": []
    }
  ]
}