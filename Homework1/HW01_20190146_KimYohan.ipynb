{
  "nbformat": 4,
  "nbformat_minor": 0,
  "metadata": {
    "colab": {
      "name": "HW01 20190146 KimYohan",
      "provenance": [],
      "collapsed_sections": [],
      "toc_visible": true
    },
    "kernelspec": {
      "name": "python3",
      "display_name": "Python 3"
    }
  },
  "cells": [
    {
      "cell_type": "markdown",
      "metadata": {
        "id": "5EfjvIxjtC-h",
        "colab_type": "text"
      },
      "source": [
        "# Importing libraries"
      ]
    },
    {
      "cell_type": "code",
      "metadata": {
        "id": "0AQNJne7syv5",
        "colab_type": "code",
        "colab": {}
      },
      "source": [
        "import math\n",
        "import numpy as np\n",
        "\n",
        "from sklearn.linear_model import LinearRegression, SGDRegressor\n",
        "from sklearn.preprocessing import PolynomialFeatures"
      ],
      "execution_count": 0,
      "outputs": []
    },
    {
      "cell_type": "markdown",
      "metadata": {
        "id": "50hvrrFptH9U",
        "colab_type": "text"
      },
      "source": [
        "# Generating Data\n",
        "\n",
        "* Generate inputs  \n",
        "$\\{x^{(i)}_1, x^{(i)}_2, x^{(i)}_3 | i = 1, ..., 10000\\}$,  \n",
        "$(x_j \\in [-3, 3),\\ j = 1, 2, 3)$\n",
        "\n",
        "* Generate outputs  \n",
        "$y^{(i)} = 2.0 + 1.0 (x^{(i)}_1) + 0.5 (x^{(i)}_1)^2 + 0.25 (x^{(i)}_1)^3 + 0.5 (x^{(i)}_2)^2 + \\mbox{noise}$,  \n",
        "$(\\mbox{noise} \\sim N(0, 1),\\ i = 1, ..., 10000)$"
      ]
    },
    {
      "cell_type": "code",
      "metadata": {
        "id": "yFUpmoVjtLAd",
        "colab_type": "code",
        "outputId": "2ba1e0ec-9117-4271-dd4e-170bd19e962f",
        "colab": {
          "base_uri": "https://localhost:8080/",
          "height": 101
        }
      },
      "source": [
        "# We will generate 10000 data\n",
        "m = 10000\n",
        "\n",
        "# X \\in (-3, 3)\n",
        "X1 = 6 * np.random.rand(m, 1) - 3\n",
        "X2 = 6 * np.random.rand(m, 1) - 3\n",
        "X3 = 6 * np.random.rand(m, 1) - 3\n",
        "\n",
        "X1_1dim = X1.reshape(-1)\n",
        "X2_1dim = X2.reshape(-1)\n",
        "X3_1dim = X3.reshape(-1)\n",
        "\n",
        "# Combine each data points to transfrom data structure\n",
        "# (X1_1, X1_2, …), (X2_1, X2_2, …), (X3_1, X3_2, ...)\n",
        "# → (X1_1, X2_1, X3_1), (X1_2, X2_2, X3_2), ...\n",
        "\n",
        "X = np.c_[X1_1dim, X2_1dim, X3_1dim]\n",
        "\n",
        "# Generating Y data\n",
        "noise = np.random.normal(0.0, 1.0, size=(m,))\n",
        "\n",
        "Y = 2.0 + \\\n",
        "    1.0 * X1_1dim + \\\n",
        "    0.5 * X1_1dim ** 2 + \\\n",
        "    0.25 * X1_1dim ** 3 + \\\n",
        "    0.5 * X2_1dim ** 2 + \\\n",
        "    noise\n",
        "\n",
        "dataset = np.c_[X, Y]\n",
        "\n",
        "print(dataset[:5])"
      ],
      "execution_count": 3,
      "outputs": [
        {
          "output_type": "stream",
          "text": [
            "[[ 0.73278726 -2.17905117 -1.83639982  5.73526064]\n",
            " [ 1.85797871  2.90755686  2.43921771 13.79948726]\n",
            " [-1.6926183   2.14041071  2.89650188  2.69593317]\n",
            " [-1.86862936  2.80170434 -1.61530337  4.2044786 ]\n",
            " [ 0.83834209  2.16530846 -1.70133651  5.17662523]]\n"
          ],
          "name": "stdout"
        }
      ]
    },
    {
      "cell_type": "markdown",
      "metadata": {
        "id": "h6QYx1Clv5us",
        "colab_type": "text"
      },
      "source": [
        "## Ploting generated data"
      ]
    },
    {
      "cell_type": "code",
      "metadata": {
        "id": "duhjku0xv_WG",
        "colab_type": "code",
        "outputId": "ea92564f-24be-4063-8124-55b238078479",
        "colab": {
          "base_uri": "https://localhost:8080/",
          "height": 248
        }
      },
      "source": [
        "%matplotlib inline\n",
        "import matplotlib.pyplot as plt\n",
        "from mpl_toolkits.mplot3d import Axes3D\n",
        "\n",
        "fig = plt.figure()\n",
        "ax = fig.add_subplot(111, projection='3d')\n",
        "\n",
        "ax.set_xlabel('X_1')\n",
        "ax.set_ylabel('X_2')\n",
        "ax.set_zlabel('Y')\n",
        "\n",
        "ax.scatter(X1_1dim, X2_1dim, Y)\n",
        "plt.show()"
      ],
      "execution_count": 4,
      "outputs": [
        {
          "output_type": "display_data",
          "data": {
            "image/png": "[encoded data removed]",
            "text/plain": [
              "<Figure size 432x288 with 1 Axes>"
            ]
          },
          "metadata": {
            "tags": []
          }
        }
      ]
    },
    {
      "cell_type": "markdown",
      "metadata": {
        "id": "7ZvpHqz0xws2",
        "colab_type": "text"
      },
      "source": [
        "## Splitting Data (Prob1)\n",
        "\n",
        "* Split 10000 data into  \n",
        "    * 8000 training set,  \n",
        "    * 1000 validation set,  \n",
        "    * 1000 test set"
      ]
    },
    {
      "cell_type": "code",
      "metadata": {
        "id": "D2mvA4jKx55A",
        "colab_type": "code",
        "outputId": "ead3a902-f436-4cb8-ac22-c5c67c8a7001",
        "colab": {
          "base_uri": "https://localhost:8080/",
          "height": 34
        }
      },
      "source": [
        "train_set = dataset[:8000]\n",
        "validation_set = dataset[8000:9000]\n",
        "test_set = dataset[9000:]\n",
        "\n",
        "print(train_set.shape, validation_set.shape, test_set.shape)"
      ],
      "execution_count": 5,
      "outputs": [
        {
          "output_type": "stream",
          "text": [
            "(8000, 4) (1000, 4) (1000, 4)\n"
          ],
          "name": "stdout"
        }
      ]
    },
    {
      "cell_type": "markdown",
      "metadata": {
        "id": "ds4FiDSa2e8_",
        "colab_type": "text"
      },
      "source": [
        "# Before Training"
      ]
    },
    {
      "cell_type": "markdown",
      "metadata": {
        "id": "-3k1NeUAe6Ex",
        "colab_type": "text"
      },
      "source": [
        "## Helper functions\n",
        "\n",
        "* split_dataset  \n",
        "Gets dataset for input, Returns X, Y  \n",
        "$X = [1\\ x_1\\ x_2\\ x_3]$\n",
        "\n",
        "* pretty_print  \n",
        "Prints loss and parameters pretty"
      ]
    },
    {
      "cell_type": "code",
      "metadata": {
        "id": "bI7dkyCcfwal",
        "colab_type": "code",
        "colab": {}
      },
      "source": [
        "features = PolynomialFeatures(degree = 5)\n",
        "\n",
        "def split_dataset(dataset, features=features):\n",
        "    *x, y = dataset.T\n",
        "    return features.fit_transform(np.stack(tuple(x), axis=-1)), y\n",
        "\n",
        "split_dataset(train_set)\n",
        "x_names = features.get_feature_names(['X1', 'X2', 'X3'])\n",
        "\n",
        "def pretty_print(method_name, theta, dataset=test_set):\n",
        "    column_width = 30\n",
        "    header_size = (column_width - len(method_name) - 2) / 2\n",
        "\n",
        "    print(\n",
        "        \"=\" * int(math.floor(header_size)) +\n",
        "        \" %s \" % method_name +\n",
        "        \"=\" * int(math.ceil(header_size))\n",
        "    )\n",
        "\n",
        "    print(\"Loss       : %6.4f\" % rmse_loss_evaluate(theta, dataset))\n",
        "    \n",
        "    print(\"Parameters :\")\n",
        "    max_poly_len = max([len(poly) for poly in x_names])\n",
        "    x_list_poly_pad = [\n",
        "        poly + \" \" * (max_poly_len - len(poly)) for poly in x_names\n",
        "    ]\n",
        "\n",
        "    theta_len = len(theta)\n",
        "    for i in range(0, theta_len, 5):\n",
        "        print(\n",
        "            \" \" * 13 +\n",
        "            \" | \".join([\n",
        "                \"%s %+.4f\" % (x_list_poly_pad[i + j], theta[i + j])\n",
        "                    if i + j < theta_len else \" \" * (max_poly_len  + 8)\n",
        "                for j in range(5)\n",
        "            ])\n",
        "        )\n"
      ],
      "execution_count": 0,
      "outputs": []
    },
    {
      "cell_type": "markdown",
      "metadata": {
        "id": "QWO6HMr8ddzP",
        "colab_type": "text"
      },
      "source": [
        "## Defining RMSE loss function\n",
        "\n",
        "$$RMSE = \\sqrt{\\frac{1}{n} \\sum^n_{i = 1} (Y_i - \\hat{Y_i})^2}$$\n",
        "\n",
        "* rmse_loss  \n",
        "Calculate RMSE for given $y$ and $\\hat{y}$\n",
        "\n",
        "* rmse_loss_evaluate  \n",
        "Get RMSE for given parameter theta and dataset."
      ]
    },
    {
      "cell_type": "code",
      "metadata": {
        "id": "e9trB44fddVe",
        "colab_type": "code",
        "colab": {}
      },
      "source": [
        "def rmse_loss(y, y_hat):\n",
        "    mse = np.mean((y - y_hat) ** 2)\n",
        "    rmse = np.sqrt(mse)\n",
        "\n",
        "    return rmse\n",
        "\n",
        "def rmse_loss_evaluate(theta, dataset, features=features):\n",
        "    X, Y = split_dataset(dataset, features)\n",
        "    return rmse_loss(Y, np.dot(X, theta).squeeze())\n",
        "    "
      ],
      "execution_count": 0,
      "outputs": []
    },
    {
      "cell_type": "markdown",
      "metadata": {
        "id": "prIq1jJPVC6f",
        "colab_type": "text"
      },
      "source": [
        "## Helper functions for Minibatch\n",
        "* minibatch  \n",
        "Runs Minibatch Gradient Descent for given gradient gradient_fn.  \n",
        "Returns theta, which is the optimized parameter, and logs.\n",
        "\n",
        "* minibatch_plot  \n",
        "Plot the learning curve using logs, which are output of minibatch function."
      ]
    },
    {
      "cell_type": "code",
      "metadata": {
        "id": "NFI4DVGQVHAs",
        "colab_type": "code",
        "colab": {}
      },
      "source": [
        "def minibatch(\n",
        "    gradient_fn, batch_size=100, epochs=200, lr=0.000005,\n",
        "    train_set=train_set, validation_set=validation_set, features=features,\n",
        "    verbose=True\n",
        "):\n",
        "    train_X, train_Y = split_dataset(train_set, features)\n",
        "\n",
        "    train_num = train_X.shape[0]\n",
        "    theta = np.random.randn(train_X.shape[1],1)\n",
        "    data_list = []\n",
        "\n",
        "    epoch_per_output = int(epochs / 20)\n",
        "\n",
        "    for epoch in range(epochs):\n",
        "        # Generating shuffled dataset\n",
        "\n",
        "        train_set_s = np.random.permutation(train_set)\n",
        "        train_X_s, train_Y_s = split_dataset(train_set_s, features)\n",
        "\n",
        "        for i in range(0, train_num, batch_size):\n",
        "            batch_x = train_X_s[i:i + batch_size]\n",
        "            batch_y = train_Y_s[i:i + batch_size]\n",
        "\n",
        "            gradient = gradient_fn(batch_x, batch_y, theta) / len(batch_x)\n",
        "            theta = theta - lr * gradient\n",
        "        \n",
        "        # Calculate Loss\n",
        "        data = {\n",
        "            'train': rmse_loss_evaluate(theta, train_set, features),\n",
        "            'validation': rmse_loss_evaluate(theta, validation_set, features),\n",
        "            'epoch': epoch\n",
        "        }\n",
        "\n",
        "        if verbose and epoch % epoch_per_output == 0:\n",
        "            print(\n",
        "                ('Epoch: {epoch:3d}, ' +\n",
        "                'Train Loss: {train:.4f}, ' +\n",
        "                'Val Loss: {validation:.4f}').format(**data)\n",
        "            )\n",
        "        \n",
        "        data_list.append(data)\n",
        "    \n",
        "    return theta, data_list\n",
        "\n",
        "\n",
        "def minibatch_plot(data_list):\n",
        "    train_data = [data['train'] for data in data_list]\n",
        "    val_data = [data['validation'] for data in data_list]\n",
        "\n",
        "    plt.plot(train_data, \"r+\", linewidth=2, label=\"train\")\n",
        "    plt.plot(val_data, \"b-\", linewidth=3, label=\"val\")\n",
        "\n",
        "    plt.xlabel('Epoch')\n",
        "    plt.ylabel('Loss')\n"
      ],
      "execution_count": 0,
      "outputs": []
    },
    {
      "cell_type": "markdown",
      "metadata": {
        "id": "84Ha7CUKL5OT",
        "colab_type": "text"
      },
      "source": [
        "### Testing Minibatch Function\n",
        "\n",
        "Runs a polynomial regression with minibatch gradient descent to test the minibatch function.  \n",
        "The dataset is generated like this:\n",
        "\n",
        "$$x^{(i)} \\in [-3, 3)\\ (i = 1, ..., 1000)$$  \n",
        "$$y^{(i)} = 2.0 (x^{(i)}) + 4.0 (x^{(i)})^2$$  \n"
      ]
    },
    {
      "cell_type": "code",
      "metadata": {
        "id": "xFzsA3oLL4Yy",
        "colab_type": "code",
        "outputId": "51a66d0f-e7a6-4f12-f725-a32ac603ac21",
        "colab": {
          "base_uri": "https://localhost:8080/",
          "height": 670
        }
      },
      "source": [
        "mt_dataset_count = 1000\n",
        "mt_x1 = 6 * np.random.rand(mt_dataset_count, 1) - 3\n",
        "mt_x1_1dim = mt_x1.reshape(-1)\n",
        "\n",
        "mt_x = np.c_[mt_x1_1dim]\n",
        "mt_y = 2.0 * mt_x1_1dim + 4.0 * mt_x1_1dim ** 2\n",
        "\n",
        "mt_dataset = np.c_[mt_x, mt_y]\n",
        "mt_trainset_size = int(mt_dataset_count * .8)\n",
        "mt_features = PolynomialFeatures(degree = 2)\n",
        "\n",
        "def gradient_fn(batch_x, batch_y, theta):\n",
        "    return np.dot(batch_x.T, np.dot(batch_x, theta) - batch_y.reshape((-1, 1)))\n",
        "\n",
        "mt_param, mt_data = minibatch(\n",
        "    gradient_fn,\n",
        "    lr=0.00001,\n",
        "    epochs=50000,\n",
        "    batch_size=100,\n",
        "    train_set=mt_dataset[:mt_trainset_size],\n",
        "    validation_set=mt_dataset[mt_trainset_size:mt_dataset_count],\n",
        "    features=mt_features\n",
        ")\n",
        "\n",
        "print(mt_param)\n",
        "\n",
        "# assert mt_data.pop()['validation'] < 0.1\n",
        "\n",
        "minibatch_plot(mt_data)"
      ],
      "execution_count": 9,
      "outputs": [
        {
          "output_type": "stream",
          "text": [
            "Epoch:   0, Train Loss: 12.6278, Val Loss: 12.8057\n",
            "Epoch: 2500, Train Loss: 0.9658, Val Loss: 0.9706\n",
            "Epoch: 5000, Train Loss: 0.6926, Val Loss: 0.6991\n",
            "Epoch: 7500, Train Loss: 0.6025, Val Loss: 0.6075\n",
            "Epoch: 10000, Train Loss: 0.5422, Val Loss: 0.5460\n",
            "Epoch: 12500, Train Loss: 0.4945, Val Loss: 0.4976\n",
            "Epoch: 15000, Train Loss: 0.4532, Val Loss: 0.4558\n",
            "Epoch: 17500, Train Loss: 0.4161, Val Loss: 0.4184\n",
            "Epoch: 20000, Train Loss: 0.3823, Val Loss: 0.3843\n",
            "Epoch: 22500, Train Loss: 0.3513, Val Loss: 0.3532\n",
            "Epoch: 25000, Train Loss: 0.3229, Val Loss: 0.3245\n",
            "Epoch: 27500, Train Loss: 0.2968, Val Loss: 0.2983\n",
            "Epoch: 30000, Train Loss: 0.2727, Val Loss: 0.2741\n",
            "Epoch: 32500, Train Loss: 0.2507, Val Loss: 0.2519\n",
            "Epoch: 35000, Train Loss: 0.2304, Val Loss: 0.2315\n",
            "Epoch: 37500, Train Loss: 0.2117, Val Loss: 0.2128\n",
            "Epoch: 40000, Train Loss: 0.1946, Val Loss: 0.1956\n",
            "Epoch: 42500, Train Loss: 0.1789, Val Loss: 0.1798\n",
            "Epoch: 45000, Train Loss: 0.1644, Val Loss: 0.1652\n",
            "Epoch: 47500, Train Loss: 0.1511, Val Loss: 0.1518\n",
            "[[-0.20993954]\n",
            " [ 2.00110978]\n",
            " [ 4.0403567 ]]\n"
          ],
          "name": "stdout"
        },
        {
          "output_type": "display_data",
          "data": {
            "image/png": "[encoded data removed]",
            "text/plain": [
              "<Figure size 432x288 with 1 Axes>"
            ]
          },
          "metadata": {
            "tags": []
          }
        }
      ]
    },
    {
      "cell_type": "markdown",
      "metadata": {
        "id": "lm0WTuIDo9_Y",
        "colab_type": "text"
      },
      "source": [
        "## Helper functions for Hyperparameter Tuning\n",
        "* try_alpha_minibatch  \n",
        "Runs minibatch for multiple alpha values **naively** and returns alpha of the best result.  \n",
        "It is deprecated as it is too slow.\n",
        "\n",
        "* try_alpha_skl  \n",
        "Same as try_alpha_minibatch but this uses scikit learn to evaluate the loss."
      ]
    },
    {
      "cell_type": "code",
      "metadata": {
        "id": "u1RSEQM5o9si",
        "colab_type": "code",
        "colab": {}
      },
      "source": [
        "def _skl_alpha_evaluation(\n",
        "    alpha, alpha_train_set, alpha_validation_set,\n",
        "    regularization_type='l1', lr=0.01, epochs=10000\n",
        "):\n",
        "    atx, aty = split_dataset(alpha_train_set)\n",
        "\n",
        "    regressor = SGDRegressor(\n",
        "        loss='squared_loss', penalty=regularization_type,\n",
        "        alpha=alpha, fit_intercept=False,\n",
        "        eta0=lr, max_iter=epochs\n",
        "    )\n",
        "\n",
        "    regressor.fit(atx, aty)\n",
        "    loss = rmse_loss_evaluate(\n",
        "        regressor.coef_, alpha_validation_set\n",
        "    )\n",
        "\n",
        "    return loss\n",
        "\n",
        "\n",
        "def _minibatch_alpha_evaluation(\n",
        "    alpha, alpha_train_set, alpha_validation_set,\n",
        "    **kwargs\n",
        "):\n",
        "    alpha_gradient_fn = kwargs['alpha_gradient_fn']\n",
        "\n",
        "    theta, data = minibatch(\n",
        "        alpha_gradient_fn(alpha),\n",
        "        verbose=False,\n",
        "        train_set=alpha_train_set,\n",
        "        validation_set=alpha_validation_set,\n",
        "        **kwargs\n",
        "    )\n",
        "\n",
        "    return data.pop()['validation']\n",
        "\n",
        "\n",
        "def try_alpha(\n",
        "    evaluation_fn,\n",
        "    max_depth=5, set_iteration=1, iteration=3,\n",
        "    alpha_start=0, alpha_end=0.1, alpha_step=5,\n",
        "    **kwargs\n",
        "):\n",
        "\n",
        "    for depth in range(max_depth):\n",
        "        print(\"Examining Alpha for %.4f, %.4f\" % (alpha_start, alpha_end))\n",
        "\n",
        "        alpha_list = np.linspace(alpha_start, alpha_end, alpha_step)\n",
        "        step_size = (alpha_end - alpha_start) / alpha_step\n",
        "\n",
        "        min_score = float('inf')\n",
        "        min_alpha = 0\n",
        "\n",
        "        for alpha in alpha_list:\n",
        "            loss_window = []\n",
        "            set_chunk = int(len(train_set) / iteration)\n",
        "\n",
        "            for j in range(set_iteration):\n",
        "                for i in range(iteration):\n",
        "                    alpha_train_set = np.r_[\n",
        "                        train_set[: i * set_chunk],\n",
        "                        train_set[(i + 1) * set_chunk :]\n",
        "                    ]\n",
        "                    \n",
        "                    alpha_validation_set = \\\n",
        "                        train_set[i * set_chunk : (i + 1) * set_chunk]\n",
        "                    \n",
        "                    loss_window.append(evaluation_fn(\n",
        "                        alpha, alpha_train_set, alpha_validation_set,\n",
        "                        **kwargs\n",
        "                    ))\n",
        "            \n",
        "            loss_avg = sum(loss_window) / len(loss_window)\n",
        "            loss_min = min(loss_window)\n",
        "            score = loss_avg * 0.9 + loss_min * 0.1\n",
        "\n",
        "            print(\n",
        "                \"Alpha %.4f > Min Loss %.4f, Avg Loss %.4f, Score %.4f\" %\n",
        "                (alpha, loss_min, loss_avg, score)\n",
        "            )\n",
        "\n",
        "            if score < min_score:\n",
        "                min_score = score\n",
        "                min_alpha = alpha\n",
        "        \n",
        "        alpha_start = max(0, min_alpha - step_size / 2)\n",
        "        alpha_end = min(1, min_alpha + step_size / 2)\n",
        "        print()\n",
        "\n",
        "    \n",
        "    return (alpha_start + alpha_end) / 2\n",
        "\n",
        "\n",
        "try_alpha_minibatch = lambda **kwargs: try_alpha(\n",
        "    _minibatch_alpha_evaluation, **kwargs\n",
        ")\n",
        "\n",
        "try_alpha_skl = lambda **kwargs: try_alpha(\n",
        "    _skl_alpha_evaluation, **kwargs\n",
        ")\n"
      ],
      "execution_count": 0,
      "outputs": []
    },
    {
      "cell_type": "markdown",
      "metadata": {
        "id": "Gujln8ql2wK1",
        "colab_type": "text"
      },
      "source": [
        "## Getting parameters to learn (Prob 2)"
      ]
    },
    {
      "cell_type": "code",
      "metadata": {
        "id": "eK1Mulmx2qDt",
        "colab_type": "code",
        "outputId": "013fe8ed-a9af-438d-a7d4-bed8a27a14e9",
        "colab": {
          "base_uri": "https://localhost:8080/",
          "height": 54
        }
      },
      "source": [
        "train_X, train_Y = split_dataset(train_set)\n",
        "print(\"%d parameters to learn :\" % len(x_names), x_names)"
      ],
      "execution_count": 11,
      "outputs": [
        {
          "output_type": "stream",
          "text": [
            "56 parameters to learn : ['1', 'X1', 'X2', 'X3', 'X1^2', 'X1 X2', 'X1 X3', 'X2^2', 'X2 X3', 'X3^2', 'X1^3', 'X1^2 X2', 'X1^2 X3', 'X1 X2^2', 'X1 X2 X3', 'X1 X3^2', 'X2^3', 'X2^2 X3', 'X2 X3^2', 'X3^3', 'X1^4', 'X1^3 X2', 'X1^3 X3', 'X1^2 X2^2', 'X1^2 X2 X3', 'X1^2 X3^2', 'X1 X2^3', 'X1 X2^2 X3', 'X1 X2 X3^2', 'X1 X3^3', 'X2^4', 'X2^3 X3', 'X2^2 X3^2', 'X2 X3^3', 'X3^4', 'X1^5', 'X1^4 X2', 'X1^4 X3', 'X1^3 X2^2', 'X1^3 X2 X3', 'X1^3 X3^2', 'X1^2 X2^3', 'X1^2 X2^2 X3', 'X1^2 X2 X3^2', 'X1^2 X3^3', 'X1 X2^4', 'X1 X2^3 X3', 'X1 X2^2 X3^2', 'X1 X2 X3^3', 'X1 X3^4', 'X2^5', 'X2^4 X3', 'X2^3 X3^2', 'X2^2 X3^3', 'X2 X3^4', 'X3^5']\n"
          ],
          "name": "stdout"
        }
      ]
    },
    {
      "cell_type": "markdown",
      "metadata": {
        "id": "OXkYVQpva3TJ",
        "colab_type": "text"
      },
      "source": [
        "# Training\n"
      ]
    },
    {
      "cell_type": "markdown",
      "metadata": {
        "id": "G99ULaKq1S-j",
        "colab_type": "text"
      },
      "source": [
        "## Regressions &lt;Scikit-Learn&gt; (For comparison)"
      ]
    },
    {
      "cell_type": "code",
      "metadata": {
        "id": "MdyMy1XC1ZbA",
        "colab_type": "code",
        "outputId": "40c7e288-4c85-49d3-ad98-33e7fc1fe726",
        "colab": {
          "base_uri": "https://localhost:8080/",
          "height": 521
        }
      },
      "source": [
        "def train_polynomial_scikit():\n",
        "    lin_reg = LinearRegression(fit_intercept = False)\n",
        "    lin_reg.fit(train_X, train_Y)\n",
        "\n",
        "    return lin_reg.coef_\n",
        "\n",
        "pretty_print(\"Polynomial, ScikitLearn\", train_polynomial_scikit())\n",
        "\n",
        "\n",
        "def train_ridge_sgd_scikit():\n",
        "    sgd_reg = SGDRegressor(\n",
        "        penalty='l2', learning_rate='constant', eta0=0.000001\n",
        "    )\n",
        "\n",
        "    for i in range(200):\n",
        "        sgd_reg.partial_fit(train_X, train_Y)\n",
        "\n",
        "    return sgd_reg.coef_\n",
        "\n",
        "pretty_print(\"Ridge, SGD, ScikitLearn\", train_ridge_sgd_scikit())\n"
      ],
      "execution_count": 12,
      "outputs": [
        {
          "output_type": "stream",
          "text": [
            "== Polynomial, ScikitLearn ===\n",
            "Loss       : 1.0318\n",
            "Parameters :\n",
            "             1            +1.8915 | X1           +1.0704 | X2           -0.0597 | X3           +0.0255 | X1^2         +0.5189\n",
            "             X1 X2        +0.0001 | X1 X3        -0.0077 | X2^2         +0.5196 | X2 X3        -0.0106 | X3^2         +0.0010\n",
            "             X1^3         +0.2080 | X1^2 X2      +0.0010 | X1^2 X3      +0.0078 | X1 X2^2      +0.0272 | X1 X2 X3     -0.0058\n",
            "             X1 X3^2      -0.0302 | X2^3         +0.0185 | X2^2 X3      -0.0101 | X2 X3^2      +0.0025 | X3^3         -0.0108\n",
            "             X1^4         -0.0009 | X1^3 X2      +0.0004 | X1^3 X3      +0.0002 | X1^2 X2^2    -0.0014 | X1^2 X2 X3   +0.0021\n",
            "             X1^2 X3^2    +0.0004 | X1 X2^3      -0.0005 | X1 X2^2 X3   +0.0020 | X1 X2 X3^2   -0.0008 | X1 X3^3      -0.0001\n",
            "             X2^4         -0.0009 | X2^3 X3      -0.0002 | X2^2 X3^2    -0.0009 | X2 X3^3      +0.0021 | X3^4         +0.0006\n",
            "             X1^5         +0.0042 | X1^4 X2      -0.0003 | X1^4 X3      -0.0005 | X1^3 X2^2    -0.0008 | X1^3 X2 X3   -0.0010\n",
            "             X1^3 X3^2    +0.0017 | X1^2 X2^3    +0.0009 | X1^2 X2^2 X3 -0.0000 | X1^2 X2 X3^2 -0.0011 | X1^2 X3^3    -0.0002\n",
            "             X1 X2^4      -0.0023 | X1 X2^3 X3   +0.0009 | X1 X2^2 X3^2 -0.0005 | X1 X2 X3^3   +0.0009 | X1 X3^4      +0.0029\n",
            "             X2^5         -0.0019 | X2^4 X3      -0.0004 | X2^3 X3^2    -0.0008 | X2^2 X3^3    +0.0030 | X2 X3^4      +0.0009\n",
            "             X3^5         +0.0004 |                      |                      |                      |                     \n",
            "== Ridge, SGD, ScikitLearn ===\n",
            "Loss       : 1.2515\n",
            "Parameters :\n",
            "             1            +0.4887 | X1           +0.2456 | X2           -0.0077 | X3           +0.0080 | X1^2         +0.6413\n",
            "             X1 X2        -0.0015 | X1 X3        +0.0012 | X2^2         +0.6400 | X2 X3        -0.0014 | X3^2         +0.3397\n",
            "             X1^3         +0.4041 | X1^2 X2      -0.0012 | X1^2 X3      +0.0109 | X1 X2^2      +0.1358 | X1 X2 X3     -0.0063\n",
            "             X1 X3^2      +0.0889 | X2^3         +0.0031 | X2^2 X3      -0.0059 | X2 X3^2      +0.0002 | X3^3         -0.0053\n",
            "             X1^4         -0.0049 | X1^3 X2      +0.0007 | X1^3 X3      -0.0003 | X1^2 X2^2    -0.0088 | X1^2 X2 X3   +0.0009\n",
            "             X1^2 X3^2    -0.0141 | X1 X2^3      -0.0008 | X1 X2^2 X3   +0.0007 | X1 X2 X3^2   -0.0014 | X1 X3^3      -0.0005\n",
            "             X2^4         -0.0051 | X2^3 X3      -0.0003 | X2^2 X3^2    -0.0150 | X2 X3^3      +0.0014 | X3^4         -0.0272\n",
            "             X1^5         -0.0077 | X1^4 X2      -0.0001 | X1^4 X3      -0.0011 | X1^3 X2^2    -0.0103 | X1^3 X2 X3   -0.0013\n",
            "             X1^3 X3^2    -0.0075 | X1^2 X2^3    +0.0012 | X1^2 X2^2 X3 -0.0009 | X1^2 X2 X3^2 -0.0008 | X1^2 X3^3    -0.0011\n",
            "             X1 X2^4      -0.0073 | X1 X2^3 X3   +0.0006 | X1 X2^2 X3^2 -0.0054 | X1 X2 X3^3   +0.0013 | X1 X3^4      -0.0030\n",
            "             X2^5         -0.0014 | X2^4 X3      -0.0009 | X2^3 X3^2    -0.0004 | X2^2 X3^3    +0.0023 | X2 X3^4      +0.0017\n",
            "             X3^5         -0.0004 |                      |                      |                      |                     \n"
          ],
          "name": "stdout"
        }
      ]
    },
    {
      "cell_type": "markdown",
      "metadata": {
        "id": "SOBEqK9iuCAp",
        "colab_type": "text"
      },
      "source": [
        "## Polynomial Regression &lt;Normal Equation&gt; (Prob 3)\n",
        "\n",
        "$$\\hat{\\theta} = (X^T X)^{-1} X^T y$$"
      ]
    },
    {
      "cell_type": "code",
      "metadata": {
        "id": "pMCElzXIa_yE",
        "colab_type": "code",
        "outputId": "9bc3bbe8-ba54-4299-82c7-1c0edabe6a75",
        "colab": {
          "base_uri": "https://localhost:8080/",
          "height": 269
        }
      },
      "source": [
        "def train_polynomial_normal():\n",
        "    return np.dot(\n",
        "        np.dot(\n",
        "            np.linalg.inv(np.dot(train_X.T, train_X)),\n",
        "            train_X.T\n",
        "        ),\n",
        "        train_Y\n",
        "    )\n",
        "\n",
        "pretty_print(\"Polynomial, Normal\", train_polynomial_normal())"
      ],
      "execution_count": 13,
      "outputs": [
        {
          "output_type": "stream",
          "text": [
            "===== Polynomial, Normal =====\n",
            "Loss       : 1.0318\n",
            "Parameters :\n",
            "             1            +1.8915 | X1           +1.0704 | X2           -0.0597 | X3           +0.0255 | X1^2         +0.5189\n",
            "             X1 X2        +0.0001 | X1 X3        -0.0077 | X2^2         +0.5196 | X2 X3        -0.0106 | X3^2         +0.0010\n",
            "             X1^3         +0.2080 | X1^2 X2      +0.0010 | X1^2 X3      +0.0078 | X1 X2^2      +0.0272 | X1 X2 X3     -0.0058\n",
            "             X1 X3^2      -0.0302 | X2^3         +0.0185 | X2^2 X3      -0.0101 | X2 X3^2      +0.0025 | X3^3         -0.0108\n",
            "             X1^4         -0.0009 | X1^3 X2      +0.0004 | X1^3 X3      +0.0002 | X1^2 X2^2    -0.0014 | X1^2 X2 X3   +0.0021\n",
            "             X1^2 X3^2    +0.0004 | X1 X2^3      -0.0005 | X1 X2^2 X3   +0.0020 | X1 X2 X3^2   -0.0008 | X1 X3^3      -0.0001\n",
            "             X2^4         -0.0009 | X2^3 X3      -0.0002 | X2^2 X3^2    -0.0009 | X2 X3^3      +0.0021 | X3^4         +0.0006\n",
            "             X1^5         +0.0042 | X1^4 X2      -0.0003 | X1^4 X3      -0.0005 | X1^3 X2^2    -0.0008 | X1^3 X2 X3   -0.0010\n",
            "             X1^3 X3^2    +0.0017 | X1^2 X2^3    +0.0009 | X1^2 X2^2 X3 -0.0000 | X1^2 X2 X3^2 -0.0011 | X1^2 X3^3    -0.0002\n",
            "             X1 X2^4      -0.0023 | X1 X2^3 X3   +0.0009 | X1 X2^2 X3^2 -0.0005 | X1 X2 X3^3   +0.0009 | X1 X3^4      +0.0029\n",
            "             X2^5         -0.0019 | X2^4 X3      -0.0004 | X2^3 X3^2    -0.0008 | X2^2 X3^3    +0.0030 | X2 X3^4      +0.0009\n",
            "             X3^5         +0.0004 |                      |                      |                      |                     \n"
          ],
          "name": "stdout"
        }
      ]
    },
    {
      "cell_type": "markdown",
      "metadata": {
        "id": "JcwXfoXetRwm",
        "colab_type": "text"
      },
      "source": [
        "## Ridge Regression &lt;Closed-form Solution&gt; (Prob 4)\n",
        "\n",
        "$$\\hat{\\theta} = (X^T X + \\alpha A)^{-1} X^T y$$"
      ]
    },
    {
      "cell_type": "code",
      "metadata": {
        "id": "gZY8cjQWtQag",
        "colab_type": "code",
        "outputId": "b3b28996-f999-4d4b-83b5-60a77a82bfa1",
        "colab": {
          "base_uri": "https://localhost:8080/",
          "height": 269
        }
      },
      "source": [
        "def train_ridge_closed(alpha=0.1):\n",
        "    A = np.identity(train_X.shape[1])\n",
        "    A[0, 0] = 0\n",
        "\n",
        "    return np.dot(\n",
        "        np.dot(\n",
        "            np.linalg.inv(np.dot(train_X.T, train_X) + alpha * A),\n",
        "            train_X.T\n",
        "        ),\n",
        "        train_Y\n",
        "    )\n",
        "\n",
        "pretty_print(\"Ridge, ClosedForm\", train_ridge_closed())"
      ],
      "execution_count": 14,
      "outputs": [
        {
          "output_type": "stream",
          "text": [
            "===== Ridge, ClosedForm ======\n",
            "Loss       : 1.0318\n",
            "Parameters :\n",
            "             1            +1.8915 | X1           +1.0702 | X2           -0.0597 | X3           +0.0254 | X1^2         +0.5189\n",
            "             X1 X2        +0.0001 | X1 X3        -0.0077 | X2^2         +0.5196 | X2 X3        -0.0106 | X3^2         +0.0010\n",
            "             X1^3         +0.2081 | X1^2 X2      +0.0010 | X1^2 X3      +0.0078 | X1 X2^2      +0.0272 | X1 X2 X3     -0.0058\n",
            "             X1 X3^2      -0.0302 | X2^3         +0.0185 | X2^2 X3      -0.0101 | X2 X3^2      +0.0025 | X3^3         -0.0108\n",
            "             X1^4         -0.0009 | X1^3 X2      +0.0004 | X1^3 X3      +0.0002 | X1^2 X2^2    -0.0014 | X1^2 X2 X3   +0.0021\n",
            "             X1^2 X3^2    +0.0004 | X1 X2^3      -0.0005 | X1 X2^2 X3   +0.0020 | X1 X2 X3^2   -0.0008 | X1 X3^3      -0.0001\n",
            "             X2^4         -0.0009 | X2^3 X3      -0.0002 | X2^2 X3^2    -0.0009 | X2 X3^3      +0.0021 | X3^4         +0.0006\n",
            "             X1^5         +0.0042 | X1^4 X2      -0.0003 | X1^4 X3      -0.0005 | X1^3 X2^2    -0.0009 | X1^3 X2 X3   -0.0010\n",
            "             X1^3 X3^2    +0.0017 | X1^2 X2^3    +0.0009 | X1^2 X2^2 X3 -0.0000 | X1^2 X2 X3^2 -0.0011 | X1^2 X3^3    -0.0002\n",
            "             X1 X2^4      -0.0023 | X1 X2^3 X3   +0.0009 | X1 X2^2 X3^2 -0.0005 | X1 X2 X3^3   +0.0009 | X1 X3^4      +0.0029\n",
            "             X2^5         -0.0019 | X2^4 X3      -0.0004 | X2^3 X3^2    -0.0008 | X2^2 X3^3    +0.0030 | X2 X3^4      +0.0009\n",
            "             X3^5         +0.0004 |                      |                      |                      |                     \n"
          ],
          "name": "stdout"
        }
      ]
    },
    {
      "cell_type": "markdown",
      "metadata": {
        "id": "z2d8zG7uwgUX",
        "colab_type": "text"
      },
      "source": [
        "## Polynomial Regression &lt;Minibatch GD&gt; (Prob 5)\n",
        "\n",
        "$$\\nabla_\\theta J(\\theta) = X^T(X\\theta - y)$$"
      ]
    },
    {
      "cell_type": "code",
      "metadata": {
        "id": "xg6W1g-xwf9T",
        "colab_type": "code",
        "outputId": "8512e895-6341-4b54-a121-6b4a2fd0e3c9",
        "colab": {
          "base_uri": "https://localhost:8080/",
          "height": 871
        }
      },
      "source": [
        "def train_polynomial_minibatch(*args, **kwargs):\n",
        "    def polynomial_minibatch_gradient(batch_x, batch_y, theta):\n",
        "        return np.dot(\n",
        "                batch_x.T,\n",
        "                np.dot(batch_x, theta) - np.reshape(batch_y, (-1, 1))\n",
        "            )\n",
        "    \n",
        "    return minibatch(\n",
        "        polynomial_minibatch_gradient,\n",
        "        *args,\n",
        "        **kwargs\n",
        "    )\n",
        "\n",
        "poly_gd_theta, poly_gd_data = train_polynomial_minibatch(\n",
        "    lr=0.000075, epochs=6000\n",
        ")\n",
        "pretty_print(\"Polynomial, Minibatch GD\", poly_gd_theta)\n",
        "minibatch_plot(poly_gd_data)"
      ],
      "execution_count": 15,
      "outputs": [
        {
          "output_type": "stream",
          "text": [
            "Epoch:   0, Train Loss: 24.1405, Val Loss: 24.0079\n",
            "Epoch: 300, Train Loss: 1.3890, Val Loss: 1.3431\n",
            "Epoch: 600, Train Loss: 1.2776, Val Loss: 1.2114\n",
            "Epoch: 900, Train Loss: 1.1954, Val Loss: 1.1463\n",
            "Epoch: 1200, Train Loss: 1.1564, Val Loss: 1.1086\n",
            "Epoch: 1500, Train Loss: 1.1311, Val Loss: 1.0905\n",
            "Epoch: 1800, Train Loss: 1.1190, Val Loss: 1.0695\n",
            "Epoch: 2100, Train Loss: 1.0810, Val Loss: 1.0417\n",
            "Epoch: 2400, Train Loss: 1.0681, Val Loss: 1.0258\n",
            "Epoch: 2700, Train Loss: 1.0704, Val Loss: 1.0268\n",
            "Epoch: 3000, Train Loss: 1.0532, Val Loss: 1.0068\n",
            "Epoch: 3300, Train Loss: 1.0373, Val Loss: 0.9921\n",
            "Epoch: 3600, Train Loss: 1.0345, Val Loss: 0.9900\n",
            "Epoch: 3900, Train Loss: 1.0301, Val Loss: 0.9907\n",
            "Epoch: 4200, Train Loss: 1.0247, Val Loss: 0.9810\n",
            "Epoch: 4500, Train Loss: 1.0191, Val Loss: 0.9799\n",
            "Epoch: 4800, Train Loss: 1.0191, Val Loss: 0.9798\n",
            "Epoch: 5100, Train Loss: 1.0157, Val Loss: 0.9766\n",
            "Epoch: 5400, Train Loss: 1.0176, Val Loss: 0.9765\n",
            "Epoch: 5700, Train Loss: 1.0125, Val Loss: 0.9753\n",
            "== Polynomial, Minibatch GD ==\n",
            "Loss       : 1.0496\n",
            "Parameters :\n",
            "             1            +1.5810 | X1           +1.0099 | X2           -0.1327 | X3           +0.1259 | X1^2         +0.5885\n",
            "             X1 X2        +0.0011 | X1 X3        -0.0045 | X2^2         +0.5889 | X2 X3        -0.0112 | X3^2         +0.0697\n",
            "             X1^3         +0.2240 | X1^2 X2      +0.0101 | X1^2 X3      -0.0038 | X1 X2^2      +0.0344 | X1 X2 X3     -0.0037\n",
            "             X1 X3^2      -0.0227 | X2^3         +0.0376 | X2^2 X3      -0.0217 | X2 X3^2      +0.0111 | X3^3         -0.0368\n",
            "             X1^4         -0.0049 | X1^3 X2      +0.0004 | X1^3 X3      -0.0005 | X1^2 X2^2    -0.0052 | X1^2 X2 X3   +0.0026\n",
            "             X1^2 X3^2    -0.0035 | X1 X2^3      -0.0006 | X1 X2^2 X3   +0.0014 | X1 X2 X3^2   -0.0012 | X1 X3^3      -0.0007\n",
            "             X2^4         -0.0060 | X2^3 X3      +0.0003 | X2^2 X3^2    -0.0054 | X2 X3^3      +0.0025 | X3^4         -0.0046\n",
            "             X1^5         +0.0036 | X1^4 X2      -0.0009 | X1^4 X3      -0.0007 | X1^3 X2^2    -0.0015 | X1^3 X2 X3   -0.0008\n",
            "             X1^3 X3^2    -0.0000 | X1^2 X2^3    -0.0003 | X1^2 X2^2 X3 -0.0000 | X1^2 X2 X3^2 -0.0016 | X1^2 X3^3    +0.0002\n",
            "             X1 X2^4      -0.0025 | X1 X2^3 X3   +0.0006 | X1 X2^2 X3^2 -0.0014 | X1 X2 X3^3   +0.0012 | X1 X3^4      +0.0014\n",
            "             X2^5         -0.0031 | X2^4 X3      +0.0008 | X2^3 X3^2    -0.0021 | X2^2 X3^3    +0.0044 | X2 X3^4      +0.0003\n",
            "             X3^5         +0.0020 |                      |                      |                      |                     \n"
          ],
          "name": "stdout"
        },
        {
          "output_type": "display_data",
          "data": {
            "image/png": "[encoded data removed]",
            "text/plain": [
              "<Figure size 432x288 with 1 Axes>"
            ]
          },
          "metadata": {
            "tags": []
          }
        }
      ]
    },
    {
      "cell_type": "markdown",
      "metadata": {
        "id": "QAah4YIUUvfP",
        "colab_type": "text"
      },
      "source": [
        "## Ridge Regression &lt;Minibatch GD&gt; (Prob 6)\n"
      ]
    },
    {
      "cell_type": "markdown",
      "metadata": {
        "id": "wi7k5aV4-F2c",
        "colab_type": "text"
      },
      "source": [
        "### Gradient Function\n",
        "\n",
        "\n",
        "$$\\nabla_\\theta J(\\theta) = X^T(X\\theta - y) + \\alpha \\theta_R$$"
      ]
    },
    {
      "cell_type": "code",
      "metadata": {
        "id": "jwJMS5yxwjzl",
        "colab_type": "code",
        "colab": {}
      },
      "source": [
        "def ridge_minibatch_gradient_alpha(alpha):\n",
        "    def ridge_minibatch_gradient(batch_x, batch_y, theta):\n",
        "        zero_ones = np.asarray([0] + [1] * (batch_x.shape[1] - 1))\n",
        "        theta_r = zero_ones * theta.squeeze()\n",
        "        theta_r = np.reshape(theta_r, (theta_r.shape[0], 1))\n",
        "\n",
        "        return np.dot(\n",
        "                batch_x.T,\n",
        "                np.dot(batch_x, theta) - np.reshape(batch_y, (-1, 1))\n",
        "            ) + alpha * theta_r\n",
        "    \n",
        "    return ridge_minibatch_gradient\n"
      ],
      "execution_count": 0,
      "outputs": []
    },
    {
      "cell_type": "markdown",
      "metadata": {
        "id": "tPJEyQqS-QOf",
        "colab_type": "text"
      },
      "source": [
        "### Adjusting hyperparameter $\\alpha$"
      ]
    },
    {
      "cell_type": "code",
      "metadata": {
        "id": "q8wlfGhM-YEu",
        "colab_type": "code",
        "outputId": "2ca2e06a-2d04-44d8-f701-78160d04d490",
        "colab": {
          "base_uri": "https://localhost:8080/",
          "height": 336
        }
      },
      "source": [
        "ridge_best_alpha = try_alpha_skl (\n",
        "    regularization_type='l2',\n",
        "    lr=0.000005, epochs=6000,\n",
        "    iteration=5, set_iteration=6,\n",
        "    max_depth=3, alpha_step=4\n",
        ")\n",
        "\n",
        "print(\"Best Alpha: %.4f\" % ridge_best_alpha)\n"
      ],
      "execution_count": 17,
      "outputs": [
        {
          "output_type": "stream",
          "text": [
            "Examining Alpha for 0.0000, 0.1000\n",
            "Alpha 0.0000 > Min Loss 1.2538, Avg Loss 1.3243, Score 1.3172\n",
            "Alpha 0.0333 > Min Loss 1.2458, Avg Loss 1.3276, Score 1.3194\n",
            "Alpha 0.0667 > Min Loss 1.2576, Avg Loss 1.3297, Score 1.3225\n",
            "Alpha 0.1000 > Min Loss 1.2452, Avg Loss 1.3338, Score 1.3249\n",
            "\n",
            "Examining Alpha for 0.0000, 0.0125\n",
            "Alpha 0.0000 > Min Loss 1.2255, Avg Loss 1.3223, Score 1.3126\n",
            "Alpha 0.0042 > Min Loss 1.2505, Avg Loss 1.3191, Score 1.3123\n",
            "Alpha 0.0083 > Min Loss 1.2398, Avg Loss 1.3225, Score 1.3142\n",
            "Alpha 0.0125 > Min Loss 1.2464, Avg Loss 1.3223, Score 1.3147\n",
            "\n",
            "Examining Alpha for 0.0026, 0.0057\n",
            "Alpha 0.0026 > Min Loss 1.2507, Avg Loss 1.3230, Score 1.3158\n",
            "Alpha 0.0036 > Min Loss 1.2336, Avg Loss 1.3183, Score 1.3098\n",
            "Alpha 0.0047 > Min Loss 1.2580, Avg Loss 1.3204, Score 1.3142\n",
            "Alpha 0.0057 > Min Loss 1.2546, Avg Loss 1.3233, Score 1.3165\n",
            "\n",
            "Best Alpha: 0.0036\n"
          ],
          "name": "stdout"
        }
      ]
    },
    {
      "cell_type": "markdown",
      "metadata": {
        "id": "S3hBL4tZ-cr6",
        "colab_type": "text"
      },
      "source": [
        "### Fitting the model"
      ]
    },
    {
      "cell_type": "code",
      "metadata": {
        "id": "nznXOp4Q-gxo",
        "colab_type": "code",
        "outputId": "75be521a-c1ea-466f-de55-f7d3da6c5523",
        "colab": {
          "base_uri": "https://localhost:8080/",
          "height": 871
        }
      },
      "source": [
        "ridge_gd_theta, ridge_gd_data = minibatch (\n",
        "    ridge_minibatch_gradient_alpha(ridge_best_alpha),\n",
        "    lr=0.000075, epochs=6000\n",
        ")\n",
        "\n",
        "pretty_print(\"Ridge, Minibatch GD\", ridge_gd_theta)\n",
        "minibatch_plot(ridge_gd_data)"
      ],
      "execution_count": 18,
      "outputs": [
        {
          "output_type": "stream",
          "text": [
            "Epoch:   0, Train Loss: 18.5065, Val Loss: 19.5165\n",
            "Epoch: 300, Train Loss: 1.3163, Val Loss: 1.2732\n",
            "Epoch: 600, Train Loss: 1.1994, Val Loss: 1.1612\n",
            "Epoch: 900, Train Loss: 1.1046, Val Loss: 1.0684\n",
            "Epoch: 1200, Train Loss: 1.0949, Val Loss: 1.0556\n",
            "Epoch: 1500, Train Loss: 1.0692, Val Loss: 1.0300\n",
            "Epoch: 1800, Train Loss: 1.0563, Val Loss: 1.0190\n",
            "Epoch: 2100, Train Loss: 1.0453, Val Loss: 1.0046\n",
            "Epoch: 2400, Train Loss: 1.0494, Val Loss: 1.0112\n",
            "Epoch: 2700, Train Loss: 1.0240, Val Loss: 0.9809\n",
            "Epoch: 3000, Train Loss: 1.0345, Val Loss: 0.9906\n",
            "Epoch: 3300, Train Loss: 1.0393, Val Loss: 1.0032\n",
            "Epoch: 3600, Train Loss: 1.0254, Val Loss: 0.9831\n",
            "Epoch: 3900, Train Loss: 1.0166, Val Loss: 0.9788\n",
            "Epoch: 4200, Train Loss: 1.0149, Val Loss: 0.9747\n",
            "Epoch: 4500, Train Loss: 1.0176, Val Loss: 0.9753\n",
            "Epoch: 4800, Train Loss: 1.0350, Val Loss: 0.9939\n",
            "Epoch: 5100, Train Loss: 1.0098, Val Loss: 0.9672\n",
            "Epoch: 5400, Train Loss: 1.0263, Val Loss: 0.9923\n",
            "Epoch: 5700, Train Loss: 1.0135, Val Loss: 0.9691\n",
            "==== Ridge, Minibatch GD =====\n",
            "Loss       : 1.0476\n",
            "Parameters :\n",
            "             1            +1.8899 | X1           +0.8898 | X2           -0.0657 | X3           +0.0150 | X1^2         +0.5197\n",
            "             X1 X2        +0.0009 | X1 X3        -0.0059 | X2^2         +0.5205 | X2 X3        -0.0080 | X3^2         +0.0012\n",
            "             X1^3         +0.2554 | X1^2 X2      +0.0017 | X1^2 X3      +0.0094 | X1 X2^2      +0.0479 | X1 X2 X3     -0.0066\n",
            "             X1 X3^2      -0.0087 | X2^3         +0.0200 | X2^2 X3      -0.0083 | X2 X3^2      +0.0042 | X3^3         -0.0084\n",
            "             X1^4         -0.0010 | X1^3 X2      -0.0001 | X1^3 X3      -0.0004 | X1^2 X2^2    -0.0014 | X1^2 X2 X3   +0.0017\n",
            "             X1^2 X3^2    +0.0001 | X1 X2^3      -0.0009 | X1 X2^2 X3   +0.0017 | X1 X2 X3^2   -0.0013 | X1 X3^3      -0.0009\n",
            "             X2^4         -0.0007 | X2^3 X3      -0.0001 | X2^2 X3^2    -0.0009 | X2 X3^3      +0.0022 | X3^4         +0.0002\n",
            "             X1^5         +0.0010 | X1^4 X2      -0.0010 | X1^4 X3      +0.0001 | X1^3 X2^2    -0.0032 | X1^3 X2 X3   -0.0017\n",
            "             X1^3 X3^2    -0.0006 | X1^2 X2^3    -0.0003 | X1^2 X2^2 X3 +0.0002 | X1^2 X2 X3^2 -0.0022 | X1^2 X3^3    -0.0001\n",
            "             X1 X2^4      -0.0036 | X1 X2^3 X3   +0.0004 | X1 X2^2 X3^2 -0.0016 | X1 X2 X3^3   -0.0001 | X1 X3^4      +0.0010\n",
            "             X2^5         -0.0026 | X2^4 X3      -0.0001 | X2^3 X3^2    -0.0010 | X2^2 X3^3    +0.0026 | X2 X3^4      +0.0005\n",
            "             X3^5         -0.0000 |                      |                      |                      |                     \n"
          ],
          "name": "stdout"
        },
        {
          "output_type": "display_data",
          "data": {
            "image/png": "[encoded data removed]",
            "text/plain": [
              "<Figure size 432x288 with 1 Axes>"
            ]
          },
          "metadata": {
            "tags": []
          }
        }
      ]
    },
    {
      "cell_type": "markdown",
      "metadata": {
        "id": "M8V_3Te_vrP4",
        "colab_type": "text"
      },
      "source": [
        "## Lasso Regression &lt;Minibatch GD&gt; (Prob 7)"
      ]
    },
    {
      "cell_type": "markdown",
      "metadata": {
        "id": "ctEArGFzvwvN",
        "colab_type": "text"
      },
      "source": [
        "### Gradient Function\n",
        "$$\\nabla_\\theta J(\\theta) = X^T (X\\theta - y) + \\alpha \\theta_L$$\n",
        "$$\\theta_L = [0, sign(\\theta_1), sign(\\theta_2), ..., sign(\\theta_{n-1})]^T$$"
      ]
    },
    {
      "cell_type": "code",
      "metadata": {
        "id": "eIy9kUtlwRDv",
        "colab_type": "code",
        "colab": {}
      },
      "source": [
        "def lasso_minibatch_gradient_alpha(alpha):\n",
        "    def lasso_minibatch_gradient(batch_x, batch_y, theta):\n",
        "        theta_L = np.sign(theta)\n",
        "        theta_L[0] = 0\n",
        "\n",
        "        return np.dot(\n",
        "                batch_x.T,\n",
        "                np.dot(batch_x, theta) - np.reshape(batch_y, (-1, 1))\n",
        "            ) + alpha * theta_L\n",
        "    \n",
        "    return lasso_minibatch_gradient\n"
      ],
      "execution_count": 0,
      "outputs": []
    },
    {
      "cell_type": "markdown",
      "metadata": {
        "id": "r3JmHyc-w7OD",
        "colab_type": "text"
      },
      "source": [
        "### Adjusting hyperparameter $\\alpha$"
      ]
    },
    {
      "cell_type": "code",
      "metadata": {
        "id": "N6n6qpFPw_kZ",
        "colab_type": "code",
        "outputId": "c3e25564-4d99-4739-c204-7f0572405933",
        "colab": {
          "base_uri": "https://localhost:8080/",
          "height": 336
        }
      },
      "source": [
        "lasso_best_alpha = try_alpha_skl (\n",
        "    regularization_type='l1',\n",
        "    lr=0.000005, epochs=6000,\n",
        "    iteration=5, set_iteration=6, max_depth=3, alpha_step=4\n",
        ")\n",
        "\n",
        "print(\"Best Alpha: %.4f\" % lasso_best_alpha)\n"
      ],
      "execution_count": 20,
      "outputs": [
        {
          "output_type": "stream",
          "text": [
            "Examining Alpha for 0.0000, 0.1000\n",
            "Alpha 0.0000 > Min Loss 1.2410, Avg Loss 1.3197, Score 1.3118\n",
            "Alpha 0.0333 > Min Loss 1.2617, Avg Loss 1.3468, Score 1.3383\n",
            "Alpha 0.0667 > Min Loss 1.2839, Avg Loss 1.3590, Score 1.3515\n",
            "Alpha 0.1000 > Min Loss 1.3014, Avg Loss 1.3721, Score 1.3650\n",
            "\n",
            "Examining Alpha for 0.0000, 0.0125\n",
            "Alpha 0.0000 > Min Loss 1.2641, Avg Loss 1.3206, Score 1.3149\n",
            "Alpha 0.0042 > Min Loss 1.2438, Avg Loss 1.3230, Score 1.3150\n",
            "Alpha 0.0083 > Min Loss 1.2526, Avg Loss 1.3264, Score 1.3190\n",
            "Alpha 0.0125 > Min Loss 1.2622, Avg Loss 1.3258, Score 1.3195\n",
            "\n",
            "Examining Alpha for 0.0000, 0.0016\n",
            "Alpha 0.0000 > Min Loss 1.2532, Avg Loss 1.3252, Score 1.3180\n",
            "Alpha 0.0005 > Min Loss 1.2441, Avg Loss 1.3216, Score 1.3138\n",
            "Alpha 0.0010 > Min Loss 1.2531, Avg Loss 1.3167, Score 1.3104\n",
            "Alpha 0.0016 > Min Loss 1.2675, Avg Loss 1.3243, Score 1.3187\n",
            "\n",
            "Best Alpha: 0.0010\n"
          ],
          "name": "stdout"
        }
      ]
    },
    {
      "cell_type": "markdown",
      "metadata": {
        "id": "ADoaf60byjnm",
        "colab_type": "text"
      },
      "source": [
        "### Fitting the model"
      ]
    },
    {
      "cell_type": "code",
      "metadata": {
        "id": "qlUg2JHlyl-6",
        "colab_type": "code",
        "outputId": "bcef9059-b6bb-45a7-e657-648a50808075",
        "colab": {
          "base_uri": "https://localhost:8080/",
          "height": 871
        }
      },
      "source": [
        "lasso_gd_theta, lasso_gd_data = minibatch (\n",
        "    lasso_minibatch_gradient_alpha(lasso_best_alpha),\n",
        "    lr=0.000075, epochs=6000\n",
        ")\n",
        "\n",
        "pretty_print(\"Lasso, Minibatch GD\", lasso_gd_theta)\n",
        "minibatch_plot(lasso_gd_data)"
      ],
      "execution_count": 21,
      "outputs": [
        {
          "output_type": "stream",
          "text": [
            "Epoch:   0, Train Loss: 22.4153, Val Loss: 21.3459\n",
            "Epoch: 300, Train Loss: 1.3817, Val Loss: 1.3335\n",
            "Epoch: 600, Train Loss: 1.2509, Val Loss: 1.2175\n",
            "Epoch: 900, Train Loss: 1.2109, Val Loss: 1.1805\n",
            "Epoch: 1200, Train Loss: 1.1692, Val Loss: 1.1329\n",
            "Epoch: 1500, Train Loss: 1.1220, Val Loss: 1.0875\n",
            "Epoch: 1800, Train Loss: 1.1019, Val Loss: 1.0629\n",
            "Epoch: 2100, Train Loss: 1.0809, Val Loss: 1.0510\n",
            "Epoch: 2400, Train Loss: 1.0671, Val Loss: 1.0291\n",
            "Epoch: 2700, Train Loss: 1.0516, Val Loss: 1.0071\n",
            "Epoch: 3000, Train Loss: 1.0446, Val Loss: 0.9997\n",
            "Epoch: 3300, Train Loss: 1.0354, Val Loss: 1.0003\n",
            "Epoch: 3600, Train Loss: 1.0455, Val Loss: 1.0022\n",
            "Epoch: 3900, Train Loss: 1.0279, Val Loss: 0.9898\n",
            "Epoch: 4200, Train Loss: 1.0217, Val Loss: 0.9837\n",
            "Epoch: 4500, Train Loss: 1.0154, Val Loss: 0.9734\n",
            "Epoch: 4800, Train Loss: 1.0197, Val Loss: 0.9731\n",
            "Epoch: 5100, Train Loss: 1.0141, Val Loss: 0.9781\n",
            "Epoch: 5400, Train Loss: 1.0235, Val Loss: 0.9784\n",
            "Epoch: 5700, Train Loss: 1.0169, Val Loss: 0.9771\n",
            "==== Lasso, Minibatch GD =====\n",
            "Loss       : 1.0483\n",
            "Parameters :\n",
            "             1            +1.6821 | X1           +0.8857 | X2           -0.0926 | X3           +0.1114 | X1^2         +0.5657\n",
            "             X1 X2        +0.0011 | X1 X3        -0.0042 | X2^2         +0.5670 | X2 X3        -0.0090 | X3^2         +0.0465\n",
            "             X1^3         +0.2564 | X1^2 X2      +0.0053 | X1^2 X3      -0.0017 | X1 X2^2      +0.0482 | X1 X2 X3     -0.0055\n",
            "             X1 X3^2      -0.0083 | X2^3         +0.0271 | X2^2 X3      -0.0189 | X2 X3^2      +0.0075 | X3^3         -0.0333\n",
            "             X1^4         -0.0040 | X1^3 X2      +0.0004 | X1^3 X3      -0.0008 | X1^2 X2^2    -0.0039 | X1^2 X2 X3   +0.0018\n",
            "             X1^2 X3^2    -0.0021 | X1 X2^3      -0.0009 | X1 X2^2 X3   +0.0015 | X1 X2 X3^2   -0.0014 | X1 X3^3      -0.0009\n",
            "             X2^4         -0.0038 | X2^3 X3      +0.0002 | X2^2 X3^2    -0.0033 | X2 X3^3      +0.0022 | X3^4         -0.0027\n",
            "             X1^5         +0.0009 | X1^4 X2      -0.0008 | X1^4 X3      +0.0006 | X1^3 X2^2    -0.0022 | X1^3 X2 X3   -0.0008\n",
            "             X1^3 X3^2    -0.0007 | X1^2 X2^3    +0.0008 | X1^2 X2^2 X3 +0.0004 | X1^2 X2 X3^2 -0.0020 | X1^2 X3^3    +0.0010\n",
            "             X1 X2^4      -0.0031 | X1 X2^3 X3   +0.0008 | X1 X2^2 X3^2 -0.0016 | X1 X2 X3^3   +0.0011 | X1 X3^4      +0.0012\n",
            "             X2^5         -0.0013 | X2^4 X3      -0.0007 | X2^3 X3^2    -0.0009 | X2^2 X3^3    +0.0033 | X2 X3^4      +0.0004\n",
            "             X3^5         +0.0019 |                      |                      |                      |                     \n"
          ],
          "name": "stdout"
        },
        {
          "output_type": "display_data",
          "data": {
            "image/png": "[encoded data removed]",
            "text/plain": [
              "<Figure size 432x288 with 1 Axes>"
            ]
          },
          "metadata": {
            "tags": []
          }
        }
      ]
    }
  ]
}